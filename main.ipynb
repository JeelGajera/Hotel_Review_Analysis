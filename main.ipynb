{
 "cells": [
  {
   "cell_type": "code",
   "execution_count": 378,
   "metadata": {},
   "outputs": [],
   "source": [
    "import pandas as pd\n",
    "\n",
    "data = pd.read_csv(\"./data.csv\")"
   ]
  },
  {
   "cell_type": "markdown",
   "metadata": {},
   "source": [
    "## Hotel Review Data Info"
   ]
  },
  {
   "cell_type": "code",
   "execution_count": 379,
   "metadata": {},
   "outputs": [
    {
     "name": "stdout",
     "output_type": "stream",
     "text": [
      "<class 'pandas.core.frame.DataFrame'>\n",
      "RangeIndex: 6448 entries, 0 to 6447\n",
      "Data columns (total 3 columns):\n",
      " #   Column    Non-Null Count  Dtype \n",
      "---  ------    --------------  ----- \n",
      " 0   Review    6393 non-null   object\n",
      " 1   date      6448 non-null   object\n",
      " 2   Location  1711 non-null   object\n",
      "dtypes: object(3)\n",
      "memory usage: 151.3+ KB\n"
     ]
    }
   ],
   "source": [
    "data.info()"
   ]
  },
  {
   "cell_type": "code",
   "execution_count": 380,
   "metadata": {},
   "outputs": [
    {
     "data": {
      "text/html": [
       "<div>\n",
       "<style scoped>\n",
       "    .dataframe tbody tr th:only-of-type {\n",
       "        vertical-align: middle;\n",
       "    }\n",
       "\n",
       "    .dataframe tbody tr th {\n",
       "        vertical-align: top;\n",
       "    }\n",
       "\n",
       "    .dataframe thead th {\n",
       "        text-align: right;\n",
       "    }\n",
       "</style>\n",
       "<table border=\"1\" class=\"dataframe\">\n",
       "  <thead>\n",
       "    <tr style=\"text-align: right;\">\n",
       "      <th></th>\n",
       "      <th>Review</th>\n",
       "      <th>date</th>\n",
       "      <th>Location</th>\n",
       "    </tr>\n",
       "  </thead>\n",
       "  <tbody>\n",
       "    <tr>\n",
       "      <th>count</th>\n",
       "      <td>6393</td>\n",
       "      <td>6448</td>\n",
       "      <td>1711</td>\n",
       "    </tr>\n",
       "    <tr>\n",
       "      <th>unique</th>\n",
       "      <td>6384</td>\n",
       "      <td>403</td>\n",
       "      <td>1082</td>\n",
       "    </tr>\n",
       "    <tr>\n",
       "      <th>top</th>\n",
       "      <td>Amazing\\n  \\n  Read more\\n  Read less</td>\n",
       "      <td>Jun 2019</td>\n",
       "      <td>United States of America</td>\n",
       "    </tr>\n",
       "    <tr>\n",
       "      <th>freq</th>\n",
       "      <td>4</td>\n",
       "      <td>145</td>\n",
       "      <td>116</td>\n",
       "    </tr>\n",
       "  </tbody>\n",
       "</table>\n",
       "</div>"
      ],
      "text/plain": [
       "                                       Review      date  \\\n",
       "count                                    6393      6448   \n",
       "unique                                   6384       403   \n",
       "top     Amazing\\n  \\n  Read more\\n  Read less  Jun 2019   \n",
       "freq                                        4       145   \n",
       "\n",
       "                        Location  \n",
       "count                       1711  \n",
       "unique                      1082  \n",
       "top     United States of America  \n",
       "freq                         116  "
      ]
     },
     "execution_count": 380,
     "metadata": {},
     "output_type": "execute_result"
    }
   ],
   "source": [
    "data.describe()"
   ]
  },
  {
   "cell_type": "code",
   "execution_count": 381,
   "metadata": {},
   "outputs": [
    {
     "data": {
      "text/plain": [
       "Review        55\n",
       "date           0\n",
       "Location    4737\n",
       "dtype: int64"
      ]
     },
     "execution_count": 381,
     "metadata": {},
     "output_type": "execute_result"
    }
   ],
   "source": [
    "data.isnull().sum()"
   ]
  },
  {
   "cell_type": "markdown",
   "metadata": {},
   "source": [
    "## Data Pre-Processing "
   ]
  },
  {
   "cell_type": "markdown",
   "metadata": {},
   "source": [
    "remove unnecessary words from review columns"
   ]
  },
  {
   "cell_type": "code",
   "execution_count": 382,
   "metadata": {},
   "outputs": [],
   "source": [
    "def remove_phrases(text):\n",
    "    # Remove \"Read more\" and \"Read less\" phrases\n",
    "    return str(text).replace('Read more', '').replace('Read less', '').replace(\"\\n\", '')\n",
    "\n",
    "data['Review'] = data['Review'].apply(remove_phrases)\n"
   ]
  },
  {
   "cell_type": "markdown",
   "metadata": {},
   "source": [
    "remove null value records from data"
   ]
  },
  {
   "cell_type": "code",
   "execution_count": 383,
   "metadata": {},
   "outputs": [],
   "source": [
    "df = data.dropna()"
   ]
  },
  {
   "cell_type": "code",
   "execution_count": 384,
   "metadata": {},
   "outputs": [
    {
     "name": "stderr",
     "output_type": "stream",
     "text": [
      "C:\\Users\\JILL\\AppData\\Local\\Temp\\ipykernel_3212\\4096787722.py:2: SettingWithCopyWarning:\n",
      "\n",
      "\n",
      "A value is trying to be set on a copy of a slice from a DataFrame.\n",
      "Try using .loc[row_indexer,col_indexer] = value instead\n",
      "\n",
      "See the caveats in the documentation: https://pandas.pydata.org/pandas-docs/stable/user_guide/indexing.html#returning-a-view-versus-a-copy\n",
      "\n"
     ]
    }
   ],
   "source": [
    "# formate date\n",
    "df['date'] = pd.to_datetime(df['date'])"
   ]
  },
  {
   "cell_type": "code",
   "execution_count": 385,
   "metadata": {},
   "outputs": [
    {
     "data": {
      "text/html": [
       "<div>\n",
       "<style scoped>\n",
       "    .dataframe tbody tr th:only-of-type {\n",
       "        vertical-align: middle;\n",
       "    }\n",
       "\n",
       "    .dataframe tbody tr th {\n",
       "        vertical-align: top;\n",
       "    }\n",
       "\n",
       "    .dataframe thead th {\n",
       "        text-align: right;\n",
       "    }\n",
       "</style>\n",
       "<table border=\"1\" class=\"dataframe\">\n",
       "  <thead>\n",
       "    <tr style=\"text-align: right;\">\n",
       "      <th></th>\n",
       "      <th>date</th>\n",
       "    </tr>\n",
       "  </thead>\n",
       "  <tbody>\n",
       "    <tr>\n",
       "      <th>count</th>\n",
       "      <td>1711</td>\n",
       "    </tr>\n",
       "    <tr>\n",
       "      <th>mean</th>\n",
       "      <td>2019-02-14 10:09:19.672706048</td>\n",
       "    </tr>\n",
       "    <tr>\n",
       "      <th>min</th>\n",
       "      <td>2018-08-02 00:00:00</td>\n",
       "    </tr>\n",
       "    <tr>\n",
       "      <th>25%</th>\n",
       "      <td>2018-10-26 00:00:00</td>\n",
       "    </tr>\n",
       "    <tr>\n",
       "      <th>50%</th>\n",
       "      <td>2019-02-16 00:00:00</td>\n",
       "    </tr>\n",
       "    <tr>\n",
       "      <th>75%</th>\n",
       "      <td>2019-06-11 12:00:00</td>\n",
       "    </tr>\n",
       "    <tr>\n",
       "      <th>max</th>\n",
       "      <td>2019-08-20 00:00:00</td>\n",
       "    </tr>\n",
       "  </tbody>\n",
       "</table>\n",
       "</div>"
      ],
      "text/plain": [
       "                                date\n",
       "count                           1711\n",
       "mean   2019-02-14 10:09:19.672706048\n",
       "min              2018-08-02 00:00:00\n",
       "25%              2018-10-26 00:00:00\n",
       "50%              2019-02-16 00:00:00\n",
       "75%              2019-06-11 12:00:00\n",
       "max              2019-08-20 00:00:00"
      ]
     },
     "execution_count": 385,
     "metadata": {},
     "output_type": "execute_result"
    }
   ],
   "source": [
    "df.describe()"
   ]
  },
  {
   "cell_type": "code",
   "execution_count": 386,
   "metadata": {},
   "outputs": [
    {
     "data": {
      "text/html": [
       "<div>\n",
       "<style scoped>\n",
       "    .dataframe tbody tr th:only-of-type {\n",
       "        vertical-align: middle;\n",
       "    }\n",
       "\n",
       "    .dataframe tbody tr th {\n",
       "        vertical-align: top;\n",
       "    }\n",
       "\n",
       "    .dataframe thead th {\n",
       "        text-align: right;\n",
       "    }\n",
       "</style>\n",
       "<table border=\"1\" class=\"dataframe\">\n",
       "  <thead>\n",
       "    <tr style=\"text-align: right;\">\n",
       "      <th></th>\n",
       "      <th>Review</th>\n",
       "      <th>date</th>\n",
       "      <th>Location</th>\n",
       "    </tr>\n",
       "  </thead>\n",
       "  <tbody>\n",
       "    <tr>\n",
       "      <th>0</th>\n",
       "      <td>I was very impressed with the resort. Great st...</td>\n",
       "      <td>2019-08-20</td>\n",
       "      <td>Sebastian</td>\n",
       "    </tr>\n",
       "    <tr>\n",
       "      <th>1</th>\n",
       "      <td>The rooms were nice the outside needs work als...</td>\n",
       "      <td>2019-08-20</td>\n",
       "      <td>Los Angeles</td>\n",
       "    </tr>\n",
       "    <tr>\n",
       "      <th>2</th>\n",
       "      <td>Great location! I have stayed at this hotel on...</td>\n",
       "      <td>2019-08-20</td>\n",
       "      <td>Georgia</td>\n",
       "    </tr>\n",
       "    <tr>\n",
       "      <th>4</th>\n",
       "      <td>Great location, room was large and spacious. P...</td>\n",
       "      <td>2019-08-19</td>\n",
       "      <td>Palm Harbor</td>\n",
       "    </tr>\n",
       "    <tr>\n",
       "      <th>10</th>\n",
       "      <td>Very clean and friendly and I love the locatio...</td>\n",
       "      <td>2019-08-19</td>\n",
       "      <td>California</td>\n",
       "    </tr>\n",
       "  </tbody>\n",
       "</table>\n",
       "</div>"
      ],
      "text/plain": [
       "                                               Review       date     Location\n",
       "0   I was very impressed with the resort. Great st... 2019-08-20    Sebastian\n",
       "1   The rooms were nice the outside needs work als... 2019-08-20  Los Angeles\n",
       "2   Great location! I have stayed at this hotel on... 2019-08-20      Georgia\n",
       "4   Great location, room was large and spacious. P... 2019-08-19  Palm Harbor\n",
       "10  Very clean and friendly and I love the locatio... 2019-08-19   California"
      ]
     },
     "execution_count": 386,
     "metadata": {},
     "output_type": "execute_result"
    }
   ],
   "source": [
    "df.head()"
   ]
  },
  {
   "cell_type": "markdown",
   "metadata": {},
   "source": [
    "##  Sentiment Analysis\n",
    "Predicting whether a review is positive or negative using the Natural Language Toolkit (NLTK) library."
   ]
  },
  {
   "cell_type": "code",
   "execution_count": 387,
   "metadata": {},
   "outputs": [
    {
     "name": "stderr",
     "output_type": "stream",
     "text": [
      "[nltk_data] Downloading package stopwords to\n",
      "[nltk_data]     C:\\Users\\JILL\\AppData\\Roaming\\nltk_data...\n",
      "[nltk_data]   Package stopwords is already up-to-date!\n",
      "[nltk_data] Downloading package punkt to\n",
      "[nltk_data]     C:\\Users\\JILL\\AppData\\Roaming\\nltk_data...\n",
      "[nltk_data]   Package punkt is already up-to-date!\n",
      "[nltk_data] Downloading package vader_lexicon to\n",
      "[nltk_data]     C:\\Users\\JILL\\AppData\\Roaming\\nltk_data...\n",
      "[nltk_data]   Package vader_lexicon is already up-to-date!\n"
     ]
    },
    {
     "data": {
      "text/plain": [
       "True"
      ]
     },
     "execution_count": 387,
     "metadata": {},
     "output_type": "execute_result"
    }
   ],
   "source": [
    "import nltk\n",
    "from nltk.corpus import stopwords\n",
    "from nltk.tokenize import word_tokenize\n",
    "from nltk.stem import PorterStemmer\n",
    "from nltk.sentiment import SentimentIntensityAnalyzer\n",
    "\n",
    "nltk.download('stopwords')\n",
    "nltk.download('punkt')\n",
    "nltk.download('vader_lexicon')"
   ]
  },
  {
   "cell_type": "code",
   "execution_count": 388,
   "metadata": {},
   "outputs": [
    {
     "name": "stderr",
     "output_type": "stream",
     "text": [
      "C:\\Users\\JILL\\AppData\\Local\\Temp\\ipykernel_3212\\3247786412.py:21: SettingWithCopyWarning:\n",
      "\n",
      "\n",
      "A value is trying to be set on a copy of a slice from a DataFrame.\n",
      "Try using .loc[row_indexer,col_indexer] = value instead\n",
      "\n",
      "See the caveats in the documentation: https://pandas.pydata.org/pandas-docs/stable/user_guide/indexing.html#returning-a-view-versus-a-copy\n",
      "\n"
     ]
    }
   ],
   "source": [
    "def preprocess_text(text):\n",
    "    # Convert to lowercase\n",
    "    text = text.lower()\n",
    "\n",
    "    # Remove punctuation and numbers\n",
    "    text = ''.join([char for char in text if char.isalpha() or char.isspace()])\n",
    "\n",
    "    # Tokenize the text\n",
    "    tokens = word_tokenize(text)\n",
    "\n",
    "    # Remove stopwords\n",
    "    stop_words = set(stopwords.words('english'))\n",
    "    tokens = [word for word in tokens if word not in stop_words]\n",
    "\n",
    "    # Stemming\n",
    "    stemmer = PorterStemmer()\n",
    "    tokens = [stemmer.stem(word) for word in tokens]\n",
    "\n",
    "    return ' '.join(tokens)\n",
    "\n",
    "df['Review'] = df['Review'].apply(preprocess_text)\n"
   ]
  },
  {
   "cell_type": "code",
   "execution_count": 389,
   "metadata": {},
   "outputs": [
    {
     "name": "stderr",
     "output_type": "stream",
     "text": [
      "C:\\Users\\JILL\\AppData\\Local\\Temp\\ipykernel_3212\\1756568734.py:4: SettingWithCopyWarning:\n",
      "\n",
      "\n",
      "A value is trying to be set on a copy of a slice from a DataFrame.\n",
      "Try using .loc[row_indexer,col_indexer] = value instead\n",
      "\n",
      "See the caveats in the documentation: https://pandas.pydata.org/pandas-docs/stable/user_guide/indexing.html#returning-a-view-versus-a-copy\n",
      "\n",
      "C:\\Users\\JILL\\AppData\\Local\\Temp\\ipykernel_3212\\1756568734.py:6: SettingWithCopyWarning:\n",
      "\n",
      "\n",
      "A value is trying to be set on a copy of a slice from a DataFrame.\n",
      "Try using .loc[row_indexer,col_indexer] = value instead\n",
      "\n",
      "See the caveats in the documentation: https://pandas.pydata.org/pandas-docs/stable/user_guide/indexing.html#returning-a-view-versus-a-copy\n",
      "\n"
     ]
    }
   ],
   "source": [
    "sia = SentimentIntensityAnalyzer()\n",
    "positive_threshold = 0.2\n",
    "\n",
    "df['CompoundScore'] = df['Review'].apply(lambda x: sia.polarity_scores(x)['compound'])\n",
    "\n",
    "df['Sentiment'] = df['CompoundScore'].apply(lambda x: 1 if x >= positive_threshold else 0)\n",
    "\n",
    "# Group by 'Location' and calculate the total and positive review count\n",
    "location_review_counts = df.groupby('Location')['Sentiment'].agg(['count', 'sum']).reset_index()\n",
    "\n",
    "# percentage of positive reviews\n",
    "location_review_counts['PositivePercentage'] = (location_review_counts['sum'] / location_review_counts['count']) * 100\n",
    "# print(location_review_counts)"
   ]
  },
  {
   "cell_type": "code",
   "execution_count": 390,
   "metadata": {},
   "outputs": [
    {
     "data": {
      "text/html": [
       "<div>\n",
       "<style scoped>\n",
       "    .dataframe tbody tr th:only-of-type {\n",
       "        vertical-align: middle;\n",
       "    }\n",
       "\n",
       "    .dataframe tbody tr th {\n",
       "        vertical-align: top;\n",
       "    }\n",
       "\n",
       "    .dataframe thead th {\n",
       "        text-align: right;\n",
       "    }\n",
       "</style>\n",
       "<table border=\"1\" class=\"dataframe\">\n",
       "  <thead>\n",
       "    <tr style=\"text-align: right;\">\n",
       "      <th></th>\n",
       "      <th>Review</th>\n",
       "      <th>date</th>\n",
       "      <th>Location</th>\n",
       "      <th>CompoundScore</th>\n",
       "      <th>Sentiment</th>\n",
       "    </tr>\n",
       "  </thead>\n",
       "  <tbody>\n",
       "    <tr>\n",
       "      <th>0</th>\n",
       "      <td>impress resort great staff main resort pool ba...</td>\n",
       "      <td>2019-08-20</td>\n",
       "      <td>Sebastian</td>\n",
       "      <td>0.9300</td>\n",
       "      <td>1</td>\n",
       "    </tr>\n",
       "    <tr>\n",
       "      <th>1</th>\n",
       "      <td>room nice outsid need work also free breakfast...</td>\n",
       "      <td>2019-08-20</td>\n",
       "      <td>Los Angeles</td>\n",
       "      <td>0.8779</td>\n",
       "      <td>1</td>\n",
       "    </tr>\n",
       "    <tr>\n",
       "      <th>2</th>\n",
       "      <td>great locat stay hotel last three trip new york</td>\n",
       "      <td>2019-08-20</td>\n",
       "      <td>Georgia</td>\n",
       "      <td>0.6249</td>\n",
       "      <td>1</td>\n",
       "    </tr>\n",
       "    <tr>\n",
       "      <th>4</th>\n",
       "      <td>great locat room larg spaciou park easi apprec...</td>\n",
       "      <td>2019-08-19</td>\n",
       "      <td>Palm Harbor</td>\n",
       "      <td>0.6249</td>\n",
       "      <td>1</td>\n",
       "    </tr>\n",
       "    <tr>\n",
       "      <th>10</th>\n",
       "      <td>clean friendli love locat restaur insid excel ...</td>\n",
       "      <td>2019-08-19</td>\n",
       "      <td>California</td>\n",
       "      <td>0.8720</td>\n",
       "      <td>1</td>\n",
       "    </tr>\n",
       "  </tbody>\n",
       "</table>\n",
       "</div>"
      ],
      "text/plain": [
       "                                               Review       date     Location  \\\n",
       "0   impress resort great staff main resort pool ba... 2019-08-20    Sebastian   \n",
       "1   room nice outsid need work also free breakfast... 2019-08-20  Los Angeles   \n",
       "2     great locat stay hotel last three trip new york 2019-08-20      Georgia   \n",
       "4   great locat room larg spaciou park easi apprec... 2019-08-19  Palm Harbor   \n",
       "10  clean friendli love locat restaur insid excel ... 2019-08-19   California   \n",
       "\n",
       "    CompoundScore  Sentiment  \n",
       "0          0.9300          1  \n",
       "1          0.8779          1  \n",
       "2          0.6249          1  \n",
       "4          0.6249          1  \n",
       "10         0.8720          1  "
      ]
     },
     "execution_count": 390,
     "metadata": {},
     "output_type": "execute_result"
    }
   ],
   "source": [
    "df.head()"
   ]
  },
  {
   "cell_type": "markdown",
   "metadata": {},
   "source": [
    "## Exploratory Data Analysis (EDA):"
   ]
  },
  {
   "cell_type": "code",
   "execution_count": 391,
   "metadata": {},
   "outputs": [],
   "source": [
    "import matplotlib.pyplot as plt\n",
    "import seaborn as sns\n",
    "import plotly.express as px\n",
    "%matplotlib inline"
   ]
  },
  {
   "cell_type": "code",
   "execution_count": 392,
   "metadata": {},
   "outputs": [
    {
     "data": {
      "application/vnd.plotly.v1+json": {
       "config": {
        "plotlyServerURL": "https://plot.ly"
       },
       "data": [
        {
         "alignmentgroup": "True",
         "bingroup": "x",
         "hovertemplate": "Sentiment=%{x}<br>count=%{y}<extra></extra>",
         "legendgroup": "1",
         "marker": {
          "color": "#636efa",
          "pattern": {
           "shape": ""
          }
         },
         "name": "1",
         "offsetgroup": "1",
         "orientation": "v",
         "showlegend": true,
         "textposition": "outside",
         "texttemplate": "%{value}",
         "type": "histogram",
         "x": [
          1,
          1,
          1,
          1,
          1,
          1,
          1,
          1,
          1,
          1,
          1,
          1,
          1,
          1,
          1,
          1,
          1,
          1,
          1,
          1,
          1,
          1,
          1,
          1,
          1,
          1,
          1,
          1,
          1,
          1,
          1,
          1,
          1,
          1,
          1,
          1,
          1,
          1,
          1,
          1,
          1,
          1,
          1,
          1,
          1,
          1,
          1,
          1,
          1,
          1,
          1,
          1,
          1,
          1,
          1,
          1,
          1,
          1,
          1,
          1,
          1,
          1,
          1,
          1,
          1,
          1,
          1,
          1,
          1,
          1,
          1,
          1,
          1,
          1,
          1,
          1,
          1,
          1,
          1,
          1,
          1,
          1,
          1,
          1,
          1,
          1,
          1,
          1,
          1,
          1,
          1,
          1,
          1,
          1,
          1,
          1,
          1,
          1,
          1,
          1,
          1,
          1,
          1,
          1,
          1,
          1,
          1,
          1,
          1,
          1,
          1,
          1,
          1,
          1,
          1,
          1,
          1,
          1,
          1,
          1,
          1,
          1,
          1,
          1,
          1,
          1,
          1,
          1,
          1,
          1,
          1,
          1,
          1,
          1,
          1,
          1,
          1,
          1,
          1,
          1,
          1,
          1,
          1,
          1,
          1,
          1,
          1,
          1,
          1,
          1,
          1,
          1,
          1,
          1,
          1,
          1,
          1,
          1,
          1,
          1,
          1,
          1,
          1,
          1,
          1,
          1,
          1,
          1,
          1,
          1,
          1,
          1,
          1,
          1,
          1,
          1,
          1,
          1,
          1,
          1,
          1,
          1,
          1,
          1,
          1,
          1,
          1,
          1,
          1,
          1,
          1,
          1,
          1,
          1,
          1,
          1,
          1,
          1,
          1,
          1,
          1,
          1,
          1,
          1,
          1,
          1,
          1,
          1,
          1,
          1,
          1,
          1,
          1,
          1,
          1,
          1,
          1,
          1,
          1,
          1,
          1,
          1,
          1,
          1,
          1,
          1,
          1,
          1,
          1,
          1,
          1,
          1,
          1,
          1,
          1,
          1,
          1,
          1,
          1,
          1,
          1,
          1,
          1,
          1,
          1,
          1,
          1,
          1,
          1,
          1,
          1,
          1,
          1,
          1,
          1,
          1,
          1,
          1,
          1,
          1,
          1,
          1,
          1,
          1,
          1,
          1,
          1,
          1,
          1,
          1,
          1,
          1,
          1,
          1,
          1,
          1,
          1,
          1,
          1,
          1,
          1,
          1,
          1,
          1,
          1,
          1,
          1,
          1,
          1,
          1,
          1,
          1,
          1,
          1,
          1,
          1,
          1,
          1,
          1,
          1,
          1,
          1,
          1,
          1,
          1,
          1,
          1,
          1,
          1,
          1,
          1,
          1,
          1,
          1,
          1,
          1,
          1,
          1,
          1,
          1,
          1,
          1,
          1,
          1,
          1,
          1,
          1,
          1,
          1,
          1,
          1,
          1,
          1,
          1,
          1,
          1,
          1,
          1,
          1,
          1,
          1,
          1,
          1,
          1,
          1,
          1,
          1,
          1,
          1,
          1,
          1,
          1,
          1,
          1,
          1,
          1,
          1,
          1,
          1,
          1,
          1,
          1,
          1,
          1,
          1,
          1,
          1,
          1,
          1,
          1,
          1,
          1,
          1,
          1,
          1,
          1,
          1,
          1,
          1,
          1,
          1,
          1,
          1,
          1,
          1,
          1,
          1,
          1,
          1,
          1,
          1,
          1,
          1,
          1,
          1,
          1,
          1,
          1,
          1,
          1,
          1,
          1,
          1,
          1,
          1,
          1,
          1,
          1,
          1,
          1,
          1,
          1,
          1,
          1,
          1,
          1,
          1,
          1,
          1,
          1,
          1,
          1,
          1,
          1,
          1,
          1,
          1,
          1,
          1,
          1,
          1,
          1,
          1,
          1,
          1,
          1,
          1,
          1,
          1,
          1,
          1,
          1,
          1,
          1,
          1,
          1,
          1,
          1,
          1,
          1,
          1,
          1,
          1,
          1,
          1,
          1,
          1,
          1,
          1,
          1,
          1,
          1,
          1,
          1,
          1,
          1,
          1,
          1,
          1,
          1,
          1,
          1,
          1,
          1,
          1,
          1,
          1,
          1,
          1,
          1,
          1,
          1,
          1,
          1,
          1,
          1,
          1,
          1,
          1,
          1,
          1,
          1,
          1,
          1,
          1,
          1,
          1,
          1,
          1,
          1,
          1,
          1,
          1,
          1,
          1,
          1,
          1,
          1,
          1,
          1,
          1,
          1,
          1,
          1,
          1,
          1,
          1,
          1,
          1,
          1,
          1,
          1,
          1,
          1,
          1,
          1,
          1,
          1,
          1,
          1,
          1,
          1,
          1,
          1,
          1,
          1,
          1,
          1,
          1,
          1,
          1,
          1,
          1,
          1,
          1,
          1,
          1,
          1,
          1,
          1,
          1,
          1,
          1,
          1,
          1,
          1,
          1,
          1,
          1,
          1,
          1,
          1,
          1,
          1,
          1,
          1,
          1,
          1,
          1,
          1,
          1,
          1,
          1,
          1,
          1,
          1,
          1,
          1,
          1,
          1,
          1,
          1,
          1,
          1,
          1,
          1,
          1,
          1,
          1,
          1,
          1,
          1,
          1,
          1,
          1,
          1,
          1,
          1,
          1,
          1,
          1,
          1,
          1,
          1,
          1,
          1,
          1,
          1,
          1,
          1,
          1,
          1,
          1,
          1,
          1,
          1,
          1,
          1,
          1,
          1,
          1,
          1,
          1,
          1,
          1,
          1,
          1,
          1,
          1,
          1,
          1,
          1,
          1,
          1,
          1,
          1,
          1,
          1,
          1,
          1,
          1,
          1,
          1,
          1,
          1,
          1,
          1,
          1,
          1,
          1,
          1,
          1,
          1,
          1,
          1,
          1,
          1,
          1,
          1,
          1,
          1,
          1,
          1,
          1,
          1,
          1,
          1,
          1,
          1,
          1,
          1,
          1,
          1,
          1,
          1,
          1,
          1,
          1,
          1,
          1,
          1,
          1,
          1,
          1,
          1,
          1,
          1,
          1,
          1,
          1,
          1,
          1,
          1,
          1,
          1,
          1,
          1,
          1,
          1,
          1,
          1,
          1,
          1,
          1,
          1,
          1,
          1,
          1,
          1,
          1,
          1,
          1,
          1,
          1,
          1,
          1,
          1,
          1,
          1,
          1,
          1,
          1,
          1,
          1,
          1,
          1,
          1,
          1,
          1,
          1,
          1,
          1,
          1,
          1,
          1,
          1,
          1,
          1,
          1,
          1,
          1,
          1,
          1,
          1,
          1,
          1,
          1,
          1,
          1,
          1,
          1,
          1,
          1,
          1,
          1,
          1,
          1,
          1,
          1,
          1,
          1,
          1,
          1,
          1,
          1,
          1,
          1,
          1,
          1,
          1,
          1,
          1,
          1,
          1,
          1,
          1,
          1,
          1,
          1,
          1,
          1,
          1,
          1,
          1,
          1,
          1,
          1,
          1,
          1,
          1,
          1,
          1,
          1,
          1,
          1,
          1,
          1,
          1,
          1,
          1,
          1,
          1,
          1,
          1,
          1,
          1,
          1,
          1,
          1,
          1,
          1,
          1,
          1,
          1,
          1,
          1,
          1,
          1,
          1,
          1,
          1,
          1,
          1,
          1,
          1,
          1,
          1,
          1,
          1,
          1,
          1,
          1,
          1,
          1,
          1,
          1,
          1,
          1,
          1,
          1,
          1,
          1,
          1,
          1,
          1,
          1,
          1,
          1,
          1,
          1,
          1,
          1,
          1,
          1,
          1,
          1,
          1,
          1,
          1,
          1,
          1,
          1,
          1,
          1,
          1,
          1,
          1,
          1,
          1,
          1,
          1,
          1,
          1,
          1,
          1,
          1,
          1,
          1,
          1,
          1,
          1,
          1,
          1,
          1,
          1,
          1,
          1,
          1,
          1,
          1,
          1,
          1,
          1,
          1,
          1,
          1,
          1,
          1,
          1,
          1,
          1,
          1,
          1,
          1,
          1,
          1,
          1,
          1,
          1,
          1,
          1,
          1,
          1,
          1,
          1,
          1,
          1,
          1,
          1,
          1,
          1,
          1,
          1,
          1,
          1,
          1,
          1,
          1,
          1,
          1,
          1,
          1,
          1,
          1,
          1,
          1,
          1,
          1,
          1,
          1,
          1,
          1,
          1,
          1,
          1,
          1,
          1,
          1,
          1,
          1,
          1,
          1,
          1,
          1,
          1,
          1,
          1,
          1,
          1,
          1,
          1,
          1,
          1,
          1,
          1,
          1,
          1,
          1,
          1,
          1,
          1,
          1,
          1,
          1,
          1,
          1,
          1,
          1,
          1,
          1,
          1,
          1,
          1,
          1,
          1,
          1,
          1,
          1,
          1,
          1,
          1,
          1,
          1,
          1,
          1,
          1,
          1,
          1,
          1,
          1,
          1,
          1,
          1,
          1,
          1,
          1,
          1,
          1,
          1,
          1,
          1,
          1,
          1,
          1,
          1,
          1,
          1,
          1,
          1,
          1,
          1,
          1,
          1,
          1,
          1,
          1,
          1,
          1,
          1,
          1,
          1,
          1,
          1,
          1,
          1,
          1,
          1,
          1,
          1,
          1,
          1,
          1,
          1,
          1,
          1,
          1,
          1,
          1,
          1,
          1,
          1,
          1,
          1,
          1,
          1,
          1,
          1,
          1,
          1,
          1,
          1,
          1,
          1,
          1,
          1,
          1,
          1,
          1,
          1,
          1,
          1,
          1,
          1,
          1,
          1,
          1,
          1,
          1,
          1,
          1,
          1,
          1,
          1,
          1,
          1,
          1,
          1,
          1,
          1,
          1,
          1,
          1,
          1,
          1,
          1,
          1,
          1,
          1,
          1,
          1,
          1,
          1,
          1,
          1,
          1,
          1,
          1,
          1,
          1,
          1,
          1,
          1,
          1,
          1,
          1,
          1,
          1,
          1,
          1,
          1,
          1,
          1,
          1,
          1,
          1,
          1,
          1,
          1,
          1,
          1,
          1,
          1,
          1,
          1,
          1,
          1,
          1,
          1,
          1,
          1,
          1,
          1,
          1,
          1,
          1,
          1,
          1,
          1,
          1,
          1,
          1,
          1,
          1,
          1,
          1,
          1,
          1,
          1,
          1,
          1,
          1,
          1,
          1,
          1,
          1,
          1,
          1,
          1,
          1,
          1,
          1,
          1,
          1,
          1,
          1,
          1,
          1,
          1,
          1,
          1,
          1,
          1,
          1,
          1,
          1,
          1,
          1,
          1,
          1,
          1,
          1,
          1,
          1,
          1,
          1,
          1,
          1,
          1,
          1,
          1,
          1,
          1,
          1,
          1,
          1,
          1,
          1,
          1,
          1,
          1,
          1,
          1,
          1
         ],
         "xaxis": "x",
         "yaxis": "y"
        },
        {
         "alignmentgroup": "True",
         "bingroup": "x",
         "hovertemplate": "Sentiment=%{x}<br>count=%{y}<extra></extra>",
         "legendgroup": "0",
         "marker": {
          "color": "#EF553B",
          "pattern": {
           "shape": ""
          }
         },
         "name": "0",
         "offsetgroup": "0",
         "orientation": "v",
         "showlegend": true,
         "textposition": "outside",
         "texttemplate": "%{value}",
         "type": "histogram",
         "x": [
          0,
          0,
          0,
          0,
          0,
          0,
          0,
          0,
          0,
          0,
          0,
          0,
          0,
          0,
          0,
          0,
          0,
          0,
          0,
          0,
          0,
          0,
          0,
          0,
          0,
          0,
          0,
          0,
          0,
          0,
          0,
          0,
          0,
          0,
          0,
          0,
          0,
          0,
          0,
          0,
          0,
          0,
          0,
          0,
          0,
          0,
          0,
          0,
          0,
          0,
          0,
          0,
          0,
          0,
          0,
          0,
          0,
          0,
          0,
          0,
          0,
          0,
          0,
          0,
          0,
          0,
          0,
          0,
          0,
          0,
          0,
          0,
          0,
          0,
          0,
          0,
          0,
          0,
          0,
          0,
          0,
          0,
          0,
          0,
          0,
          0,
          0,
          0,
          0,
          0,
          0,
          0,
          0,
          0,
          0,
          0,
          0,
          0,
          0,
          0,
          0,
          0,
          0,
          0,
          0,
          0,
          0,
          0,
          0,
          0,
          0,
          0,
          0,
          0,
          0,
          0,
          0,
          0,
          0,
          0,
          0,
          0,
          0,
          0,
          0,
          0,
          0,
          0,
          0,
          0,
          0,
          0,
          0,
          0,
          0,
          0,
          0,
          0,
          0,
          0,
          0,
          0,
          0,
          0,
          0,
          0,
          0,
          0,
          0,
          0,
          0,
          0,
          0,
          0,
          0,
          0,
          0,
          0,
          0,
          0,
          0,
          0,
          0,
          0,
          0,
          0,
          0,
          0,
          0,
          0,
          0,
          0,
          0,
          0,
          0,
          0,
          0,
          0,
          0,
          0,
          0,
          0,
          0,
          0,
          0,
          0,
          0,
          0,
          0,
          0,
          0,
          0,
          0,
          0,
          0,
          0,
          0,
          0,
          0,
          0,
          0,
          0,
          0,
          0,
          0,
          0,
          0,
          0,
          0,
          0,
          0,
          0,
          0,
          0,
          0,
          0,
          0,
          0,
          0,
          0,
          0,
          0,
          0,
          0,
          0,
          0,
          0,
          0,
          0,
          0,
          0,
          0,
          0,
          0,
          0,
          0,
          0,
          0,
          0,
          0,
          0,
          0,
          0,
          0,
          0,
          0,
          0,
          0,
          0,
          0,
          0,
          0,
          0,
          0,
          0,
          0,
          0,
          0,
          0,
          0,
          0,
          0,
          0,
          0,
          0,
          0,
          0,
          0,
          0,
          0,
          0,
          0,
          0,
          0,
          0,
          0,
          0,
          0,
          0,
          0,
          0,
          0,
          0,
          0,
          0,
          0,
          0,
          0,
          0,
          0,
          0,
          0,
          0,
          0,
          0,
          0,
          0,
          0,
          0,
          0,
          0,
          0,
          0,
          0,
          0,
          0,
          0,
          0,
          0,
          0,
          0,
          0,
          0,
          0,
          0,
          0,
          0,
          0,
          0,
          0,
          0,
          0,
          0,
          0,
          0,
          0,
          0,
          0,
          0,
          0,
          0,
          0,
          0,
          0,
          0,
          0,
          0,
          0,
          0,
          0,
          0,
          0,
          0,
          0,
          0,
          0,
          0,
          0,
          0,
          0,
          0,
          0,
          0,
          0,
          0,
          0,
          0,
          0,
          0,
          0,
          0,
          0,
          0,
          0,
          0,
          0,
          0,
          0,
          0,
          0,
          0,
          0,
          0,
          0,
          0,
          0,
          0,
          0,
          0,
          0,
          0,
          0,
          0,
          0,
          0,
          0,
          0,
          0,
          0,
          0,
          0,
          0,
          0,
          0,
          0,
          0,
          0,
          0,
          0,
          0,
          0,
          0,
          0,
          0,
          0,
          0,
          0,
          0,
          0,
          0,
          0,
          0,
          0,
          0,
          0,
          0,
          0,
          0,
          0,
          0,
          0,
          0,
          0,
          0,
          0,
          0,
          0,
          0,
          0,
          0,
          0,
          0,
          0,
          0,
          0,
          0,
          0,
          0,
          0,
          0,
          0,
          0,
          0,
          0,
          0,
          0,
          0,
          0,
          0,
          0,
          0,
          0,
          0,
          0,
          0,
          0,
          0,
          0,
          0,
          0,
          0,
          0,
          0,
          0,
          0,
          0,
          0,
          0,
          0,
          0,
          0,
          0,
          0,
          0,
          0,
          0,
          0,
          0,
          0,
          0,
          0,
          0,
          0,
          0,
          0,
          0,
          0,
          0,
          0,
          0,
          0,
          0,
          0,
          0,
          0,
          0,
          0,
          0
         ],
         "xaxis": "x",
         "yaxis": "y"
        }
       ],
       "layout": {
        "barmode": "relative",
        "legend": {
         "title": {
          "text": "Sentiment"
         },
         "tracegroupgap": 0
        },
        "template": {
         "data": {
          "bar": [
           {
            "error_x": {
             "color": "#2a3f5f"
            },
            "error_y": {
             "color": "#2a3f5f"
            },
            "marker": {
             "line": {
              "color": "#E5ECF6",
              "width": 0.5
             },
             "pattern": {
              "fillmode": "overlay",
              "size": 10,
              "solidity": 0.2
             }
            },
            "type": "bar"
           }
          ],
          "barpolar": [
           {
            "marker": {
             "line": {
              "color": "#E5ECF6",
              "width": 0.5
             },
             "pattern": {
              "fillmode": "overlay",
              "size": 10,
              "solidity": 0.2
             }
            },
            "type": "barpolar"
           }
          ],
          "carpet": [
           {
            "aaxis": {
             "endlinecolor": "#2a3f5f",
             "gridcolor": "white",
             "linecolor": "white",
             "minorgridcolor": "white",
             "startlinecolor": "#2a3f5f"
            },
            "baxis": {
             "endlinecolor": "#2a3f5f",
             "gridcolor": "white",
             "linecolor": "white",
             "minorgridcolor": "white",
             "startlinecolor": "#2a3f5f"
            },
            "type": "carpet"
           }
          ],
          "choropleth": [
           {
            "colorbar": {
             "outlinewidth": 0,
             "ticks": ""
            },
            "type": "choropleth"
           }
          ],
          "contour": [
           {
            "colorbar": {
             "outlinewidth": 0,
             "ticks": ""
            },
            "colorscale": [
             [
              0,
              "#0d0887"
             ],
             [
              0.1111111111111111,
              "#46039f"
             ],
             [
              0.2222222222222222,
              "#7201a8"
             ],
             [
              0.3333333333333333,
              "#9c179e"
             ],
             [
              0.4444444444444444,
              "#bd3786"
             ],
             [
              0.5555555555555556,
              "#d8576b"
             ],
             [
              0.6666666666666666,
              "#ed7953"
             ],
             [
              0.7777777777777778,
              "#fb9f3a"
             ],
             [
              0.8888888888888888,
              "#fdca26"
             ],
             [
              1,
              "#f0f921"
             ]
            ],
            "type": "contour"
           }
          ],
          "contourcarpet": [
           {
            "colorbar": {
             "outlinewidth": 0,
             "ticks": ""
            },
            "type": "contourcarpet"
           }
          ],
          "heatmap": [
           {
            "colorbar": {
             "outlinewidth": 0,
             "ticks": ""
            },
            "colorscale": [
             [
              0,
              "#0d0887"
             ],
             [
              0.1111111111111111,
              "#46039f"
             ],
             [
              0.2222222222222222,
              "#7201a8"
             ],
             [
              0.3333333333333333,
              "#9c179e"
             ],
             [
              0.4444444444444444,
              "#bd3786"
             ],
             [
              0.5555555555555556,
              "#d8576b"
             ],
             [
              0.6666666666666666,
              "#ed7953"
             ],
             [
              0.7777777777777778,
              "#fb9f3a"
             ],
             [
              0.8888888888888888,
              "#fdca26"
             ],
             [
              1,
              "#f0f921"
             ]
            ],
            "type": "heatmap"
           }
          ],
          "heatmapgl": [
           {
            "colorbar": {
             "outlinewidth": 0,
             "ticks": ""
            },
            "colorscale": [
             [
              0,
              "#0d0887"
             ],
             [
              0.1111111111111111,
              "#46039f"
             ],
             [
              0.2222222222222222,
              "#7201a8"
             ],
             [
              0.3333333333333333,
              "#9c179e"
             ],
             [
              0.4444444444444444,
              "#bd3786"
             ],
             [
              0.5555555555555556,
              "#d8576b"
             ],
             [
              0.6666666666666666,
              "#ed7953"
             ],
             [
              0.7777777777777778,
              "#fb9f3a"
             ],
             [
              0.8888888888888888,
              "#fdca26"
             ],
             [
              1,
              "#f0f921"
             ]
            ],
            "type": "heatmapgl"
           }
          ],
          "histogram": [
           {
            "marker": {
             "pattern": {
              "fillmode": "overlay",
              "size": 10,
              "solidity": 0.2
             }
            },
            "type": "histogram"
           }
          ],
          "histogram2d": [
           {
            "colorbar": {
             "outlinewidth": 0,
             "ticks": ""
            },
            "colorscale": [
             [
              0,
              "#0d0887"
             ],
             [
              0.1111111111111111,
              "#46039f"
             ],
             [
              0.2222222222222222,
              "#7201a8"
             ],
             [
              0.3333333333333333,
              "#9c179e"
             ],
             [
              0.4444444444444444,
              "#bd3786"
             ],
             [
              0.5555555555555556,
              "#d8576b"
             ],
             [
              0.6666666666666666,
              "#ed7953"
             ],
             [
              0.7777777777777778,
              "#fb9f3a"
             ],
             [
              0.8888888888888888,
              "#fdca26"
             ],
             [
              1,
              "#f0f921"
             ]
            ],
            "type": "histogram2d"
           }
          ],
          "histogram2dcontour": [
           {
            "colorbar": {
             "outlinewidth": 0,
             "ticks": ""
            },
            "colorscale": [
             [
              0,
              "#0d0887"
             ],
             [
              0.1111111111111111,
              "#46039f"
             ],
             [
              0.2222222222222222,
              "#7201a8"
             ],
             [
              0.3333333333333333,
              "#9c179e"
             ],
             [
              0.4444444444444444,
              "#bd3786"
             ],
             [
              0.5555555555555556,
              "#d8576b"
             ],
             [
              0.6666666666666666,
              "#ed7953"
             ],
             [
              0.7777777777777778,
              "#fb9f3a"
             ],
             [
              0.8888888888888888,
              "#fdca26"
             ],
             [
              1,
              "#f0f921"
             ]
            ],
            "type": "histogram2dcontour"
           }
          ],
          "mesh3d": [
           {
            "colorbar": {
             "outlinewidth": 0,
             "ticks": ""
            },
            "type": "mesh3d"
           }
          ],
          "parcoords": [
           {
            "line": {
             "colorbar": {
              "outlinewidth": 0,
              "ticks": ""
             }
            },
            "type": "parcoords"
           }
          ],
          "pie": [
           {
            "automargin": true,
            "type": "pie"
           }
          ],
          "scatter": [
           {
            "fillpattern": {
             "fillmode": "overlay",
             "size": 10,
             "solidity": 0.2
            },
            "type": "scatter"
           }
          ],
          "scatter3d": [
           {
            "line": {
             "colorbar": {
              "outlinewidth": 0,
              "ticks": ""
             }
            },
            "marker": {
             "colorbar": {
              "outlinewidth": 0,
              "ticks": ""
             }
            },
            "type": "scatter3d"
           }
          ],
          "scattercarpet": [
           {
            "marker": {
             "colorbar": {
              "outlinewidth": 0,
              "ticks": ""
             }
            },
            "type": "scattercarpet"
           }
          ],
          "scattergeo": [
           {
            "marker": {
             "colorbar": {
              "outlinewidth": 0,
              "ticks": ""
             }
            },
            "type": "scattergeo"
           }
          ],
          "scattergl": [
           {
            "marker": {
             "colorbar": {
              "outlinewidth": 0,
              "ticks": ""
             }
            },
            "type": "scattergl"
           }
          ],
          "scattermapbox": [
           {
            "marker": {
             "colorbar": {
              "outlinewidth": 0,
              "ticks": ""
             }
            },
            "type": "scattermapbox"
           }
          ],
          "scatterpolar": [
           {
            "marker": {
             "colorbar": {
              "outlinewidth": 0,
              "ticks": ""
             }
            },
            "type": "scatterpolar"
           }
          ],
          "scatterpolargl": [
           {
            "marker": {
             "colorbar": {
              "outlinewidth": 0,
              "ticks": ""
             }
            },
            "type": "scatterpolargl"
           }
          ],
          "scatterternary": [
           {
            "marker": {
             "colorbar": {
              "outlinewidth": 0,
              "ticks": ""
             }
            },
            "type": "scatterternary"
           }
          ],
          "surface": [
           {
            "colorbar": {
             "outlinewidth": 0,
             "ticks": ""
            },
            "colorscale": [
             [
              0,
              "#0d0887"
             ],
             [
              0.1111111111111111,
              "#46039f"
             ],
             [
              0.2222222222222222,
              "#7201a8"
             ],
             [
              0.3333333333333333,
              "#9c179e"
             ],
             [
              0.4444444444444444,
              "#bd3786"
             ],
             [
              0.5555555555555556,
              "#d8576b"
             ],
             [
              0.6666666666666666,
              "#ed7953"
             ],
             [
              0.7777777777777778,
              "#fb9f3a"
             ],
             [
              0.8888888888888888,
              "#fdca26"
             ],
             [
              1,
              "#f0f921"
             ]
            ],
            "type": "surface"
           }
          ],
          "table": [
           {
            "cells": {
             "fill": {
              "color": "#EBF0F8"
             },
             "line": {
              "color": "white"
             }
            },
            "header": {
             "fill": {
              "color": "#C8D4E3"
             },
             "line": {
              "color": "white"
             }
            },
            "type": "table"
           }
          ]
         },
         "layout": {
          "annotationdefaults": {
           "arrowcolor": "#2a3f5f",
           "arrowhead": 0,
           "arrowwidth": 1
          },
          "autotypenumbers": "strict",
          "coloraxis": {
           "colorbar": {
            "outlinewidth": 0,
            "ticks": ""
           }
          },
          "colorscale": {
           "diverging": [
            [
             0,
             "#8e0152"
            ],
            [
             0.1,
             "#c51b7d"
            ],
            [
             0.2,
             "#de77ae"
            ],
            [
             0.3,
             "#f1b6da"
            ],
            [
             0.4,
             "#fde0ef"
            ],
            [
             0.5,
             "#f7f7f7"
            ],
            [
             0.6,
             "#e6f5d0"
            ],
            [
             0.7,
             "#b8e186"
            ],
            [
             0.8,
             "#7fbc41"
            ],
            [
             0.9,
             "#4d9221"
            ],
            [
             1,
             "#276419"
            ]
           ],
           "sequential": [
            [
             0,
             "#0d0887"
            ],
            [
             0.1111111111111111,
             "#46039f"
            ],
            [
             0.2222222222222222,
             "#7201a8"
            ],
            [
             0.3333333333333333,
             "#9c179e"
            ],
            [
             0.4444444444444444,
             "#bd3786"
            ],
            [
             0.5555555555555556,
             "#d8576b"
            ],
            [
             0.6666666666666666,
             "#ed7953"
            ],
            [
             0.7777777777777778,
             "#fb9f3a"
            ],
            [
             0.8888888888888888,
             "#fdca26"
            ],
            [
             1,
             "#f0f921"
            ]
           ],
           "sequentialminus": [
            [
             0,
             "#0d0887"
            ],
            [
             0.1111111111111111,
             "#46039f"
            ],
            [
             0.2222222222222222,
             "#7201a8"
            ],
            [
             0.3333333333333333,
             "#9c179e"
            ],
            [
             0.4444444444444444,
             "#bd3786"
            ],
            [
             0.5555555555555556,
             "#d8576b"
            ],
            [
             0.6666666666666666,
             "#ed7953"
            ],
            [
             0.7777777777777778,
             "#fb9f3a"
            ],
            [
             0.8888888888888888,
             "#fdca26"
            ],
            [
             1,
             "#f0f921"
            ]
           ]
          },
          "colorway": [
           "#636efa",
           "#EF553B",
           "#00cc96",
           "#ab63fa",
           "#FFA15A",
           "#19d3f3",
           "#FF6692",
           "#B6E880",
           "#FF97FF",
           "#FECB52"
          ],
          "font": {
           "color": "#2a3f5f"
          },
          "geo": {
           "bgcolor": "white",
           "lakecolor": "white",
           "landcolor": "#E5ECF6",
           "showlakes": true,
           "showland": true,
           "subunitcolor": "white"
          },
          "hoverlabel": {
           "align": "left"
          },
          "hovermode": "closest",
          "mapbox": {
           "style": "light"
          },
          "paper_bgcolor": "white",
          "plot_bgcolor": "#E5ECF6",
          "polar": {
           "angularaxis": {
            "gridcolor": "white",
            "linecolor": "white",
            "ticks": ""
           },
           "bgcolor": "#E5ECF6",
           "radialaxis": {
            "gridcolor": "white",
            "linecolor": "white",
            "ticks": ""
           }
          },
          "scene": {
           "xaxis": {
            "backgroundcolor": "#E5ECF6",
            "gridcolor": "white",
            "gridwidth": 2,
            "linecolor": "white",
            "showbackground": true,
            "ticks": "",
            "zerolinecolor": "white"
           },
           "yaxis": {
            "backgroundcolor": "#E5ECF6",
            "gridcolor": "white",
            "gridwidth": 2,
            "linecolor": "white",
            "showbackground": true,
            "ticks": "",
            "zerolinecolor": "white"
           },
           "zaxis": {
            "backgroundcolor": "#E5ECF6",
            "gridcolor": "white",
            "gridwidth": 2,
            "linecolor": "white",
            "showbackground": true,
            "ticks": "",
            "zerolinecolor": "white"
           }
          },
          "shapedefaults": {
           "line": {
            "color": "#2a3f5f"
           }
          },
          "ternary": {
           "aaxis": {
            "gridcolor": "white",
            "linecolor": "white",
            "ticks": ""
           },
           "baxis": {
            "gridcolor": "white",
            "linecolor": "white",
            "ticks": ""
           },
           "bgcolor": "#E5ECF6",
           "caxis": {
            "gridcolor": "white",
            "linecolor": "white",
            "ticks": ""
           }
          },
          "title": {
           "x": 0.05
          },
          "xaxis": {
           "automargin": true,
           "gridcolor": "white",
           "linecolor": "white",
           "ticks": "",
           "title": {
            "standoff": 15
           },
           "zerolinecolor": "white",
           "zerolinewidth": 2
          },
          "yaxis": {
           "automargin": true,
           "gridcolor": "white",
           "linecolor": "white",
           "ticks": "",
           "title": {
            "standoff": 15
           },
           "zerolinecolor": "white",
           "zerolinewidth": 2
          }
         }
        },
        "title": {
         "text": "Sentiment distribution"
        },
        "xaxis": {
         "anchor": "y",
         "categoryarray": [
          1,
          0
         ],
         "categoryorder": "array",
         "domain": [
          0,
          1
         ],
         "title": {
          "text": "Sentiment"
         }
        },
        "yaxis": {
         "anchor": "x",
         "domain": [
          0,
          1
         ],
         "title": {
          "text": "Count"
         }
        }
       }
      }
     },
     "metadata": {},
     "output_type": "display_data"
    }
   ],
   "source": [
    "# Sentiment distribution with plotly\n",
    "fig = px.histogram(df, x='Sentiment', title='Sentiment distribution', color='Sentiment')\n",
    "fig.update_layout(xaxis_title='Sentiment', yaxis_title='Count')\n",
    "fig.update_traces(texttemplate='%{value}', textposition='outside')\n",
    "fig.show()"
   ]
  },
  {
   "cell_type": "code",
   "execution_count": 393,
   "metadata": {},
   "outputs": [
    {
     "data": {
      "application/vnd.plotly.v1+json": {
       "config": {
        "plotlyServerURL": "https://plot.ly"
       },
       "data": [
        {
         "alignmentgroup": "True",
         "bingroup": "x",
         "hovertemplate": "Sentiment=1<br>Location=%{x}<br>count=%{y}<extra></extra>",
         "legendgroup": "1",
         "marker": {
          "color": "#636efa",
          "pattern": {
           "shape": ""
          }
         },
         "name": "1",
         "offsetgroup": "1",
         "orientation": "v",
         "showlegend": true,
         "type": "histogram",
         "x": [
          "Los Angeles",
          "California",
          "Seattle",
          "Miami",
          "Chicago",
          "Puerto Rico",
          "Chicago",
          "Toronto",
          "California",
          "Seattle",
          "San Francisco",
          "Washington, DC",
          "Toronto",
          "Maryland",
          "Puerto Rico",
          "Washington, DC",
          "Chicago",
          "Orlando",
          "San Diego",
          "NY",
          "Washington, DC",
          "Florida",
          "Philadelphia",
          "New York",
          "NYC",
          "New York",
          "Los Angeles",
          "Toronto",
          "New Jersey",
          "NY",
          "Boston",
          "San Francisco",
          "Seattle",
          "New Jersey",
          "Chicago",
          "Seattle",
          "Miami",
          "NY",
          "Toronto",
          "London",
          "Boston",
          "Maryland",
          "Philadelphia",
          "Miami",
          "Los Angeles",
          "Miami",
          "Miami",
          "Los Angeles",
          "Philadelphia",
          "Los Angeles",
          "Boston",
          "Seattle",
          "Los Angeles",
          "New York",
          "New York",
          "New York",
          "Chicago",
          "Miami",
          "San Diego",
          "Florida",
          "California",
          "Toronto",
          "Boston",
          "Washington, DC",
          "Chicago",
          "Toronto",
          "Toronto",
          "San Jose",
          "Washington, DC",
          "Boston",
          "New York",
          "New York, NY",
          "New York, NY",
          "San Jose",
          "Washington, DC",
          "California",
          "NY",
          "Philadelphia",
          "Miami",
          "New York, NY",
          "New York, NY",
          "New York",
          "Los Angeles",
          "Florida",
          "New Jersey",
          "NY",
          "NY",
          "Chicago",
          "Boston",
          "San Francisco",
          "NYC",
          "New York",
          "Orlando",
          "New York",
          "London",
          "Canada",
          "Miami",
          "London",
          "Toronto",
          "Florida",
          "San Jose",
          "London",
          "San Diego",
          "San Jose",
          "Philadelphia",
          "New York",
          "Orlando",
          "New York",
          "New York",
          "New York, NY",
          "Canada",
          "San Jose",
          "San Jose",
          "Chicago",
          "San Jose",
          "London",
          "New York",
          "Canada",
          "Miami",
          "New York",
          "NY",
          "San Diego",
          "Maryland",
          "Orlando",
          "Chicago",
          "Maryland",
          "Canada",
          "Florida",
          "California",
          "New Jersey",
          "Orlando",
          "California",
          "New York",
          "London",
          "Philadelphia",
          "Florida",
          "Philadelphia",
          "New York",
          "Miami",
          "California",
          "California",
          "Philadelphia",
          "New York",
          "NYC",
          "Chicago",
          "New Jersey",
          "London",
          "San Jose",
          "Seattle",
          "Chicago",
          "New York",
          "San Francisco",
          "Boston",
          "New York",
          "California",
          "San Francisco",
          "Florida",
          "San Jose",
          "Toronto",
          "New York",
          "San Diego",
          "California",
          "Maryland",
          "California",
          "Florida",
          "San Diego",
          "San Diego",
          "San Diego",
          "New York",
          "San Jose",
          "NYC",
          "Seattle",
          "Orlando",
          "San Jose",
          "Boston",
          "Orlando",
          "New York",
          "NYC",
          "San Jose",
          "New York, NY",
          "New York, NY",
          "Los Angeles",
          "New York, NY",
          "San Jose",
          "Washington, DC",
          "Maryland",
          "New Jersey",
          "Orlando",
          "Orlando",
          "New York",
          "Toronto",
          "California",
          "San Diego",
          "California",
          "Florida",
          "San Jose",
          "New York",
          "California",
          "United States of America",
          "United States of America",
          "United States of America",
          "United States of America",
          "United States of America",
          "United States of America",
          "United States of America",
          "United States of America",
          "Canada",
          "United Kingdom",
          "United States of America",
          "United States of America",
          "United States of America",
          "United States of America",
          "United States of America",
          "United Kingdom",
          "United States of America",
          "United Kingdom",
          "United States of America",
          "United States of America",
          "United States of America",
          "United States of America",
          "United States of America",
          "United States of America",
          "Canada",
          "Canada",
          "United States of America",
          "United States of America",
          "United States of America",
          "United States of America",
          "United States of America",
          "United Kingdom",
          "United States of America",
          "United States of America",
          "Canada",
          "United States of America",
          "United States of America",
          "United States of America",
          "United States of America",
          "United States of America",
          "United Kingdom",
          "United States of America",
          "United States of America",
          "United States of America",
          "United States of America",
          "United States of America",
          "United States of America",
          "United States of America",
          "United States of America",
          "United States of America",
          "United States of America",
          "United States of America",
          "United States of America",
          "United States of America",
          "United States of America",
          "United States of America",
          "United States of America",
          "United States of America",
          "United States of America",
          "United Kingdom",
          "United States of America",
          "United States of America",
          "United States of America",
          "United States of America",
          "United States of America",
          "United States of America",
          "United States of America",
          "United States of America",
          "United States of America",
          "Canada",
          "United States of America",
          "United States of America",
          "United States of America",
          "Canada",
          "United States of America",
          "United States of America",
          "United States of America",
          "United States of America",
          "United States of America",
          "United States of America",
          "United Kingdom",
          "United Kingdom",
          "United States of America",
          "United States of America",
          "United States of America"
         ],
         "xaxis": "x",
         "yaxis": "y"
        },
        {
         "alignmentgroup": "True",
         "bingroup": "x",
         "hovertemplate": "Sentiment=0<br>Location=%{x}<br>count=%{y}<extra></extra>",
         "legendgroup": "0",
         "marker": {
          "color": "#EF553B",
          "pattern": {
           "shape": ""
          }
         },
         "name": "0",
         "offsetgroup": "0",
         "orientation": "v",
         "showlegend": true,
         "type": "histogram",
         "x": [
          "New Jersey",
          "New York",
          "New York",
          "New York, NY",
          "New Jersey",
          "San Jose",
          "Miami",
          "London",
          "Boston",
          "Toronto",
          "Miami",
          "Puerto Rico",
          "San Francisco",
          "NYC",
          "Seattle",
          "New York",
          "San Jose",
          "New York, NY",
          "Florida",
          "New York",
          "NY",
          "NYC",
          "Puerto Rico",
          "Canada",
          "Puerto Rico",
          "Canada",
          "New York, NY",
          "Orlando",
          "Florida",
          "New York, NY",
          "New York, NY",
          "California",
          "Orlando",
          "Florida",
          "Florida",
          "Florida",
          "California",
          "Maryland",
          "Maryland",
          "New York",
          "Toronto",
          "Florida",
          "New York",
          "Los Angeles",
          "California",
          "NY",
          "NY",
          "California",
          "San Jose",
          "NYC",
          "NY",
          "Los Angeles",
          "Seattle",
          "San Jose",
          "New York",
          "Seattle",
          "San Diego",
          "New York",
          "NYC",
          "Orlando",
          "Florida",
          "California",
          "Seattle",
          "New York",
          "San Diego",
          "Philadelphia",
          "New York",
          "NY",
          "Seattle",
          "San Jose",
          "United States of America",
          "United States of America",
          "United States of America",
          "United States of America",
          "United States of America",
          "United Kingdom",
          "United States of America",
          "United States of America",
          "United States of America",
          "United States of America",
          "United States of America",
          "United States of America",
          "United States of America",
          "United Kingdom",
          "United States of America",
          "United States of America",
          "United States of America",
          "United States of America",
          "United States of America",
          "United States of America",
          "United States of America",
          "Canada",
          "United States of America",
          "United States of America",
          "Puerto Rico",
          "United States of America",
          "United States of America",
          "Canada",
          "United States of America",
          "United States of America",
          "United States of America",
          "United States of America",
          "United States of America",
          "United Kingdom",
          "United States of America",
          "United States of America",
          "Canada",
          "United States of America",
          "Canada",
          "United States of America",
          "United States of America",
          "United Kingdom",
          "United States of America",
          "United States of America",
          "United States of America",
          "United States of America",
          "United Kingdom",
          "United States of America",
          "United States of America",
          "United States of America",
          "United Kingdom",
          "Puerto Rico",
          "United States of America",
          "United States of America",
          "United States of America",
          "United States of America",
          "United States of America"
         ],
         "xaxis": "x",
         "yaxis": "y"
        }
       ],
       "layout": {
        "barmode": "group",
        "legend": {
         "title": {
          "text": "Sentiment"
         },
         "tracegroupgap": 0
        },
        "template": {
         "data": {
          "bar": [
           {
            "error_x": {
             "color": "#2a3f5f"
            },
            "error_y": {
             "color": "#2a3f5f"
            },
            "marker": {
             "line": {
              "color": "#E5ECF6",
              "width": 0.5
             },
             "pattern": {
              "fillmode": "overlay",
              "size": 10,
              "solidity": 0.2
             }
            },
            "type": "bar"
           }
          ],
          "barpolar": [
           {
            "marker": {
             "line": {
              "color": "#E5ECF6",
              "width": 0.5
             },
             "pattern": {
              "fillmode": "overlay",
              "size": 10,
              "solidity": 0.2
             }
            },
            "type": "barpolar"
           }
          ],
          "carpet": [
           {
            "aaxis": {
             "endlinecolor": "#2a3f5f",
             "gridcolor": "white",
             "linecolor": "white",
             "minorgridcolor": "white",
             "startlinecolor": "#2a3f5f"
            },
            "baxis": {
             "endlinecolor": "#2a3f5f",
             "gridcolor": "white",
             "linecolor": "white",
             "minorgridcolor": "white",
             "startlinecolor": "#2a3f5f"
            },
            "type": "carpet"
           }
          ],
          "choropleth": [
           {
            "colorbar": {
             "outlinewidth": 0,
             "ticks": ""
            },
            "type": "choropleth"
           }
          ],
          "contour": [
           {
            "colorbar": {
             "outlinewidth": 0,
             "ticks": ""
            },
            "colorscale": [
             [
              0,
              "#0d0887"
             ],
             [
              0.1111111111111111,
              "#46039f"
             ],
             [
              0.2222222222222222,
              "#7201a8"
             ],
             [
              0.3333333333333333,
              "#9c179e"
             ],
             [
              0.4444444444444444,
              "#bd3786"
             ],
             [
              0.5555555555555556,
              "#d8576b"
             ],
             [
              0.6666666666666666,
              "#ed7953"
             ],
             [
              0.7777777777777778,
              "#fb9f3a"
             ],
             [
              0.8888888888888888,
              "#fdca26"
             ],
             [
              1,
              "#f0f921"
             ]
            ],
            "type": "contour"
           }
          ],
          "contourcarpet": [
           {
            "colorbar": {
             "outlinewidth": 0,
             "ticks": ""
            },
            "type": "contourcarpet"
           }
          ],
          "heatmap": [
           {
            "colorbar": {
             "outlinewidth": 0,
             "ticks": ""
            },
            "colorscale": [
             [
              0,
              "#0d0887"
             ],
             [
              0.1111111111111111,
              "#46039f"
             ],
             [
              0.2222222222222222,
              "#7201a8"
             ],
             [
              0.3333333333333333,
              "#9c179e"
             ],
             [
              0.4444444444444444,
              "#bd3786"
             ],
             [
              0.5555555555555556,
              "#d8576b"
             ],
             [
              0.6666666666666666,
              "#ed7953"
             ],
             [
              0.7777777777777778,
              "#fb9f3a"
             ],
             [
              0.8888888888888888,
              "#fdca26"
             ],
             [
              1,
              "#f0f921"
             ]
            ],
            "type": "heatmap"
           }
          ],
          "heatmapgl": [
           {
            "colorbar": {
             "outlinewidth": 0,
             "ticks": ""
            },
            "colorscale": [
             [
              0,
              "#0d0887"
             ],
             [
              0.1111111111111111,
              "#46039f"
             ],
             [
              0.2222222222222222,
              "#7201a8"
             ],
             [
              0.3333333333333333,
              "#9c179e"
             ],
             [
              0.4444444444444444,
              "#bd3786"
             ],
             [
              0.5555555555555556,
              "#d8576b"
             ],
             [
              0.6666666666666666,
              "#ed7953"
             ],
             [
              0.7777777777777778,
              "#fb9f3a"
             ],
             [
              0.8888888888888888,
              "#fdca26"
             ],
             [
              1,
              "#f0f921"
             ]
            ],
            "type": "heatmapgl"
           }
          ],
          "histogram": [
           {
            "marker": {
             "pattern": {
              "fillmode": "overlay",
              "size": 10,
              "solidity": 0.2
             }
            },
            "type": "histogram"
           }
          ],
          "histogram2d": [
           {
            "colorbar": {
             "outlinewidth": 0,
             "ticks": ""
            },
            "colorscale": [
             [
              0,
              "#0d0887"
             ],
             [
              0.1111111111111111,
              "#46039f"
             ],
             [
              0.2222222222222222,
              "#7201a8"
             ],
             [
              0.3333333333333333,
              "#9c179e"
             ],
             [
              0.4444444444444444,
              "#bd3786"
             ],
             [
              0.5555555555555556,
              "#d8576b"
             ],
             [
              0.6666666666666666,
              "#ed7953"
             ],
             [
              0.7777777777777778,
              "#fb9f3a"
             ],
             [
              0.8888888888888888,
              "#fdca26"
             ],
             [
              1,
              "#f0f921"
             ]
            ],
            "type": "histogram2d"
           }
          ],
          "histogram2dcontour": [
           {
            "colorbar": {
             "outlinewidth": 0,
             "ticks": ""
            },
            "colorscale": [
             [
              0,
              "#0d0887"
             ],
             [
              0.1111111111111111,
              "#46039f"
             ],
             [
              0.2222222222222222,
              "#7201a8"
             ],
             [
              0.3333333333333333,
              "#9c179e"
             ],
             [
              0.4444444444444444,
              "#bd3786"
             ],
             [
              0.5555555555555556,
              "#d8576b"
             ],
             [
              0.6666666666666666,
              "#ed7953"
             ],
             [
              0.7777777777777778,
              "#fb9f3a"
             ],
             [
              0.8888888888888888,
              "#fdca26"
             ],
             [
              1,
              "#f0f921"
             ]
            ],
            "type": "histogram2dcontour"
           }
          ],
          "mesh3d": [
           {
            "colorbar": {
             "outlinewidth": 0,
             "ticks": ""
            },
            "type": "mesh3d"
           }
          ],
          "parcoords": [
           {
            "line": {
             "colorbar": {
              "outlinewidth": 0,
              "ticks": ""
             }
            },
            "type": "parcoords"
           }
          ],
          "pie": [
           {
            "automargin": true,
            "type": "pie"
           }
          ],
          "scatter": [
           {
            "fillpattern": {
             "fillmode": "overlay",
             "size": 10,
             "solidity": 0.2
            },
            "type": "scatter"
           }
          ],
          "scatter3d": [
           {
            "line": {
             "colorbar": {
              "outlinewidth": 0,
              "ticks": ""
             }
            },
            "marker": {
             "colorbar": {
              "outlinewidth": 0,
              "ticks": ""
             }
            },
            "type": "scatter3d"
           }
          ],
          "scattercarpet": [
           {
            "marker": {
             "colorbar": {
              "outlinewidth": 0,
              "ticks": ""
             }
            },
            "type": "scattercarpet"
           }
          ],
          "scattergeo": [
           {
            "marker": {
             "colorbar": {
              "outlinewidth": 0,
              "ticks": ""
             }
            },
            "type": "scattergeo"
           }
          ],
          "scattergl": [
           {
            "marker": {
             "colorbar": {
              "outlinewidth": 0,
              "ticks": ""
             }
            },
            "type": "scattergl"
           }
          ],
          "scattermapbox": [
           {
            "marker": {
             "colorbar": {
              "outlinewidth": 0,
              "ticks": ""
             }
            },
            "type": "scattermapbox"
           }
          ],
          "scatterpolar": [
           {
            "marker": {
             "colorbar": {
              "outlinewidth": 0,
              "ticks": ""
             }
            },
            "type": "scatterpolar"
           }
          ],
          "scatterpolargl": [
           {
            "marker": {
             "colorbar": {
              "outlinewidth": 0,
              "ticks": ""
             }
            },
            "type": "scatterpolargl"
           }
          ],
          "scatterternary": [
           {
            "marker": {
             "colorbar": {
              "outlinewidth": 0,
              "ticks": ""
             }
            },
            "type": "scatterternary"
           }
          ],
          "surface": [
           {
            "colorbar": {
             "outlinewidth": 0,
             "ticks": ""
            },
            "colorscale": [
             [
              0,
              "#0d0887"
             ],
             [
              0.1111111111111111,
              "#46039f"
             ],
             [
              0.2222222222222222,
              "#7201a8"
             ],
             [
              0.3333333333333333,
              "#9c179e"
             ],
             [
              0.4444444444444444,
              "#bd3786"
             ],
             [
              0.5555555555555556,
              "#d8576b"
             ],
             [
              0.6666666666666666,
              "#ed7953"
             ],
             [
              0.7777777777777778,
              "#fb9f3a"
             ],
             [
              0.8888888888888888,
              "#fdca26"
             ],
             [
              1,
              "#f0f921"
             ]
            ],
            "type": "surface"
           }
          ],
          "table": [
           {
            "cells": {
             "fill": {
              "color": "#EBF0F8"
             },
             "line": {
              "color": "white"
             }
            },
            "header": {
             "fill": {
              "color": "#C8D4E3"
             },
             "line": {
              "color": "white"
             }
            },
            "type": "table"
           }
          ]
         },
         "layout": {
          "annotationdefaults": {
           "arrowcolor": "#2a3f5f",
           "arrowhead": 0,
           "arrowwidth": 1
          },
          "autotypenumbers": "strict",
          "coloraxis": {
           "colorbar": {
            "outlinewidth": 0,
            "ticks": ""
           }
          },
          "colorscale": {
           "diverging": [
            [
             0,
             "#8e0152"
            ],
            [
             0.1,
             "#c51b7d"
            ],
            [
             0.2,
             "#de77ae"
            ],
            [
             0.3,
             "#f1b6da"
            ],
            [
             0.4,
             "#fde0ef"
            ],
            [
             0.5,
             "#f7f7f7"
            ],
            [
             0.6,
             "#e6f5d0"
            ],
            [
             0.7,
             "#b8e186"
            ],
            [
             0.8,
             "#7fbc41"
            ],
            [
             0.9,
             "#4d9221"
            ],
            [
             1,
             "#276419"
            ]
           ],
           "sequential": [
            [
             0,
             "#0d0887"
            ],
            [
             0.1111111111111111,
             "#46039f"
            ],
            [
             0.2222222222222222,
             "#7201a8"
            ],
            [
             0.3333333333333333,
             "#9c179e"
            ],
            [
             0.4444444444444444,
             "#bd3786"
            ],
            [
             0.5555555555555556,
             "#d8576b"
            ],
            [
             0.6666666666666666,
             "#ed7953"
            ],
            [
             0.7777777777777778,
             "#fb9f3a"
            ],
            [
             0.8888888888888888,
             "#fdca26"
            ],
            [
             1,
             "#f0f921"
            ]
           ],
           "sequentialminus": [
            [
             0,
             "#0d0887"
            ],
            [
             0.1111111111111111,
             "#46039f"
            ],
            [
             0.2222222222222222,
             "#7201a8"
            ],
            [
             0.3333333333333333,
             "#9c179e"
            ],
            [
             0.4444444444444444,
             "#bd3786"
            ],
            [
             0.5555555555555556,
             "#d8576b"
            ],
            [
             0.6666666666666666,
             "#ed7953"
            ],
            [
             0.7777777777777778,
             "#fb9f3a"
            ],
            [
             0.8888888888888888,
             "#fdca26"
            ],
            [
             1,
             "#f0f921"
            ]
           ]
          },
          "colorway": [
           "#636efa",
           "#EF553B",
           "#00cc96",
           "#ab63fa",
           "#FFA15A",
           "#19d3f3",
           "#FF6692",
           "#B6E880",
           "#FF97FF",
           "#FECB52"
          ],
          "font": {
           "color": "#2a3f5f"
          },
          "geo": {
           "bgcolor": "white",
           "lakecolor": "white",
           "landcolor": "#E5ECF6",
           "showlakes": true,
           "showland": true,
           "subunitcolor": "white"
          },
          "hoverlabel": {
           "align": "left"
          },
          "hovermode": "closest",
          "mapbox": {
           "style": "light"
          },
          "paper_bgcolor": "white",
          "plot_bgcolor": "#E5ECF6",
          "polar": {
           "angularaxis": {
            "gridcolor": "white",
            "linecolor": "white",
            "ticks": ""
           },
           "bgcolor": "#E5ECF6",
           "radialaxis": {
            "gridcolor": "white",
            "linecolor": "white",
            "ticks": ""
           }
          },
          "scene": {
           "xaxis": {
            "backgroundcolor": "#E5ECF6",
            "gridcolor": "white",
            "gridwidth": 2,
            "linecolor": "white",
            "showbackground": true,
            "ticks": "",
            "zerolinecolor": "white"
           },
           "yaxis": {
            "backgroundcolor": "#E5ECF6",
            "gridcolor": "white",
            "gridwidth": 2,
            "linecolor": "white",
            "showbackground": true,
            "ticks": "",
            "zerolinecolor": "white"
           },
           "zaxis": {
            "backgroundcolor": "#E5ECF6",
            "gridcolor": "white",
            "gridwidth": 2,
            "linecolor": "white",
            "showbackground": true,
            "ticks": "",
            "zerolinecolor": "white"
           }
          },
          "shapedefaults": {
           "line": {
            "color": "#2a3f5f"
           }
          },
          "ternary": {
           "aaxis": {
            "gridcolor": "white",
            "linecolor": "white",
            "ticks": ""
           },
           "baxis": {
            "gridcolor": "white",
            "linecolor": "white",
            "ticks": ""
           },
           "bgcolor": "#E5ECF6",
           "caxis": {
            "gridcolor": "white",
            "linecolor": "white",
            "ticks": ""
           }
          },
          "title": {
           "x": 0.05
          },
          "xaxis": {
           "automargin": true,
           "gridcolor": "white",
           "linecolor": "white",
           "ticks": "",
           "title": {
            "standoff": 15
           },
           "zerolinecolor": "white",
           "zerolinewidth": 2
          },
          "yaxis": {
           "automargin": true,
           "gridcolor": "white",
           "linecolor": "white",
           "ticks": "",
           "title": {
            "standoff": 15
           },
           "zerolinecolor": "white",
           "zerolinewidth": 2
          }
         }
        },
        "title": {
         "text": "Sentiment Distribution for Top 25 Locations"
        },
        "xaxis": {
         "anchor": "y",
         "categoryorder": "total descending",
         "domain": [
          0,
          1
         ],
         "title": {
          "text": "Location"
         }
        },
        "yaxis": {
         "anchor": "x",
         "domain": [
          0,
          1
         ],
         "title": {
          "text": "count"
         }
        }
       }
      }
     },
     "metadata": {},
     "output_type": "display_data"
    }
   ],
   "source": [
    "N = 25\n",
    "top_locations = df['Location'].value_counts().nlargest(N).index\n",
    "\n",
    "# Filter the DataFrame to include only the top N locations\n",
    "df_top_locations = df[df['Location'].isin(top_locations)]\n",
    "\n",
    "# Check sentiment distribution by location\n",
    "fig = px.histogram(df_top_locations, x='Location', color='Sentiment', barmode='group', title=f'Sentiment Distribution for Top {N} Locations')\n",
    "fig.update_layout(xaxis={'categoryorder':'total descending'})\n",
    "fig.show()\n"
   ]
  },
  {
   "cell_type": "code",
   "execution_count": 394,
   "metadata": {},
   "outputs": [
    {
     "data": {
      "application/vnd.plotly.v1+json": {
       "config": {
        "plotlyServerURL": "https://plot.ly"
       },
       "data": [
        {
         "alignmentgroup": "True",
         "bingroup": "x",
         "hovertemplate": "PositivePercentage=%{x}<br>count=%{y}<extra></extra>",
         "legendgroup": "",
         "marker": {
          "color": [
           "rgb(241, 236, 236)",
           "rgb(230, 209, 203)",
           "rgb(221, 182, 170)",
           "rgb(213, 156, 137)",
           "rgb(205, 129, 103)",
           "rgb(196, 102, 73)",
           "rgb(186, 74, 47)",
           "rgb(172, 44, 36)",
           "rgb(149, 19, 39)",
           "rgb(120, 14, 40)",
           "rgb(89, 13, 31)",
           "rgb(60, 9, 17)"
          ],
          "pattern": {
           "shape": ""
          }
         },
         "name": "",
         "offsetgroup": "",
         "orientation": "v",
         "showlegend": false,
         "textposition": "outside",
         "texttemplate": "%{value}",
         "type": "histogram",
         "x": [
          100,
          100,
          0,
          0,
          0,
          100,
          100,
          100,
          100,
          100,
          100,
          100,
          100,
          0,
          0,
          100,
          100,
          100,
          100,
          100,
          100,
          100,
          100,
          100,
          100,
          0,
          0,
          0,
          100,
          0,
          100,
          0,
          66.66666666666666,
          100,
          100,
          20,
          0,
          100,
          50,
          100,
          50,
          100,
          100,
          0,
          100,
          100,
          100,
          100,
          100,
          100,
          100,
          0,
          100,
          0,
          0,
          0,
          100,
          100,
          100,
          100,
          100,
          100,
          100,
          100,
          100,
          100,
          100,
          100,
          100,
          100,
          100,
          0,
          100,
          100,
          100,
          100,
          0,
          100,
          0,
          100,
          88.88888888888889,
          100,
          100,
          100,
          100,
          100,
          0,
          100,
          100,
          100,
          100,
          100,
          100,
          100,
          100,
          100,
          100,
          100,
          100,
          100,
          100,
          0,
          0,
          100,
          100,
          100,
          0,
          0,
          100,
          100,
          20,
          100,
          0,
          100,
          100,
          100,
          0,
          100,
          100,
          100,
          100,
          100,
          73.68421052631578,
          100,
          0,
          62.5,
          0,
          100,
          100,
          0,
          100,
          100,
          0,
          100,
          100,
          100,
          100,
          100,
          0,
          0,
          100,
          100,
          100,
          100,
          100,
          0,
          100,
          100,
          100,
          100,
          100,
          0,
          100,
          100,
          0,
          100,
          100,
          100,
          100,
          0,
          100,
          0,
          100,
          100,
          100,
          0,
          100,
          100,
          100,
          0,
          0,
          100,
          100,
          100,
          100,
          0,
          100,
          0,
          100,
          0,
          100,
          100,
          100,
          100,
          100,
          100,
          0,
          100,
          100,
          100,
          100,
          100,
          100,
          100,
          100,
          100,
          100,
          0,
          100,
          100,
          100,
          100,
          0,
          100,
          100,
          100,
          100,
          100,
          100,
          0,
          0,
          0,
          0,
          100,
          100,
          100,
          100,
          0,
          100,
          0,
          100,
          100,
          100,
          100,
          0,
          100,
          0,
          100,
          0,
          100,
          100,
          100,
          50,
          100,
          100,
          100,
          0,
          100,
          100,
          0,
          0,
          100,
          66.66666666666666,
          100,
          56.25,
          100,
          100,
          100,
          100,
          100,
          100,
          100,
          100,
          50,
          100,
          100,
          100,
          100,
          0,
          100,
          33.33333333333333,
          50,
          0,
          0,
          0,
          100,
          50,
          66.66666666666666,
          100,
          100,
          100,
          100,
          50,
          100,
          100,
          100,
          66.66666666666666,
          100,
          100,
          100,
          0,
          100,
          0,
          100,
          0,
          100,
          100,
          0,
          100,
          66.66666666666666,
          100,
          33.33333333333333,
          0,
          100,
          100,
          100,
          0,
          100,
          100,
          100,
          0,
          50,
          100,
          0,
          100,
          100,
          100,
          100,
          100,
          100,
          0,
          100,
          0,
          0,
          50,
          0,
          100,
          100,
          100,
          100,
          100,
          0,
          100,
          100,
          100,
          100,
          100,
          100,
          0,
          100,
          0,
          100,
          0,
          100,
          100,
          50,
          0,
          0,
          0,
          100,
          100,
          100,
          100,
          100,
          100,
          100,
          0,
          100,
          100,
          100,
          100,
          100,
          100,
          0,
          100,
          0,
          100,
          83.33333333333334,
          100,
          100,
          100,
          66.66666666666666,
          0,
          0,
          100,
          100,
          100,
          50,
          100,
          0,
          100,
          100,
          100,
          100,
          100,
          100,
          100,
          50,
          100,
          100,
          0,
          100,
          0,
          0,
          100,
          0,
          100,
          0,
          0,
          0,
          100,
          0,
          100,
          100,
          100,
          100,
          100,
          100,
          0,
          0,
          0,
          100,
          0,
          0,
          100,
          0,
          0,
          100,
          100,
          100,
          100,
          100,
          33.33333333333333,
          100,
          0,
          100,
          100,
          100,
          0,
          100,
          100,
          100,
          50,
          0,
          100,
          100,
          100,
          0,
          0,
          87.5,
          100,
          100,
          100,
          100,
          0,
          100,
          50,
          100,
          80,
          50,
          100,
          100,
          100,
          0,
          0,
          0,
          50,
          100,
          100,
          100,
          100,
          100,
          100,
          100,
          100,
          0,
          100,
          100,
          100,
          0,
          0,
          100,
          100,
          100,
          100,
          0,
          100,
          100,
          100,
          100,
          100,
          0,
          100,
          100,
          100,
          75,
          0,
          50,
          100,
          0,
          100,
          100,
          100,
          100,
          100,
          100,
          100,
          100,
          100,
          100,
          0,
          83.33333333333334,
          100,
          0,
          50,
          0,
          100,
          100,
          100,
          50,
          83.33333333333334,
          100,
          0,
          100,
          100,
          100,
          0,
          0,
          100,
          100,
          100,
          100,
          100,
          0,
          100,
          0,
          100,
          0,
          0,
          100,
          100,
          100,
          60,
          0,
          100,
          100,
          0,
          100,
          100,
          100,
          100,
          0,
          0,
          0,
          50,
          100,
          0,
          100,
          100,
          0,
          0,
          58.333333333333336,
          50,
          55.55555555555556,
          100,
          0,
          100,
          100,
          100,
          100,
          100,
          100,
          100,
          0,
          100,
          0,
          100,
          100,
          100,
          100,
          100,
          75,
          0,
          100,
          100,
          100,
          100,
          70.58823529411765,
          66.66666666666666,
          100,
          61.53846153846154,
          100,
          100,
          0,
          66.66666666666666,
          100,
          100,
          0,
          0,
          100,
          0,
          100,
          100,
          100,
          100,
          0,
          0,
          100,
          0,
          100,
          50,
          100,
          0,
          100,
          100,
          100,
          100,
          100,
          0,
          0,
          50,
          0,
          100,
          100,
          0,
          100,
          100,
          100,
          100,
          100,
          100,
          100,
          0,
          100,
          100,
          50,
          100,
          0,
          100,
          100,
          100,
          100,
          100,
          100,
          33.33333333333333,
          75,
          100,
          100,
          100,
          100,
          100,
          66.66666666666666,
          100,
          100,
          100,
          100,
          0,
          0,
          100,
          0,
          100,
          0,
          0,
          100,
          100,
          0,
          0,
          100,
          0,
          0,
          100,
          100,
          0,
          0,
          100,
          0,
          100,
          0,
          100,
          100,
          100,
          100,
          75,
          100,
          100,
          100,
          0,
          100,
          100,
          88.88888888888889,
          100,
          100,
          0,
          100,
          100,
          100,
          100,
          0,
          100,
          100,
          0,
          100,
          100,
          100,
          100,
          50,
          0,
          100,
          100,
          100,
          0,
          100,
          100,
          100,
          100,
          100,
          100,
          100,
          0,
          100,
          100,
          100,
          0,
          100,
          28.57142857142857,
          100,
          100,
          100,
          100,
          100,
          100,
          100,
          0,
          0,
          100,
          0,
          100,
          0,
          100,
          100,
          100,
          100,
          0,
          100,
          100,
          100,
          0,
          50,
          100,
          0,
          100,
          0,
          100,
          100,
          100,
          0,
          100,
          100,
          100,
          100,
          100,
          100,
          100,
          100,
          0,
          50,
          100,
          100,
          0,
          0,
          0,
          0,
          100,
          100,
          100,
          100,
          50,
          50,
          100,
          100,
          100,
          100,
          0,
          100,
          0,
          81.81818181818183,
          100,
          100,
          100,
          100,
          83.33333333333334,
          60,
          73.68421052631578,
          100,
          0,
          100,
          100,
          75,
          0,
          50,
          0,
          0,
          100,
          100,
          100,
          100,
          100,
          100,
          100,
          0,
          100,
          100,
          100,
          0,
          100,
          100,
          100,
          100,
          0,
          100,
          100,
          100,
          50,
          100,
          100,
          100,
          100,
          0,
          100,
          100,
          100,
          100,
          58.333333333333336,
          100,
          100,
          100,
          100,
          100,
          0,
          0,
          100,
          0,
          100,
          0,
          50,
          100,
          100,
          100,
          50,
          100,
          100,
          100,
          0,
          100,
          100,
          100,
          100,
          100,
          0,
          100,
          100,
          100,
          100,
          100,
          100,
          100,
          100,
          100,
          0,
          50,
          0,
          0,
          0,
          0,
          100,
          0,
          100,
          100,
          100,
          0,
          100,
          100,
          100,
          100,
          0,
          0,
          100,
          0,
          100,
          100,
          100,
          100,
          100,
          100,
          100,
          100,
          0,
          100,
          100,
          0,
          0,
          50,
          100,
          83.33333333333334,
          100,
          75,
          100,
          100,
          100,
          100,
          100,
          100,
          100,
          100,
          0,
          80,
          100,
          100,
          100,
          100,
          100,
          100,
          100,
          100,
          0,
          83.33333333333334,
          100,
          100,
          100,
          100,
          100,
          0,
          100,
          100,
          0,
          0,
          0,
          100,
          100,
          100,
          100,
          0,
          0,
          100,
          0,
          100,
          50,
          100,
          0,
          100,
          100,
          57.14285714285714,
          61.206896551724135,
          0,
          100,
          0,
          0,
          0,
          100,
          100,
          100,
          100,
          100,
          100,
          0,
          100,
          100,
          0,
          100,
          100,
          100,
          100,
          75,
          0,
          100,
          100,
          100,
          100,
          0,
          100,
          100,
          100,
          100,
          75,
          0,
          100,
          100,
          100,
          100,
          100,
          100,
          100,
          100,
          100,
          100,
          100,
          100,
          0,
          100,
          100,
          100,
          0,
          100,
          0,
          100,
          100,
          100,
          0,
          0,
          100,
          0,
          100,
          100,
          100,
          100,
          50,
          100,
          100,
          100,
          100,
          100,
          0,
          100,
          0,
          100,
          100,
          100,
          0,
          0,
          0,
          0,
          0,
          0,
          0,
          100,
          100,
          100,
          100,
          100,
          100,
          0,
          100,
          0,
          0,
          0,
          100,
          0,
          100,
          0,
          100,
          100,
          100,
          100,
          100,
          100,
          100,
          100,
          100,
          33.33333333333333,
          100,
          0,
          0,
          100,
          100,
          0,
          100,
          0,
          0,
          0,
          0,
          0,
          100,
          100,
          100,
          100,
          0,
          0,
          0,
          100,
          0,
          100,
          100,
          100,
          100,
          0,
          100,
          100,
          100,
          0,
          0,
          100,
          100,
          100,
          100,
          0,
          0,
          100,
          100,
          0,
          100,
          0,
          0
         ],
         "xaxis": "x",
         "yaxis": "y"
        }
       ],
       "layout": {
        "barmode": "relative",
        "legend": {
         "tracegroupgap": 0
        },
        "template": {
         "data": {
          "bar": [
           {
            "error_x": {
             "color": "#2a3f5f"
            },
            "error_y": {
             "color": "#2a3f5f"
            },
            "marker": {
             "line": {
              "color": "#E5ECF6",
              "width": 0.5
             },
             "pattern": {
              "fillmode": "overlay",
              "size": 10,
              "solidity": 0.2
             }
            },
            "type": "bar"
           }
          ],
          "barpolar": [
           {
            "marker": {
             "line": {
              "color": "#E5ECF6",
              "width": 0.5
             },
             "pattern": {
              "fillmode": "overlay",
              "size": 10,
              "solidity": 0.2
             }
            },
            "type": "barpolar"
           }
          ],
          "carpet": [
           {
            "aaxis": {
             "endlinecolor": "#2a3f5f",
             "gridcolor": "white",
             "linecolor": "white",
             "minorgridcolor": "white",
             "startlinecolor": "#2a3f5f"
            },
            "baxis": {
             "endlinecolor": "#2a3f5f",
             "gridcolor": "white",
             "linecolor": "white",
             "minorgridcolor": "white",
             "startlinecolor": "#2a3f5f"
            },
            "type": "carpet"
           }
          ],
          "choropleth": [
           {
            "colorbar": {
             "outlinewidth": 0,
             "ticks": ""
            },
            "type": "choropleth"
           }
          ],
          "contour": [
           {
            "colorbar": {
             "outlinewidth": 0,
             "ticks": ""
            },
            "colorscale": [
             [
              0,
              "#0d0887"
             ],
             [
              0.1111111111111111,
              "#46039f"
             ],
             [
              0.2222222222222222,
              "#7201a8"
             ],
             [
              0.3333333333333333,
              "#9c179e"
             ],
             [
              0.4444444444444444,
              "#bd3786"
             ],
             [
              0.5555555555555556,
              "#d8576b"
             ],
             [
              0.6666666666666666,
              "#ed7953"
             ],
             [
              0.7777777777777778,
              "#fb9f3a"
             ],
             [
              0.8888888888888888,
              "#fdca26"
             ],
             [
              1,
              "#f0f921"
             ]
            ],
            "type": "contour"
           }
          ],
          "contourcarpet": [
           {
            "colorbar": {
             "outlinewidth": 0,
             "ticks": ""
            },
            "type": "contourcarpet"
           }
          ],
          "heatmap": [
           {
            "colorbar": {
             "outlinewidth": 0,
             "ticks": ""
            },
            "colorscale": [
             [
              0,
              "#0d0887"
             ],
             [
              0.1111111111111111,
              "#46039f"
             ],
             [
              0.2222222222222222,
              "#7201a8"
             ],
             [
              0.3333333333333333,
              "#9c179e"
             ],
             [
              0.4444444444444444,
              "#bd3786"
             ],
             [
              0.5555555555555556,
              "#d8576b"
             ],
             [
              0.6666666666666666,
              "#ed7953"
             ],
             [
              0.7777777777777778,
              "#fb9f3a"
             ],
             [
              0.8888888888888888,
              "#fdca26"
             ],
             [
              1,
              "#f0f921"
             ]
            ],
            "type": "heatmap"
           }
          ],
          "heatmapgl": [
           {
            "colorbar": {
             "outlinewidth": 0,
             "ticks": ""
            },
            "colorscale": [
             [
              0,
              "#0d0887"
             ],
             [
              0.1111111111111111,
              "#46039f"
             ],
             [
              0.2222222222222222,
              "#7201a8"
             ],
             [
              0.3333333333333333,
              "#9c179e"
             ],
             [
              0.4444444444444444,
              "#bd3786"
             ],
             [
              0.5555555555555556,
              "#d8576b"
             ],
             [
              0.6666666666666666,
              "#ed7953"
             ],
             [
              0.7777777777777778,
              "#fb9f3a"
             ],
             [
              0.8888888888888888,
              "#fdca26"
             ],
             [
              1,
              "#f0f921"
             ]
            ],
            "type": "heatmapgl"
           }
          ],
          "histogram": [
           {
            "marker": {
             "pattern": {
              "fillmode": "overlay",
              "size": 10,
              "solidity": 0.2
             }
            },
            "type": "histogram"
           }
          ],
          "histogram2d": [
           {
            "colorbar": {
             "outlinewidth": 0,
             "ticks": ""
            },
            "colorscale": [
             [
              0,
              "#0d0887"
             ],
             [
              0.1111111111111111,
              "#46039f"
             ],
             [
              0.2222222222222222,
              "#7201a8"
             ],
             [
              0.3333333333333333,
              "#9c179e"
             ],
             [
              0.4444444444444444,
              "#bd3786"
             ],
             [
              0.5555555555555556,
              "#d8576b"
             ],
             [
              0.6666666666666666,
              "#ed7953"
             ],
             [
              0.7777777777777778,
              "#fb9f3a"
             ],
             [
              0.8888888888888888,
              "#fdca26"
             ],
             [
              1,
              "#f0f921"
             ]
            ],
            "type": "histogram2d"
           }
          ],
          "histogram2dcontour": [
           {
            "colorbar": {
             "outlinewidth": 0,
             "ticks": ""
            },
            "colorscale": [
             [
              0,
              "#0d0887"
             ],
             [
              0.1111111111111111,
              "#46039f"
             ],
             [
              0.2222222222222222,
              "#7201a8"
             ],
             [
              0.3333333333333333,
              "#9c179e"
             ],
             [
              0.4444444444444444,
              "#bd3786"
             ],
             [
              0.5555555555555556,
              "#d8576b"
             ],
             [
              0.6666666666666666,
              "#ed7953"
             ],
             [
              0.7777777777777778,
              "#fb9f3a"
             ],
             [
              0.8888888888888888,
              "#fdca26"
             ],
             [
              1,
              "#f0f921"
             ]
            ],
            "type": "histogram2dcontour"
           }
          ],
          "mesh3d": [
           {
            "colorbar": {
             "outlinewidth": 0,
             "ticks": ""
            },
            "type": "mesh3d"
           }
          ],
          "parcoords": [
           {
            "line": {
             "colorbar": {
              "outlinewidth": 0,
              "ticks": ""
             }
            },
            "type": "parcoords"
           }
          ],
          "pie": [
           {
            "automargin": true,
            "type": "pie"
           }
          ],
          "scatter": [
           {
            "fillpattern": {
             "fillmode": "overlay",
             "size": 10,
             "solidity": 0.2
            },
            "type": "scatter"
           }
          ],
          "scatter3d": [
           {
            "line": {
             "colorbar": {
              "outlinewidth": 0,
              "ticks": ""
             }
            },
            "marker": {
             "colorbar": {
              "outlinewidth": 0,
              "ticks": ""
             }
            },
            "type": "scatter3d"
           }
          ],
          "scattercarpet": [
           {
            "marker": {
             "colorbar": {
              "outlinewidth": 0,
              "ticks": ""
             }
            },
            "type": "scattercarpet"
           }
          ],
          "scattergeo": [
           {
            "marker": {
             "colorbar": {
              "outlinewidth": 0,
              "ticks": ""
             }
            },
            "type": "scattergeo"
           }
          ],
          "scattergl": [
           {
            "marker": {
             "colorbar": {
              "outlinewidth": 0,
              "ticks": ""
             }
            },
            "type": "scattergl"
           }
          ],
          "scattermapbox": [
           {
            "marker": {
             "colorbar": {
              "outlinewidth": 0,
              "ticks": ""
             }
            },
            "type": "scattermapbox"
           }
          ],
          "scatterpolar": [
           {
            "marker": {
             "colorbar": {
              "outlinewidth": 0,
              "ticks": ""
             }
            },
            "type": "scatterpolar"
           }
          ],
          "scatterpolargl": [
           {
            "marker": {
             "colorbar": {
              "outlinewidth": 0,
              "ticks": ""
             }
            },
            "type": "scatterpolargl"
           }
          ],
          "scatterternary": [
           {
            "marker": {
             "colorbar": {
              "outlinewidth": 0,
              "ticks": ""
             }
            },
            "type": "scatterternary"
           }
          ],
          "surface": [
           {
            "colorbar": {
             "outlinewidth": 0,
             "ticks": ""
            },
            "colorscale": [
             [
              0,
              "#0d0887"
             ],
             [
              0.1111111111111111,
              "#46039f"
             ],
             [
              0.2222222222222222,
              "#7201a8"
             ],
             [
              0.3333333333333333,
              "#9c179e"
             ],
             [
              0.4444444444444444,
              "#bd3786"
             ],
             [
              0.5555555555555556,
              "#d8576b"
             ],
             [
              0.6666666666666666,
              "#ed7953"
             ],
             [
              0.7777777777777778,
              "#fb9f3a"
             ],
             [
              0.8888888888888888,
              "#fdca26"
             ],
             [
              1,
              "#f0f921"
             ]
            ],
            "type": "surface"
           }
          ],
          "table": [
           {
            "cells": {
             "fill": {
              "color": "#EBF0F8"
             },
             "line": {
              "color": "white"
             }
            },
            "header": {
             "fill": {
              "color": "#C8D4E3"
             },
             "line": {
              "color": "white"
             }
            },
            "type": "table"
           }
          ]
         },
         "layout": {
          "annotationdefaults": {
           "arrowcolor": "#2a3f5f",
           "arrowhead": 0,
           "arrowwidth": 1
          },
          "autotypenumbers": "strict",
          "coloraxis": {
           "colorbar": {
            "outlinewidth": 0,
            "ticks": ""
           }
          },
          "colorscale": {
           "diverging": [
            [
             0,
             "#8e0152"
            ],
            [
             0.1,
             "#c51b7d"
            ],
            [
             0.2,
             "#de77ae"
            ],
            [
             0.3,
             "#f1b6da"
            ],
            [
             0.4,
             "#fde0ef"
            ],
            [
             0.5,
             "#f7f7f7"
            ],
            [
             0.6,
             "#e6f5d0"
            ],
            [
             0.7,
             "#b8e186"
            ],
            [
             0.8,
             "#7fbc41"
            ],
            [
             0.9,
             "#4d9221"
            ],
            [
             1,
             "#276419"
            ]
           ],
           "sequential": [
            [
             0,
             "#0d0887"
            ],
            [
             0.1111111111111111,
             "#46039f"
            ],
            [
             0.2222222222222222,
             "#7201a8"
            ],
            [
             0.3333333333333333,
             "#9c179e"
            ],
            [
             0.4444444444444444,
             "#bd3786"
            ],
            [
             0.5555555555555556,
             "#d8576b"
            ],
            [
             0.6666666666666666,
             "#ed7953"
            ],
            [
             0.7777777777777778,
             "#fb9f3a"
            ],
            [
             0.8888888888888888,
             "#fdca26"
            ],
            [
             1,
             "#f0f921"
            ]
           ],
           "sequentialminus": [
            [
             0,
             "#0d0887"
            ],
            [
             0.1111111111111111,
             "#46039f"
            ],
            [
             0.2222222222222222,
             "#7201a8"
            ],
            [
             0.3333333333333333,
             "#9c179e"
            ],
            [
             0.4444444444444444,
             "#bd3786"
            ],
            [
             0.5555555555555556,
             "#d8576b"
            ],
            [
             0.6666666666666666,
             "#ed7953"
            ],
            [
             0.7777777777777778,
             "#fb9f3a"
            ],
            [
             0.8888888888888888,
             "#fdca26"
            ],
            [
             1,
             "#f0f921"
            ]
           ]
          },
          "colorway": [
           "#636efa",
           "#EF553B",
           "#00cc96",
           "#ab63fa",
           "#FFA15A",
           "#19d3f3",
           "#FF6692",
           "#B6E880",
           "#FF97FF",
           "#FECB52"
          ],
          "font": {
           "color": "#2a3f5f"
          },
          "geo": {
           "bgcolor": "white",
           "lakecolor": "white",
           "landcolor": "#E5ECF6",
           "showlakes": true,
           "showland": true,
           "subunitcolor": "white"
          },
          "hoverlabel": {
           "align": "left"
          },
          "hovermode": "closest",
          "mapbox": {
           "style": "light"
          },
          "paper_bgcolor": "white",
          "plot_bgcolor": "#E5ECF6",
          "polar": {
           "angularaxis": {
            "gridcolor": "white",
            "linecolor": "white",
            "ticks": ""
           },
           "bgcolor": "#E5ECF6",
           "radialaxis": {
            "gridcolor": "white",
            "linecolor": "white",
            "ticks": ""
           }
          },
          "scene": {
           "xaxis": {
            "backgroundcolor": "#E5ECF6",
            "gridcolor": "white",
            "gridwidth": 2,
            "linecolor": "white",
            "showbackground": true,
            "ticks": "",
            "zerolinecolor": "white"
           },
           "yaxis": {
            "backgroundcolor": "#E5ECF6",
            "gridcolor": "white",
            "gridwidth": 2,
            "linecolor": "white",
            "showbackground": true,
            "ticks": "",
            "zerolinecolor": "white"
           },
           "zaxis": {
            "backgroundcolor": "#E5ECF6",
            "gridcolor": "white",
            "gridwidth": 2,
            "linecolor": "white",
            "showbackground": true,
            "ticks": "",
            "zerolinecolor": "white"
           }
          },
          "shapedefaults": {
           "line": {
            "color": "#2a3f5f"
           }
          },
          "ternary": {
           "aaxis": {
            "gridcolor": "white",
            "linecolor": "white",
            "ticks": ""
           },
           "baxis": {
            "gridcolor": "white",
            "linecolor": "white",
            "ticks": ""
           },
           "bgcolor": "#E5ECF6",
           "caxis": {
            "gridcolor": "white",
            "linecolor": "white",
            "ticks": ""
           }
          },
          "title": {
           "x": 0.05
          },
          "xaxis": {
           "automargin": true,
           "gridcolor": "white",
           "linecolor": "white",
           "ticks": "",
           "title": {
            "standoff": 15
           },
           "zerolinecolor": "white",
           "zerolinewidth": 2
          },
          "yaxis": {
           "automargin": true,
           "gridcolor": "white",
           "linecolor": "white",
           "ticks": "",
           "title": {
            "standoff": 15
           },
           "zerolinecolor": "white",
           "zerolinewidth": 2
          }
         }
        },
        "title": {
         "text": "Distribution of positive percentage reviews per location"
        },
        "xaxis": {
         "anchor": "y",
         "domain": [
          0,
          1
         ],
         "title": {
          "text": "Positive Percentage"
         }
        },
        "yaxis": {
         "anchor": "x",
         "domain": [
          0,
          1
         ],
         "title": {
          "text": "Count"
         }
        }
       }
      }
     },
     "metadata": {},
     "output_type": "display_data"
    }
   ],
   "source": [
    "location_review_counts.sort_values(by='PositivePercentage', ascending=False)\n",
    "\n",
    "# distribution of positive persentage reviews per location\n",
    "fig = px.histogram(location_review_counts, x='PositivePercentage', title='Distribution of positive percentage reviews per location')\n",
    "fig.update_layout(xaxis_title='Positive Percentage', yaxis_title='Count')\n",
    "fig.update_traces(texttemplate='%{value}', textposition='outside')\n",
    "# set color palette for plot as percentage values\n",
    "fig.update_traces(marker_color=px.colors.sequential.amp)\n",
    "fig.show()"
   ]
  },
  {
   "cell_type": "code",
   "execution_count": 395,
   "metadata": {},
   "outputs": [
    {
     "data": {
      "application/vnd.plotly.v1+json": {
       "config": {
        "plotlyServerURL": "https://plot.ly"
       },
       "data": [
        {
         "alignmentgroup": "True",
         "bingroup": "x",
         "hovertemplate": "Sentiment=1<br>Location=%{x}<br>count=%{y}<extra></extra>",
         "legendgroup": "1",
         "marker": {
          "color": "#636efa",
          "pattern": {
           "shape": ""
          }
         },
         "name": "1",
         "offsetgroup": "1",
         "orientation": "v",
         "showlegend": true,
         "type": "histogram",
         "x": [
          "Sebastian",
          "Los Angeles",
          "Georgia",
          "Palm Harbor",
          "California",
          "Redding",
          "Jacksonville",
          "España",
          "La quinta",
          "Seattle",
          "Riverside",
          "Champaign, IL",
          "Las Vegas",
          "Miami",
          "Bayonne nj",
          "Corinth",
          "Venice",
          "Chicago",
          "High Springs, FL",
          "Tokyo",
          "Mooresville NC",
          "Fresno, CA",
          "Pittsburgh",
          "Santa Cruz.",
          "Puerto Rico",
          "Panama City",
          "Chicago",
          "Shreveport",
          "Oak Grove",
          "WPB",
          "Sydney Australia",
          "Cape Coral",
          "Toronto",
          "Ottawa Ont",
          "Weeki Wachee Fl.",
          "Jacksonville",
          "Japan",
          "Irvine, CA",
          "Illinois",
          "Texas",
          "California",
          "Sebastian, FL",
          "Seattle",
          "Palm Island, Florida",
          "Pennsylvania",
          "Vancouver",
          "Columbia, SC",
          "Savannah, GA",
          "Brick",
          "Wichita KS",
          "Lake Buena Vista",
          "Chicago, IL",
          "Seattle WA",
          "South bend Indiana",
          "Illinois",
          "Daytona",
          "charlotte",
          "Saint John, NB Canada",
          "Pernambuco, Brasil",
          "Michigan",
          "San Francisco",
          "Washington, DC",
          "Washington",
          "Toronto",
          "Fontana,ca",
          "Guadalajara",
          "Michigan",
          "Maryland",
          "Princeton",
          "Vinton, VA 24179",
          "Puerto Rico",
          "Springfield, MA",
          "New Bedford, MA",
          "Sparks nv",
          "West Palm Beach",
          "Rockland, MA",
          "Ann Arbor",
          "Washington, DC",
          "Oshawa, on",
          "Carlsbad",
          "Santa Ana Ca.",
          "Chicago",
          "Leeds UK",
          "Fresh Meadows",
          "Ocala",
          "Burlington ON Canada",
          "Porirua, NZ",
          "Northboro",
          "Henderson, NV",
          "Toowoomba",
          "Key west",
          "Vero Beach",
          "Orlando",
          "San Diego",
          "Toronto, ON",
          "NY",
          "Santa Ana",
          "Salt Lake City",
          "Brick NJ",
          "West Palm Beach",
          "Washington, DC",
          "Tamarac, Fl",
          "Montreal, QC",
          "NewSmyrnaBeach",
          "Minster",
          "Phoenix",
          "Cary",
          "Florida",
          "Wash DC",
          "Philadelphia",
          "Clovis, CA",
          "New York",
          "Kansas City",
          "Belfast",
          "Illinois",
          "CA",
          "Willoughby, OH",
          "LA Ca",
          "Atlanta Ga",
          "NYC",
          "Jacksonville",
          "New York",
          "Scotland",
          "Los Angeles",
          "Flushing, mi",
          "Guadalajara",
          "Jersey City, NJ",
          "Kissimmee fl",
          "Toronto",
          "New Jersey",
          "Plantation, FL",
          "Plant City, FLORIDA",
          "Modesto",
          "Lake Buena Vista",
          "NY",
          "Jacksonville, FL",
          "Dorado, PR",
          "Ft. Myers",
          "Boston",
          "Jupiter, Fl",
          "miami",
          "London Ontario",
          "Palm harbor fl",
          "Nebraska",
          "Lincoln, CA",
          "Newark ca",
          "Punta Gorda",
          "Brantford,ON. CANADA>",
          "Richmond, VA",
          "Jupiter, FL",
          "San Francisco",
          "New York, New York",
          "Atlanta",
          "Navarre, FL",
          "Irvine",
          "Long Island, NY",
          "Tampa, FL",
          "Toronto, Canada",
          "Seattle",
          "N.Y.",
          "New Jersey",
          "Sacramento CA. 95838",
          "Baltimore",
          "Chicago",
          "Seattle",
          "Glasgow",
          "Marrakech",
          "Amesbury",
          "Belfast Northern Ireland",
          "Indianapolis, IN",
          "Ohio",
          "Tampa",
          "yakima wa",
          "Ft. Lauderdale",
          "Tampa",
          "Nairobi",
          "Oregon",
          "Miami",
          "Montreal",
          "San Pedro",
          "Lutz, Fl",
          "Utah",
          "Palm Beach",
          "Long Beach",
          "Mission Viejo",
          "Brampton, ON, CA",
          "Savannah, GA",
          "Vancouver",
          "Toronto, Ontario, Canada",
          "Tampa",
          "Las Vegas",
          "Albany, NY",
          "NY",
          "Delray beach",
          "Kentucky",
          "Buckinghamshire",
          "Toronto",
          "London",
          "Willoughby, OH",
          "Seattle, WA",
          "West reading pa",
          "Naples",
          "Thousand Oaks",
          "New Britain",
          "truro",
          "Ocho Rios, Jamaica",
          "Jupiter",
          "Dunedin ,Fl",
          "Boston",
          "Tucson",
          "Maryland",
          "Singapore",
          "Sacramento",
          "Oklahoma",
          "Cayman Islands",
          "Halifax",
          "Delaware OH",
          "Philadelphia",
          "Miami",
          "Detroit",
          "New Orleans",
          "Magee Ms",
          "Riverview",
          "Las vegas",
          "Western Australia",
          "Carson City",
          "Fresh Meadows, NY",
          "Bakersfield",
          "Jacksonville",
          "Lake worth",
          "New hyde park, ny",
          "Plano TX",
          "Temecula",
          "Los angeles",
          "Murrieta, CA",
          "Jacksonville Florida",
          "Fresno",
          "Apple valley ca",
          "Los Angeles",
          "CALOUNDRA",
          "Frankfurt",
          "Manchester",
          "Edmonton",
          "Miami",
          "Miami",
          "Fort Lauderdale",
          "Denver",
          "Wichita, ks",
          "Los Angeles",
          "Reno",
          "san diego, ca.",
          "Jacksonville",
          "New Hampshire",
          "Worcester",
          "Williamsport, Pa",
          "Stockton",
          "Winnipeg",
          "Calgary",
          "Bellizzi, it",
          "Plano",
          "Philadelphia",
          "Alabama",
          "Scarborough Me",
          "Fresno ca",
          "cary, NC",
          "Aguascalientes, Mexico",
          "South Orang, us",
          "San Jose ca",
          "Bay Area, CA",
          "Irvine, ca",
          "Santa Barbara, us",
          "Jacksonville fl",
          "Ft. Lauderdale",
          "Warminster, Pa, us",
          "Holderness, NH",
          "Vegas",
          "La Canada, CA",
          "New Haven, CT",
          "Scituate, MA",
          "Roseville Ca.",
          "New Boston, MI",
          "Auckland, New Zealand",
          "Los Angeles",
          "Long Island, NY",
          "Fort. Wayne Indiana",
          "Allentown, NJ",
          "Montreal, ca",
          "SF, CA",
          "WPB, FL",
          "Grand Rapids, Mn",
          "Warren, RI",
          "Minnesota",
          "Union, NJ",
          "West Palm Beach, Florida",
          "Virginia",
          "Queens, ny",
          "Suitland md",
          "Riverside, California",
          "Port St. Lucie, Fl",
          "Washington DC",
          "Monterey, US",
          "Roseville CA",
          "Fredericton, New Brunswick, Canada",
          "New York, ny",
          "Mequon, Wi",
          "san jose, us",
          "Spring, TX",
          "Las Vegas",
          "Mayaguez, PR",
          "Boston",
          "Boston, MA",
          "Myrtle Beach",
          "Portland, OR USA",
          "Delray Beach Florida",
          "Seattle",
          "Cedar Bluffs, Ne",
          "kansas",
          "Greenville SC",
          "Canoga Park, us",
          "fort lauderdale, us",
          "San diego, us",
          "Falkirk,GB.",
          "Estero,FL",
          "Wisconsin",
          "Sacramento, us",
          "Los Angeles",
          "Crown Point",
          "Irvine",
          "New York",
          "Fruitvale Tx.",
          "mississauga",
          "New York",
          "Horseheads,NY, us",
          "New York",
          "Atlanta, GA",
          "Richmond, VA",
          "Wethersfield Ct",
          "Winter garden FL",
          "Terre Haute, IN USA",
          "Victoria, ca",
          "largo, fl",
          "Portland, OR",
          "Orlando FL",
          "Seattle, WA",
          "Stuttgart, De",
          "Dubai, UAE",
          "Carolina Puerto Rico",
          "Pensacola, us",
          "Zionsville, Pa",
          "Coatbridge Scotland",
          "Honolulu, Hawaii",
          "Hillsboro,Oregon",
          "London, OH",
          "Hilo, HI, U.S.",
          "Michigan",
          "Danvers, MA",
          "Portsmouth, RI",
          "Chino Hills",
          "Chicago",
          "Orlando us",
          "New Orleans, USA",
          "Orlando, fl",
          "Lewiston NY",
          "Stoke on Trent UK",
          "Miami, Fl.",
          "Ant landing ga",
          "Clinton, MD",
          "Gainesville florida",
          "Immokalee fl",
          "s\n St. Petersburg, Florida",
          "Colorado",
          "Winston-Salem, NC",
          "Paris",
          "Reno, Nevada",
          "Los Angeles, CA",
          "Mukilteo, WA",
          "Orlando, fl",
          "Spokane WA",
          "State College, PA",
          "Miami Beach",
          "Los ángeles , us",
          "Birmingham, al",
          "Lubbock tx",
          "Miami",
          "wGreeashin\n \n Greendale",
          "NorCal",
          "Maine",
          "Saratoga Springs NY",
          "Windsor CA",
          "South Florida",
          "Glasgow, UK",
          "New Hampshire",
          "Westmont, IL, us",
          "Merlin, Oregon, us",
          "Fort Collins",
          "NJ",
          "Melbourne, FL",
          "Galloway, NJ",
          "Parker, Colorado",
          "Sacramento, California",
          "CLERMONT-FD",
          "RI",
          "Chino Hills, us",
          "NC",
          "Las Vegas NV",
          "San Diego",
          "Davie, FL",
          "Portland, OR",
          "BOSTON",
          "Las Vegas, NV",
          "Arizona",
          "Queretaro , mx",
          "spring hill fl",
          "St Barth",
          "Florida",
          "California",
          "Vancouver, BC",
          "Toronto",
          "Birmingham, AL, US",
          "West Des Moines, IA",
          "Reading pa",
          "Massachusetts",
          "Montreal",
          "Orlando florida",
          "Tampa, US",
          "Jackson nj",
          "Flirida",
          "Georgia, us",
          "sacramento, ca",
          "Boston",
          "Minneapolis, us",
          "Washington, DC",
          "North Branford, CT.",
          "Chicago",
          "Huissen",
          "Algoma wiscondin",
          "Pt. Pleasant NJ",
          "Good",
          "Boston, MA",
          "Oak Ridge, NJ",
          "Boston mass",
          "Seaside, CA",
          "Toronto",
          "Paramus, N.J.",
          "Dania Beach, Fl",
          "Las Vegas",
          "Fort Wayne, IN",
          "Richmond,va",
          "Covina, CA",
          "Toronto",
          "Vancouver, Wa",
          "Fonthill",
          "Regina, SK",
          "Long Island NY",
          "Brooklyn",
          "Clewiston, FL",
          "Three Rivers, Mi",
          "Newcastle",
          "Cobleskill, NY",
          "San Jose",
          "Aalborg, Denmark",
          "Davie, Us",
          "Iowa",
          "Fort Myers",
          "Fernandina Beach, FL",
          "Bakersfield",
          "Washington, DC",
          "Orlando FL",
          "Newcastle upon Tyne",
          "San Diego CA",
          "Boston",
          "San Diego, us",
          "Hoboken",
          "Braintree ma",
          "Bradenton, US",
          "New York",
          "New York, NY",
          "Land o lakes florida",
          "Nova",
          "Iowa",
          "New York, NY",
          "Nashville, TN, USA",
          "Chico,CA",
          "Tulare, ca",
          "Suwanee GA.",
          "Des Moines, IA",
          "La Verne, California",
          "Oakland, ca",
          "Brigdeport ct",
          "irvine, us",
          "Macon Ga",
          "Antioch ca",
          "Lee, us",
          "Rochester, NY",
          "Prince George’s Co. MD",
          "Bakersfield, ca",
          "Bronx,new york",
          "Bethesda, MD",
          "Maine, US",
          "Chino Hill, CA",
          "Portland Oregon",
          "San Jose",
          "canada",
          "Queen Creek, us",
          "columbus, tx",
          "Vancouver, ca",
          "Illinois",
          "Washington, DC",
          "Ventura CA",
          "Los Angeles, CA",
          "Boone, NC",
          "Edmonton, Alberta Canada",
          "ontario",
          "Elkhorn WI",
          "Manhattan, NY",
          "CT",
          "Chicago,Il",
          "Deerfield Beach, FL",
          "Tulsa, Oklahoma, USA",
          "California",
          "Boston MA",
          "Yorkton, Canada",
          "Deerfield Beach, Florida",
          "NY",
          "Philadelphia",
          "Northridge",
          "middletown, ny",
          "Studio City, CA",
          "Delmar, NY, us",
          "Edwardsville, Ial",
          "selden Ny",
          "Philadelphia, PA",
          "Howard Beach",
          "Philadelphia, PA",
          "Baltimore",
          "Land O Lakes, FL, us",
          "Hawthorne, California, USA",
          "Las Vegas nv",
          "Miami",
          "Orlando Florida",
          "Bensalem, US",
          "Oldsmar, Fl",
          "Miami, US",
          "Avon, us",
          "Maidstone",
          "Loxahatchee Fl",
          "Cleveland, OH",
          "Destin, FL",
          "Frisco, TX",
          "Dayton us",
          "Rockville, us",
          "Guildford, gb",
          "Tampa",
          "Staffordshire",
          "North east",
          "Southampton ny",
          "Midway, USA",
          "Pismo",
          "Flower Mound Tx",
          "New York, NY",
          "San Francisco, CA",
          "huntington,NY",
          "Boyertown pa",
          "Anderson, IN",
          "Middletown, md",
          "Champaign,IL",
          "Carleton Place, ON Canada",
          "DC",
          "Los Angeles, California",
          "Vancouver, Canada",
          "Parkland, us",
          "Hialeah, FL",
          "Roma",
          "Irvine, CA",
          "New York, NY",
          "New York",
          "Peterborough uk",
          "Chelmsford",
          "Tracy, CA",
          "Los Angeles",
          "Exton, PA",
          "NJ",
          "Sonneberg",
          "Martinique",
          "Chula vista CA",
          "Birmingham, AL",
          "Florida",
          "New Jersey",
          "San jose california",
          "Louisville Kentucky",
          "Miami, Florida",
          "New york",
          "Dallas, Texas",
          "Huntington Beach, CA",
          "NY",
          "Ft Walton Beach",
          "Montreal",
          "Fairfax Station, VA",
          "Washington DC",
          "England",
          "Flushing",
          "Williamstown, NJ",
          "Rice Lake WI",
          "London, gb",
          "NY",
          "Spring, tx",
          "Toronto, ON",
          "Manchester, UK",
          "Portland,Me area",
          "Waco, TX",
          "Surrey UK",
          "Pennsylvania",
          "Chicago",
          "Berkley, MA USA",
          "Orlando, FL",
          "Bronx, ny",
          "Boston",
          "San Francisco",
          "las vegas",
          "Carmichael, CA",
          "Miami, FL",
          "Boston, us",
          "Tampa, Florida",
          "Rochester",
          "Rochester BY",
          "jacksonville, Fl",
          "Tampa, Fl",
          "Whitley Bay, gb",
          "Liverpool, NY",
          "Jacksonville, fl",
          "Denver, CO",
          "Orlando, Florida",
          "Trinidad",
          "NYC",
          "RSM, USA",
          "New York",
          "Ponce, PR",
          "lutz, fl",
          "Wayne, NJ",
          "Lehigh Acres Florida",
          "Southend-on-sea Essex",
          "punta gorda, fl",
          "Ayr Scotland",
          "San Diego, us",
          "Hollywood, Fla",
          "Calgary, ca",
          "Tampa FL",
          "Virginia",
          "Antony, FR",
          "MIGNANEGO - GENOVA - ITALIA",
          "San Antonio Tx",
          "Orlando",
          "Brisbane",
          "Brooklyn",
          "Bethlehem, PA",
          "Austin, TX",
          "Leicester, UK",
          "Cincinnati, Oh",
          "Deptford, NJ",
          "San jose, ca",
          "Hidson Valley, US",
          "Gainesville VA",
          "lakewood, oh",
          "Regina Canada",
          "Victoria",
          "Phoenix AZ, us",
          "New York",
          "New York City",
          "The OC",
          "Berkeley",
          "CO",
          "London",
          "Canada",
          "New York City",
          "San Jose, CA",
          "miami",
          "Sunrise, FL",
          "Longwood",
          "Hollister",
          "Miami",
          "NC",
          "Hamilton, ON, Canada",
          "London",
          "Santa Maria, California",
          "Toronto",
          "Redding, CA",
          "Vancouver",
          "Florida",
          "San Jose",
          "Atlanta Georgis",
          "Fort Lauderdale",
          "Washington DC",
          "Indiana",
          "Gainesville,Fl",
          "Livermore, Ca",
          "Vancouver, Wa",
          "London",
          "L.A",
          "Rochester NY",
          "Timmins , Ontario",
          "San Diego",
          "NC",
          "Manhattan",
          "Elewah",
          "Exeter",
          "St Marys",
          "San Jose",
          "Ontario, Canada",
          "Toronto Ontario",
          "Syracuse",
          "Anaheim Ca",
          "Fresno, CA",
          "Philadelphia",
          "New York",
          "New york",
          "Dallas",
          "DC",
          "Texas",
          "Scotts Valley",
          "South Bend, IN",
          "Nyon",
          "Queens",
          "North Carolina",
          "Sacramento",
          "Orlando",
          "South Bay CA",
          "Singapore",
          "Thunder Bay",
          "Loves Park, IL",
          "Alexandria, VA",
          "Petaluma, Ca.",
          "New York",
          "New York",
          "Huntington Beach",
          "Monterey county, california",
          "Northern VA",
          "San Leandro",
          "Marlboro, NY",
          "Ontario",
          "Bakersfield, California",
          "Mexico",
          "New York, NY",
          "San Diego, CA",
          "Portland, OR",
          "Calgary,AB",
          "CT",
          "Nassau Bahamas",
          "Guatemala",
          "San Jose, Ca",
          "Hertfordshire",
          "Canada",
          "Lake Tahoe",
          "San Jose",
          "california",
          "San Jose",
          "Chicago",
          "San diego",
          "San Jose",
          "Huntsville, AL",
          "Queens, New York",
          "Culver City, CA",
          "Simi Valley",
          "Tampa, FL",
          "mennecy",
          "Buena Park, Ca",
          "London",
          "Rochester, NY",
          "New York",
          "Canada",
          "Miami",
          "Seoul, Korea",
          "Kennesaw, GA",
          "Houston",
          "Sunderland",
          "New York",
          "Vancouver, BC",
          "Pittsburgh",
          "NY",
          "Midlothian",
          "Washington, D.C.",
          "Gateshead",
          "Belmar NJ",
          "San Diego",
          "Minneapolis, MN",
          "Ontario",
          "Maryland",
          "Scotland",
          "Fresno, CA",
          "Orlando",
          "michigan",
          "Cleveland, OH",
          "Orlando, Florida",
          "Chicago",
          "Austin, TX",
          "NEW YORKER",
          "sagamore beach ma",
          "Vancouver",
          "Maryland",
          "Canada",
          "Tampa, FL",
          "Calgary, Alberta",
          "Portsmouth, UK",
          "Omaha",
          "England",
          "Nashville, TN",
          "Mexico",
          "Guatemala",
          "queensland Australia",
          "Florida",
          "san lorenzo",
          "California",
          "New Rochelle, NY.",
          "Orange County, CA",
          "Denver",
          "Boise",
          "Melbourne Australia",
          "New Jersey",
          "UK",
          "Ce",
          "Orlando",
          "Fresno, CA",
          "Los Angeles CA",
          "Tampa",
          "California",
          "Sacramento",
          "Brewster, NY",
          "Calgary",
          "Vancouver, BC",
          "LA, California",
          "Crystal Beach, Ontario",
          "Pennsylvania",
          "Israel",
          "Cambridge, England",
          "New York",
          "London",
          "Philadelphia",
          "Gävle, Sverige",
          "Florida",
          "St Monans",
          "Philadelphia",
          "Irvine",
          "Springfield NJ",
          "Stl, mo",
          "New York",
          "Arizona",
          "mexico",
          "Sacramento",
          "New york",
          "British Columbia",
          "Miami",
          "orlando, fl",
          "California",
          "Colorado",
          "California",
          "Miami, fl",
          "San Jose airport",
          "Amherst, NS",
          "Philadelphia PA",
          "warwick ny",
          "Eagle, Idaho",
          "Md",
          "Angus,Scotland",
          "Tennessee",
          "Tustin",
          "Tbilisi",
          "Hawaii",
          "Geneve",
          "Philadelphia",
          "New York",
          "NYC",
          "Mansfield, Texas",
          "Chicago",
          "New Jersey",
          "NYC Chinatown",
          "London",
          "San Jose",
          "Virginia",
          "Irvine",
          "Fl",
          "Madison Wisconsin",
          "Memphis",
          "New York, New York",
          "Oxnard, CA",
          "Sacramento",
          "Los Angeles, CA",
          "Seattle",
          "Alberta",
          "Wokingham, England",
          "Fl",
          "Seattle, WA",
          "Chicago",
          "Austin",
          "Saratoga new york",
          "Stockton",
          "New York",
          "San Francisco",
          "Boston",
          "New York",
          "Stoke on Trent, England",
          "California",
          "San Francisco",
          "San Diego Harbor Island",
          "Pensacola",
          "Fort Pierce, FL",
          "Livingston",
          "Andover, MA",
          "Idaho",
          "Ft lauderdale",
          "Irvine",
          "Sacramento",
          "South beach, Florida",
          "Florida",
          "Santa Cruz, CA",
          "New Mexico",
          "melbourne, australia",
          "Miami Beach",
          "WI",
          "Four Points",
          "Monterrey",
          "San Jose",
          "Melbourne",
          "New York City, New York",
          "Edmonton. AB",
          "Toronto",
          "Sacramento ca",
          "Santo Domingo",
          "Arizona",
          "New York",
          "San Diego",
          "Flushing, NY",
          "Las Vegas NV",
          "Guildford, UK",
          "hessen",
          "Ottawa, Ontario",
          "Sacramento, CA",
          "Dublin, CA",
          "Central Virginia",
          "Michigan",
          "Orlando, Florida",
          "Ocean Isle Beach N C",
          "Columbus, Ohio",
          "California",
          "Stratford Canada",
          "Maryland",
          "California",
          "Central California",
          "Northern California",
          "orlando, Florida",
          "Pittsburgh pa",
          "Florida",
          "San jose",
          "San Diego",
          "Toronto, Canada",
          "San Diego",
          "Olympia, Wa",
          "Orlando, Fl",
          "DC",
          "Uk Midlands.",
          "San Diego",
          "Vancouver",
          "St. Petersburg, FL",
          "Temecula",
          "Uk",
          "Wine Country",
          "West Portsmouth, Ohio",
          "Michigan",
          "Texas",
          "Wellington, Florida",
          "Wellington, Florida",
          "Philadelphia, PA",
          "England",
          "New York",
          "England UK",
          "Barbados",
          "Utah",
          "Waco, TX",
          "Orlando, Florida",
          "San Jose",
          "Newport Beach, CA",
          "San Jose, CA",
          "Milan, Italy",
          "Houston,Tx",
          "Santa fe",
          "St. Louis",
          "tampa",
          "Carson, CA",
          "Phoenix,AZ",
          "Calgary",
          "Maine",
          "Melbourne, Australia.",
          "San Francisco, CA",
          "NYC",
          "Bay Area, California",
          "Out USA",
          "Seattle",
          "Escondido, ca",
          "Seattle, WA",
          "Wndermere",
          "Ontario",
          "DC",
          "Birmingham, AL",
          "Orlando",
          "Buena Park, CA",
          "San Jose",
          "Bostin/MA",
          "BC Canada",
          "Huntsville, Ontario, Canada",
          "Boston",
          "Red Deer",
          "Miami Beach",
          "Orlando, FL",
          "Orlando",
          "Bradenton, FL",
          "Seattle, WA",
          "San Luis Obispo",
          "Ct",
          "Surrey, BC",
          "Queens New York",
          "Georgia",
          "New York",
          "coventry. UK",
          "MS",
          "NJ",
          "San Diego, CA",
          "Busan, Korea",
          "Poland",
          "Vancouver, BC",
          "Oc",
          "SC",
          "NYC",
          "Texas",
          "San Jose",
          "Hong Kong",
          "Bellevue, WA",
          "West Salem, WI",
          "Baghdad",
          "2186",
          "New York, NY",
          "New York, NY",
          "Waterford Michigan",
          "Tampa FL",
          "Ticonderoga ny",
          "Los Angeles",
          "Orando FL",
          "New York, NY",
          "Terral, OK",
          "San Jose",
          "Calif",
          "San Francisco, CA",
          "Los Angeles, CA",
          "Conway, SC",
          "oregon",
          "Atlanta",
          "Iowa",
          "Los Angeles, Ca",
          "Haarlem",
          "Keizer Oregon",
          "Gent",
          "San Juan, PR",
          "Orlando Fl",
          "Udine",
          "Washington, DC",
          "Jamaica Estates, NY",
          "Fresh Meadows, NY",
          "OC, CA",
          "Mesa, AZ",
          "Germany",
          "NY NY",
          "Albany NY",
          "Maryland",
          "New Jersey",
          "Nyc",
          "Puerto Eixo",
          "Oakland,CA",
          "West Palm Beach",
          "Orlando",
          "Orlando",
          "New York",
          "Denver",
          "West Monroe NY",
          "Toronto",
          "California",
          "So Cal",
          "Yuba City California",
          "Minnehaha",
          "MD",
          "San Diego",
          "California",
          "Fort Lauderdale, Florida",
          "Florida",
          "NC",
          "Bayview",
          "Boston, MA",
          "San Jose, CA",
          "UK",
          "San Jose CA",
          "San Jose",
          "Fresh Meadows, New York",
          "San jose, California",
          "New York",
          "Reno, NV",
          "California",
          "Lee's Summit",
          "Toronto Area, Ontario, Canada",
          "CT",
          "United Arab Emirates",
          "Slovenia",
          "United States of America",
          "United States of America",
          "United States of America",
          "United States of America",
          "United States of America",
          "United States of America",
          "United States of America",
          "United States of America",
          "Canada",
          "United Kingdom",
          "United States of America",
          "United States of America",
          "United States of America",
          "United States of America",
          "Netherlands",
          "France",
          "United States of America",
          "United Kingdom",
          "United States of America",
          "Taiwan",
          "United Kingdom",
          "United States of America",
          "Philippines",
          "United States of America",
          "United States of America",
          "United States of America",
          "United States of America",
          "United States of America",
          "Canada",
          "Canada",
          "New Zealand",
          "United States of America",
          "Netherlands",
          "United States of America",
          "United States of America",
          "United States of America",
          "Australia",
          "United States of America",
          "United Kingdom",
          "United States of America",
          "United States of America",
          "Canada",
          "United States of America",
          "United States of America",
          "United States of America",
          "United States of America",
          "United States of America",
          "United Kingdom",
          "United States of America",
          "United States of America",
          "United States of America",
          "United States of America",
          "United States of America",
          "United States of America",
          "United States of America",
          "Poland",
          "United States of America",
          "United States of America",
          "United States of America",
          "United States of America",
          "United States of America",
          "Singapore",
          "United States of America",
          "New Zealand",
          "United States of America",
          "Italy",
          "United States of America",
          "United States of America",
          "United States of America",
          "United States of America",
          "United Kingdom",
          "United States of America",
          "United States of America",
          "Switzerland",
          "United States of America",
          "United States of America",
          "United States of America",
          "United States of America",
          "United States of America",
          "United States of America",
          "United States of America",
          "Canada",
          "United States of America",
          "Bermuda",
          "United States of America",
          "United States of America",
          "Greece",
          "Guam",
          "Canada",
          "Italy",
          "United States of America",
          "United States of America",
          "United States of America",
          "Ireland",
          "United States of America",
          "South Africa",
          "Colombia",
          "United States of America",
          "India",
          "United States of America",
          "Poland",
          "United Kingdom",
          "United Kingdom",
          "United States of America",
          "United States of America",
          "United States of America"
         ],
         "xaxis": "x",
         "yaxis": "y"
        },
        {
         "alignmentgroup": "True",
         "bingroup": "x",
         "hovertemplate": "Sentiment=0<br>Location=%{x}<br>count=%{y}<extra></extra>",
         "legendgroup": "0",
         "marker": {
          "color": "#EF553B",
          "pattern": {
           "shape": ""
          }
         },
         "name": "0",
         "offsetgroup": "0",
         "orientation": "v",
         "showlegend": true,
         "type": "histogram",
         "x": [
          "Montréal",
          "Grand Cayman, Cayman Islands",
          "savasse France",
          "Pennsylvania",
          "Toulon",
          "Lake Buena Vista - Orlando",
          "Australia",
          "México",
          "San Antonio,TX",
          "New Jersey",
          "Apollo Beach",
          "New York",
          "Ft. Lauderdale",
          "St. Pete",
          "New York",
          "Los Banos",
          "North Carolina",
          "Galt",
          "New York, NY",
          "Midland TX",
          "Oregon",
          "Rotterdam",
          "New Jersey",
          "Azusa",
          "Sydney",
          "東京",
          "Québec",
          "Truckee",
          "Reno nv",
          "Buenos Aires",
          "Los angeles",
          "Browns mills, NJ",
          "Sanit Louis Missouri",
          "Fayetteville,NC",
          "Atlanta, GA",
          "Kansas City",
          "Rhode Island",
          "San Jose",
          "ny",
          "Houston,TX",
          "Miami",
          "London",
          "Maryland has",
          "Coconut creek",
          "Miami Beach, Florida",
          "South Miami",
          "Montreal",
          "Brooklyn, NY",
          "Virginia",
          "Stuttgart",
          "Boston",
          "Lake Buena VistaI",
          "International",
          "Key Largo, Florida",
          "Ulm",
          "大阪",
          "Guadalajara",
          "Georgia",
          "Hongkong",
          "東京",
          "Weston",
          "Montreal, Canada",
          "Pa",
          "Royal Leamington-Spa",
          "Lockport, NY",
          "Cincinnati",
          "seattle",
          "São Paulo",
          "Toronto",
          "Miami",
          "Burlington",
          "Clover, SC",
          "Wilkes-Barre/Scranton",
          "Puerto Rico",
          "Arabia Saudita",
          "Québec",
          "Oslo",
          "Visalia Ca",
          "San Francisco",
          "ROC",
          "Germany",
          "Montréal",
          "Kent, Ohio",
          "High Point, us",
          "Fort Lauderdale, Florida",
          "Gallipoli is a small Island with a Radius of 500m",
          "US",
          "Carluke South lanarkshire",
          "NYC",
          "Las Vegas, NV",
          "Seattle",
          "us",
          "Tesero",
          "Aguadilla, P.R.",
          "Key Largo",
          "New York",
          "Williamston, NC",
          "Short Hills, NJ",
          "Oceanside, ca",
          "Newark",
          "Québec",
          "Ell Paso, TX us",
          "Bordeaux",
          "JAPAN",
          "Plattsburgh ny",
          "fremont",
          "Linz, at",
          "Apopka",
          "Topeks Ks",
          "Bozeman MT",
          "Nyc",
          "Ruskin",
          "St. Louis Mo",
          "West Suffield",
          "Michigan",
          "Simi Valley, CA (USA)",
          "NY NY",
          "Ky",
          "Auburn maine",
          "Santa Cruz, us",
          "Palm Beach, us",
          "Sacramento, CA",
          "Lehi",
          "Ashland, Oregon",
          "San Jose",
          "St. Lucie west",
          "LA",
          "Margate Florida",
          "Fountain Valley, US",
          "Coral Springs, FL",
          "Elkhart, IN",
          "Port St. Lucie",
          "Los Angeles, us",
          "New York, NY",
          "Upland, US",
          "Ottawa, ca",
          "Miami, FL, US",
          "Lake alfred, us",
          "Halifax, N.S.",
          "Stroudsburg Pa US",
          "Milwaukee",
          "Miami, fl",
          "Jacksonville fl",
          "Atlanta",
          "American Canyon Ca",
          "Southwick us",
          "Hawaii, us",
          "fond du lac, WI",
          "Modesto ca",
          "Montréal",
          "Florida",
          "San Francisco, CA",
          "Palm Bay FL",
          "Mission",
          "New York",
          "Woodbury us",
          "NY",
          "SAO PAULO",
          "Jacksonville, Florida",
          "Schulenburg, TX",
          "San Antonio",
          "Bauru, SP - Brasil",
          "Walnut hill Illinois",
          "Gifu Japan",
          "Stuart, Florida",
          "saitama, jp",
          "Lockport NY",
          "Collegeville, PA",
          "Riverside, CA",
          "Long Island, NY",
          "St. Louis, MO",
          "Stockholm",
          "Washington DC",
          "NYC",
          "Lawrence, KS",
          "Trois Ruisseaux NB Canada",
          "San Jose,Ca",
          "Palm Coast FL",
          "Plantation, FL",
          "U.S. Virgin Islands",
          "Richmond Va",
          "Los Angeles CA",
          "Orlando, FL",
          "Hutchinson Island, FL",
          "Ithaca",
          "Honeoye Falls NY",
          "Redford",
          "new york, us",
          "oromocto",
          "Prescott Valley, AZ",
          "CA",
          "San Francisco, CA",
          "fort myers fl",
          "NRW",
          "Daegu, S.Korea",
          "Edinburg, TX",
          "Hannover",
          "saitama, jp",
          "Newtown, CT",
          "Reno, NV",
          "Puerto Rico",
          "St. Louis",
          "Long Island , NY",
          "Houston, us",
          "Disney Springs",
          "Philadelphia, us",
          "houston, us",
          "Nyc, NY",
          "Winnipeg",
          "Petaluma, CA",
          "nagoya, jp",
          "Lake Elsinore, US",
          "Canada",
          "Apopka Fl",
          "US",
          "Pamplona",
          "Montana",
          "Palm beach Gardens",
          "quebradillas",
          "Pikeville, Ky",
          "Puerto Rico",
          "Queretaro mexico",
          "Catania, it",
          "Puebla",
          "barcelona",
          "Guanajuato, México.",
          "Mönchengladbach, de",
          "Camuy pr",
          "Lincoln, CA",
          "Atlanta, GA",
          "Houston Tx",
          "Canada",
          "Magdeburg, De",
          "gb",
          "Yakima Washington",
          "Northampton",
          "Farmington, Mn.",
          "Frisco, TX",
          "Gainesville, VA",
          "Cannes",
          "Panamá",
          "miami, us",
          "New Jersey , us",
          "Uk",
          "Stafford, VA",
          "Mississippi",
          "Dinuba California",
          "OS, Ms",
          "Ratingen",
          "White sulphur springs wv",
          "Long Island, NY",
          "panama",
          "Atlanta, GA",
          "Bardonecchia",
          "Oklahoma",
          "Chicago, us",
          "mexico",
          "Bananas",
          "New York, NY",
          "Orlando",
          "Stuttgart",
          "Castleford",
          "Bay Area",
          "Groningen",
          "Vermont",
          "Guadalajara",
          "ponce inlet",
          "Florida",
          "Ottawa Ontario",
          "New York, NY",
          "New York, NY",
          "San Jose, CA Silicone Valley",
          "California",
          "Hawaii",
          "Lamar SC",
          "Orlando",
          "Florida",
          "Texas",
          "MILANO",
          "Oslo",
          "Concord, NH",
          "Florida",
          "CDMX",
          "Miami, FL",
          "Florida",
          "Montreal",
          "Milano",
          "California",
          "NEW YORK",
          "Maryland",
          "Maryland",
          "TX",
          "New Yorker",
          "New-york",
          "Ottawa",
          "New York",
          "Pittsburgh PA",
          "miami fl",
          "Oud beijerland",
          "Ir",
          "Harderwijk",
          "Silicon Valley San Jose",
          "Toronto",
          "Dicht bij Amsterdam",
          "San Jose Silicon Valley",
          "Olympia, WA",
          "Valencia ca",
          "Houston",
          "Florida",
          "FL",
          "Genova",
          "Lancaster County, PA",
          "New York",
          "Tønder, DK",
          "Kingston, NY",
          "Norddeutschland",
          "Los Angeles",
          "Roma",
          "Nova Scotia, Canada",
          "CA",
          "LA",
          "Frankfurt",
          "Va",
          "Frankfurt-Rottweil",
          "California",
          "Irvine",
          "Los Angeles, ca",
          "bend",
          "Santo Domingo",
          "Fl",
          "McHenry IL",
          "Frankfurt, Germany",
          "CT.",
          "Frankfurt am Main",
          "NY",
          "St louis",
          "NY",
          "San Jose, Ca",
          "California",
          "San Jose",
          "NYC",
          "Den Haag",
          "CA",
          "bcn",
          "Agde",
          "New York City",
          "Düsseldorf",
          "Neu-Isenburg",
          "nyc",
          "Nederland",
          "NY",
          "München",
          "España",
          "Delano, Ca.",
          "Abbotsford BC",
          "San jose ca",
          "Clarkdale, AZ",
          "Kristinehamn",
          "NRW, Germany",
          "new york",
          "Los Angeles",
          "Wien",
          "Hollywood Fl",
          "Mhow India",
          "Seattle",
          "San Jose",
          "New York",
          "mexico",
          "Seattle",
          "Massachusetts",
          "Austin",
          "San Jose, CA",
          "Taiwan",
          "milan",
          "San Diego",
          "Oregon",
          "New York",
          "NYC",
          "Orlando",
          "Florida",
          "ny",
          "Cardiff",
          "California",
          "ascoli piceno",
          "Bologna",
          "atlanta ga",
          "Madrid",
          "bergen, norge",
          "Seattle",
          "Vacaville",
          "Centrally located to restaurants and Disneyland.",
          "Las Vegas, NV",
          "New York",
          "vittorio veneto",
          "CA",
          "Detroit, MI",
          "Palm Springs",
          "Biella IT",
          "Shizuoka, Japan",
          "Rohnert Park, CA",
          "Tampa",
          "wyndham garden silicon valley ,san jose ca.",
          "NYC NY",
          "Atlanta, GA",
          "atlantic city",
          "San Diego",
          "Ny",
          "Venezuela",
          "N.Y.",
          "Philadelphia",
          "New York",
          "Fresh Meadows",
          "Fresh Meadows, NY",
          "Nj",
          "Sacramento ca",
          "Amber, Bayern",
          "NY",
          "Lake arrowhead, ca",
          "San Jose, California",
          "Washington State",
          "New-York",
          "irvine",
          "Seattle",
          "Tampa, FL",
          "San Jose",
          "United States of America",
          "Singapore",
          "United States of America",
          "United States of America",
          "United States of America",
          "United States of America",
          "United Kingdom",
          "France",
          "United States of America",
          "United States of America",
          "United States of America",
          "Singapore",
          "United States of America",
          "United States of America",
          "United States of America",
          "United States of America",
          "United Kingdom",
          "United States of America",
          "United States of America",
          "Germany",
          "United States of America",
          "United States of America",
          "United States of America",
          "United States of America",
          "El Salvador",
          "United States of America",
          "Canada",
          "United States of America",
          "United States of America",
          "Puerto Rico",
          "United States of America",
          "United States of America",
          "Canada",
          "United States of America",
          "United States of America",
          "United States of America",
          "Italy",
          "Costa Rica",
          "United States of America",
          "New Zealand",
          "United States of America",
          "United Kingdom",
          "China",
          "United States of America",
          "Kuwait",
          "United States of America",
          "Canada",
          "United States of America",
          "Canada",
          "United States of America",
          "France",
          "United States of America",
          "United Kingdom",
          "United States of America",
          "United States of America",
          "Singapore",
          "United States of America",
          "United States of America",
          "United Kingdom",
          "United States of America",
          "United States of America",
          "Kuwait",
          "United States of America",
          "South Africa",
          "United Kingdom",
          "Puerto Rico",
          "United States of America",
          "United States of America",
          "Malaysia",
          "United States of America",
          "Trinidad and Tobago",
          "United States of America",
          "United States of America"
         ],
         "xaxis": "x",
         "yaxis": "y"
        }
       ],
       "layout": {
        "barmode": "group",
        "legend": {
         "title": {
          "text": "Sentiment"
         },
         "tracegroupgap": 0
        },
        "margin": {
         "t": 60
        },
        "template": {
         "data": {
          "bar": [
           {
            "error_x": {
             "color": "#2a3f5f"
            },
            "error_y": {
             "color": "#2a3f5f"
            },
            "marker": {
             "line": {
              "color": "#E5ECF6",
              "width": 0.5
             },
             "pattern": {
              "fillmode": "overlay",
              "size": 10,
              "solidity": 0.2
             }
            },
            "type": "bar"
           }
          ],
          "barpolar": [
           {
            "marker": {
             "line": {
              "color": "#E5ECF6",
              "width": 0.5
             },
             "pattern": {
              "fillmode": "overlay",
              "size": 10,
              "solidity": 0.2
             }
            },
            "type": "barpolar"
           }
          ],
          "carpet": [
           {
            "aaxis": {
             "endlinecolor": "#2a3f5f",
             "gridcolor": "white",
             "linecolor": "white",
             "minorgridcolor": "white",
             "startlinecolor": "#2a3f5f"
            },
            "baxis": {
             "endlinecolor": "#2a3f5f",
             "gridcolor": "white",
             "linecolor": "white",
             "minorgridcolor": "white",
             "startlinecolor": "#2a3f5f"
            },
            "type": "carpet"
           }
          ],
          "choropleth": [
           {
            "colorbar": {
             "outlinewidth": 0,
             "ticks": ""
            },
            "type": "choropleth"
           }
          ],
          "contour": [
           {
            "colorbar": {
             "outlinewidth": 0,
             "ticks": ""
            },
            "colorscale": [
             [
              0,
              "#0d0887"
             ],
             [
              0.1111111111111111,
              "#46039f"
             ],
             [
              0.2222222222222222,
              "#7201a8"
             ],
             [
              0.3333333333333333,
              "#9c179e"
             ],
             [
              0.4444444444444444,
              "#bd3786"
             ],
             [
              0.5555555555555556,
              "#d8576b"
             ],
             [
              0.6666666666666666,
              "#ed7953"
             ],
             [
              0.7777777777777778,
              "#fb9f3a"
             ],
             [
              0.8888888888888888,
              "#fdca26"
             ],
             [
              1,
              "#f0f921"
             ]
            ],
            "type": "contour"
           }
          ],
          "contourcarpet": [
           {
            "colorbar": {
             "outlinewidth": 0,
             "ticks": ""
            },
            "type": "contourcarpet"
           }
          ],
          "heatmap": [
           {
            "colorbar": {
             "outlinewidth": 0,
             "ticks": ""
            },
            "colorscale": [
             [
              0,
              "#0d0887"
             ],
             [
              0.1111111111111111,
              "#46039f"
             ],
             [
              0.2222222222222222,
              "#7201a8"
             ],
             [
              0.3333333333333333,
              "#9c179e"
             ],
             [
              0.4444444444444444,
              "#bd3786"
             ],
             [
              0.5555555555555556,
              "#d8576b"
             ],
             [
              0.6666666666666666,
              "#ed7953"
             ],
             [
              0.7777777777777778,
              "#fb9f3a"
             ],
             [
              0.8888888888888888,
              "#fdca26"
             ],
             [
              1,
              "#f0f921"
             ]
            ],
            "type": "heatmap"
           }
          ],
          "heatmapgl": [
           {
            "colorbar": {
             "outlinewidth": 0,
             "ticks": ""
            },
            "colorscale": [
             [
              0,
              "#0d0887"
             ],
             [
              0.1111111111111111,
              "#46039f"
             ],
             [
              0.2222222222222222,
              "#7201a8"
             ],
             [
              0.3333333333333333,
              "#9c179e"
             ],
             [
              0.4444444444444444,
              "#bd3786"
             ],
             [
              0.5555555555555556,
              "#d8576b"
             ],
             [
              0.6666666666666666,
              "#ed7953"
             ],
             [
              0.7777777777777778,
              "#fb9f3a"
             ],
             [
              0.8888888888888888,
              "#fdca26"
             ],
             [
              1,
              "#f0f921"
             ]
            ],
            "type": "heatmapgl"
           }
          ],
          "histogram": [
           {
            "marker": {
             "pattern": {
              "fillmode": "overlay",
              "size": 10,
              "solidity": 0.2
             }
            },
            "type": "histogram"
           }
          ],
          "histogram2d": [
           {
            "colorbar": {
             "outlinewidth": 0,
             "ticks": ""
            },
            "colorscale": [
             [
              0,
              "#0d0887"
             ],
             [
              0.1111111111111111,
              "#46039f"
             ],
             [
              0.2222222222222222,
              "#7201a8"
             ],
             [
              0.3333333333333333,
              "#9c179e"
             ],
             [
              0.4444444444444444,
              "#bd3786"
             ],
             [
              0.5555555555555556,
              "#d8576b"
             ],
             [
              0.6666666666666666,
              "#ed7953"
             ],
             [
              0.7777777777777778,
              "#fb9f3a"
             ],
             [
              0.8888888888888888,
              "#fdca26"
             ],
             [
              1,
              "#f0f921"
             ]
            ],
            "type": "histogram2d"
           }
          ],
          "histogram2dcontour": [
           {
            "colorbar": {
             "outlinewidth": 0,
             "ticks": ""
            },
            "colorscale": [
             [
              0,
              "#0d0887"
             ],
             [
              0.1111111111111111,
              "#46039f"
             ],
             [
              0.2222222222222222,
              "#7201a8"
             ],
             [
              0.3333333333333333,
              "#9c179e"
             ],
             [
              0.4444444444444444,
              "#bd3786"
             ],
             [
              0.5555555555555556,
              "#d8576b"
             ],
             [
              0.6666666666666666,
              "#ed7953"
             ],
             [
              0.7777777777777778,
              "#fb9f3a"
             ],
             [
              0.8888888888888888,
              "#fdca26"
             ],
             [
              1,
              "#f0f921"
             ]
            ],
            "type": "histogram2dcontour"
           }
          ],
          "mesh3d": [
           {
            "colorbar": {
             "outlinewidth": 0,
             "ticks": ""
            },
            "type": "mesh3d"
           }
          ],
          "parcoords": [
           {
            "line": {
             "colorbar": {
              "outlinewidth": 0,
              "ticks": ""
             }
            },
            "type": "parcoords"
           }
          ],
          "pie": [
           {
            "automargin": true,
            "type": "pie"
           }
          ],
          "scatter": [
           {
            "fillpattern": {
             "fillmode": "overlay",
             "size": 10,
             "solidity": 0.2
            },
            "type": "scatter"
           }
          ],
          "scatter3d": [
           {
            "line": {
             "colorbar": {
              "outlinewidth": 0,
              "ticks": ""
             }
            },
            "marker": {
             "colorbar": {
              "outlinewidth": 0,
              "ticks": ""
             }
            },
            "type": "scatter3d"
           }
          ],
          "scattercarpet": [
           {
            "marker": {
             "colorbar": {
              "outlinewidth": 0,
              "ticks": ""
             }
            },
            "type": "scattercarpet"
           }
          ],
          "scattergeo": [
           {
            "marker": {
             "colorbar": {
              "outlinewidth": 0,
              "ticks": ""
             }
            },
            "type": "scattergeo"
           }
          ],
          "scattergl": [
           {
            "marker": {
             "colorbar": {
              "outlinewidth": 0,
              "ticks": ""
             }
            },
            "type": "scattergl"
           }
          ],
          "scattermapbox": [
           {
            "marker": {
             "colorbar": {
              "outlinewidth": 0,
              "ticks": ""
             }
            },
            "type": "scattermapbox"
           }
          ],
          "scatterpolar": [
           {
            "marker": {
             "colorbar": {
              "outlinewidth": 0,
              "ticks": ""
             }
            },
            "type": "scatterpolar"
           }
          ],
          "scatterpolargl": [
           {
            "marker": {
             "colorbar": {
              "outlinewidth": 0,
              "ticks": ""
             }
            },
            "type": "scatterpolargl"
           }
          ],
          "scatterternary": [
           {
            "marker": {
             "colorbar": {
              "outlinewidth": 0,
              "ticks": ""
             }
            },
            "type": "scatterternary"
           }
          ],
          "surface": [
           {
            "colorbar": {
             "outlinewidth": 0,
             "ticks": ""
            },
            "colorscale": [
             [
              0,
              "#0d0887"
             ],
             [
              0.1111111111111111,
              "#46039f"
             ],
             [
              0.2222222222222222,
              "#7201a8"
             ],
             [
              0.3333333333333333,
              "#9c179e"
             ],
             [
              0.4444444444444444,
              "#bd3786"
             ],
             [
              0.5555555555555556,
              "#d8576b"
             ],
             [
              0.6666666666666666,
              "#ed7953"
             ],
             [
              0.7777777777777778,
              "#fb9f3a"
             ],
             [
              0.8888888888888888,
              "#fdca26"
             ],
             [
              1,
              "#f0f921"
             ]
            ],
            "type": "surface"
           }
          ],
          "table": [
           {
            "cells": {
             "fill": {
              "color": "#EBF0F8"
             },
             "line": {
              "color": "white"
             }
            },
            "header": {
             "fill": {
              "color": "#C8D4E3"
             },
             "line": {
              "color": "white"
             }
            },
            "type": "table"
           }
          ]
         },
         "layout": {
          "annotationdefaults": {
           "arrowcolor": "#2a3f5f",
           "arrowhead": 0,
           "arrowwidth": 1
          },
          "autotypenumbers": "strict",
          "coloraxis": {
           "colorbar": {
            "outlinewidth": 0,
            "ticks": ""
           }
          },
          "colorscale": {
           "diverging": [
            [
             0,
             "#8e0152"
            ],
            [
             0.1,
             "#c51b7d"
            ],
            [
             0.2,
             "#de77ae"
            ],
            [
             0.3,
             "#f1b6da"
            ],
            [
             0.4,
             "#fde0ef"
            ],
            [
             0.5,
             "#f7f7f7"
            ],
            [
             0.6,
             "#e6f5d0"
            ],
            [
             0.7,
             "#b8e186"
            ],
            [
             0.8,
             "#7fbc41"
            ],
            [
             0.9,
             "#4d9221"
            ],
            [
             1,
             "#276419"
            ]
           ],
           "sequential": [
            [
             0,
             "#0d0887"
            ],
            [
             0.1111111111111111,
             "#46039f"
            ],
            [
             0.2222222222222222,
             "#7201a8"
            ],
            [
             0.3333333333333333,
             "#9c179e"
            ],
            [
             0.4444444444444444,
             "#bd3786"
            ],
            [
             0.5555555555555556,
             "#d8576b"
            ],
            [
             0.6666666666666666,
             "#ed7953"
            ],
            [
             0.7777777777777778,
             "#fb9f3a"
            ],
            [
             0.8888888888888888,
             "#fdca26"
            ],
            [
             1,
             "#f0f921"
            ]
           ],
           "sequentialminus": [
            [
             0,
             "#0d0887"
            ],
            [
             0.1111111111111111,
             "#46039f"
            ],
            [
             0.2222222222222222,
             "#7201a8"
            ],
            [
             0.3333333333333333,
             "#9c179e"
            ],
            [
             0.4444444444444444,
             "#bd3786"
            ],
            [
             0.5555555555555556,
             "#d8576b"
            ],
            [
             0.6666666666666666,
             "#ed7953"
            ],
            [
             0.7777777777777778,
             "#fb9f3a"
            ],
            [
             0.8888888888888888,
             "#fdca26"
            ],
            [
             1,
             "#f0f921"
            ]
           ]
          },
          "colorway": [
           "#636efa",
           "#EF553B",
           "#00cc96",
           "#ab63fa",
           "#FFA15A",
           "#19d3f3",
           "#FF6692",
           "#B6E880",
           "#FF97FF",
           "#FECB52"
          ],
          "font": {
           "color": "#2a3f5f"
          },
          "geo": {
           "bgcolor": "white",
           "lakecolor": "white",
           "landcolor": "#E5ECF6",
           "showlakes": true,
           "showland": true,
           "subunitcolor": "white"
          },
          "hoverlabel": {
           "align": "left"
          },
          "hovermode": "closest",
          "mapbox": {
           "style": "light"
          },
          "paper_bgcolor": "white",
          "plot_bgcolor": "#E5ECF6",
          "polar": {
           "angularaxis": {
            "gridcolor": "white",
            "linecolor": "white",
            "ticks": ""
           },
           "bgcolor": "#E5ECF6",
           "radialaxis": {
            "gridcolor": "white",
            "linecolor": "white",
            "ticks": ""
           }
          },
          "scene": {
           "xaxis": {
            "backgroundcolor": "#E5ECF6",
            "gridcolor": "white",
            "gridwidth": 2,
            "linecolor": "white",
            "showbackground": true,
            "ticks": "",
            "zerolinecolor": "white"
           },
           "yaxis": {
            "backgroundcolor": "#E5ECF6",
            "gridcolor": "white",
            "gridwidth": 2,
            "linecolor": "white",
            "showbackground": true,
            "ticks": "",
            "zerolinecolor": "white"
           },
           "zaxis": {
            "backgroundcolor": "#E5ECF6",
            "gridcolor": "white",
            "gridwidth": 2,
            "linecolor": "white",
            "showbackground": true,
            "ticks": "",
            "zerolinecolor": "white"
           }
          },
          "shapedefaults": {
           "line": {
            "color": "#2a3f5f"
           }
          },
          "ternary": {
           "aaxis": {
            "gridcolor": "white",
            "linecolor": "white",
            "ticks": ""
           },
           "baxis": {
            "gridcolor": "white",
            "linecolor": "white",
            "ticks": ""
           },
           "bgcolor": "#E5ECF6",
           "caxis": {
            "gridcolor": "white",
            "linecolor": "white",
            "ticks": ""
           }
          },
          "title": {
           "x": 0.05
          },
          "xaxis": {
           "automargin": true,
           "gridcolor": "white",
           "linecolor": "white",
           "ticks": "",
           "title": {
            "standoff": 15
           },
           "zerolinecolor": "white",
           "zerolinewidth": 2
          },
          "yaxis": {
           "automargin": true,
           "gridcolor": "white",
           "linecolor": "white",
           "ticks": "",
           "title": {
            "standoff": 15
           },
           "zerolinecolor": "white",
           "zerolinewidth": 2
          }
         }
        },
        "title": {
         "text": "Sentiment Distribution for Locations"
        },
        "xaxis": {
         "anchor": "y",
         "domain": [
          0,
          1
         ],
         "title": {
          "text": "Location"
         }
        },
        "yaxis": {
         "anchor": "x",
         "domain": [
          0,
          1
         ],
         "title": {
          "text": "Count"
         }
        }
       }
      }
     },
     "metadata": {},
     "output_type": "display_data"
    }
   ],
   "source": [
    "# Check sentiment distribution by location\n",
    "fig = px.histogram(df, x='Location', color='Sentiment', barmode='group')\n",
    "fig.update_layout(title=f'Sentiment Distribution for Locations', xaxis_title='Location', yaxis_title='Count')\n",
    "fig.show()"
   ]
  },
  {
   "cell_type": "code",
   "execution_count": 396,
   "metadata": {},
   "outputs": [
    {
     "data": {
      "application/vnd.plotly.v1+json": {
       "config": {
        "plotlyServerURL": "https://plot.ly"
       },
       "data": [
        {
         "hovertemplate": "date=%{x}<br>Sentiment=%{y}<extra></extra>",
         "legendgroup": "",
         "line": {
          "color": "#636efa",
          "dash": "solid"
         },
         "marker": {
          "symbol": "circle"
         },
         "mode": "lines",
         "name": "",
         "orientation": "v",
         "showlegend": false,
         "type": "scatter",
         "x": [
          "2018-08-02T00:00:00",
          "2018-08-03T00:00:00",
          "2018-08-04T00:00:00",
          "2018-08-05T00:00:00",
          "2018-08-06T00:00:00",
          "2018-08-07T00:00:00",
          "2018-08-08T00:00:00",
          "2018-08-10T00:00:00",
          "2018-08-11T00:00:00",
          "2018-08-12T00:00:00",
          "2018-08-13T00:00:00",
          "2018-08-14T00:00:00",
          "2018-08-15T00:00:00",
          "2018-08-16T00:00:00",
          "2018-08-17T00:00:00",
          "2018-08-18T00:00:00",
          "2018-08-19T00:00:00",
          "2018-08-20T00:00:00",
          "2018-08-21T00:00:00",
          "2018-08-22T00:00:00",
          "2018-08-23T00:00:00",
          "2018-08-24T00:00:00",
          "2018-08-25T00:00:00",
          "2018-08-26T00:00:00",
          "2018-08-27T00:00:00",
          "2018-08-28T00:00:00",
          "2018-08-29T00:00:00",
          "2018-08-30T00:00:00",
          "2018-08-31T00:00:00",
          "2018-09-01T00:00:00",
          "2018-09-02T00:00:00",
          "2018-09-03T00:00:00",
          "2018-09-04T00:00:00",
          "2018-09-05T00:00:00",
          "2018-09-06T00:00:00",
          "2018-09-07T00:00:00",
          "2018-09-08T00:00:00",
          "2018-09-09T00:00:00",
          "2018-09-10T00:00:00",
          "2018-09-11T00:00:00",
          "2018-09-12T00:00:00",
          "2018-09-13T00:00:00",
          "2018-09-14T00:00:00",
          "2018-09-15T00:00:00",
          "2018-09-16T00:00:00",
          "2018-09-17T00:00:00",
          "2018-09-18T00:00:00",
          "2018-09-19T00:00:00",
          "2018-09-20T00:00:00",
          "2018-09-21T00:00:00",
          "2018-09-22T00:00:00",
          "2018-09-23T00:00:00",
          "2018-09-24T00:00:00",
          "2018-09-25T00:00:00",
          "2018-09-26T00:00:00",
          "2018-09-28T00:00:00",
          "2018-09-29T00:00:00",
          "2018-09-30T00:00:00",
          "2018-10-01T00:00:00",
          "2018-10-02T00:00:00",
          "2018-10-03T00:00:00",
          "2018-10-04T00:00:00",
          "2018-10-05T00:00:00",
          "2018-10-06T00:00:00",
          "2018-10-07T00:00:00",
          "2018-10-08T00:00:00",
          "2018-10-09T00:00:00",
          "2018-10-10T00:00:00",
          "2018-10-11T00:00:00",
          "2018-10-12T00:00:00",
          "2018-10-13T00:00:00",
          "2018-10-14T00:00:00",
          "2018-10-15T00:00:00",
          "2018-10-16T00:00:00",
          "2018-10-17T00:00:00",
          "2018-10-18T00:00:00",
          "2018-10-19T00:00:00",
          "2018-10-20T00:00:00",
          "2018-10-21T00:00:00",
          "2018-10-22T00:00:00",
          "2018-10-23T00:00:00",
          "2018-10-24T00:00:00",
          "2018-10-25T00:00:00",
          "2018-10-26T00:00:00",
          "2018-10-27T00:00:00",
          "2018-10-28T00:00:00",
          "2018-10-29T00:00:00",
          "2018-10-30T00:00:00",
          "2018-10-31T00:00:00",
          "2018-11-01T00:00:00",
          "2018-11-02T00:00:00",
          "2018-11-03T00:00:00",
          "2018-11-04T00:00:00",
          "2018-11-05T00:00:00",
          "2018-11-06T00:00:00",
          "2018-11-07T00:00:00",
          "2018-11-08T00:00:00",
          "2018-11-09T00:00:00",
          "2018-11-10T00:00:00",
          "2018-11-11T00:00:00",
          "2018-11-12T00:00:00",
          "2018-11-13T00:00:00",
          "2018-11-14T00:00:00",
          "2018-11-15T00:00:00",
          "2018-11-16T00:00:00",
          "2018-11-17T00:00:00",
          "2018-11-18T00:00:00",
          "2018-11-19T00:00:00",
          "2018-11-20T00:00:00",
          "2018-11-21T00:00:00",
          "2018-11-22T00:00:00",
          "2018-11-23T00:00:00",
          "2018-11-24T00:00:00",
          "2018-11-25T00:00:00",
          "2018-11-26T00:00:00",
          "2018-11-27T00:00:00",
          "2018-11-28T00:00:00",
          "2018-11-29T00:00:00",
          "2018-12-02T00:00:00",
          "2018-12-03T00:00:00",
          "2018-12-04T00:00:00",
          "2018-12-05T00:00:00",
          "2018-12-06T00:00:00",
          "2018-12-07T00:00:00",
          "2018-12-08T00:00:00",
          "2018-12-09T00:00:00",
          "2018-12-10T00:00:00",
          "2018-12-11T00:00:00",
          "2018-12-12T00:00:00",
          "2018-12-13T00:00:00",
          "2018-12-14T00:00:00",
          "2018-12-15T00:00:00",
          "2018-12-16T00:00:00",
          "2018-12-17T00:00:00",
          "2018-12-18T00:00:00",
          "2018-12-19T00:00:00",
          "2018-12-20T00:00:00",
          "2018-12-21T00:00:00",
          "2018-12-22T00:00:00",
          "2018-12-23T00:00:00",
          "2018-12-24T00:00:00",
          "2018-12-25T00:00:00",
          "2018-12-26T00:00:00",
          "2018-12-27T00:00:00",
          "2018-12-28T00:00:00",
          "2018-12-29T00:00:00",
          "2018-12-30T00:00:00",
          "2018-12-31T00:00:00",
          "2019-01-01T00:00:00",
          "2019-01-02T00:00:00",
          "2019-01-03T00:00:00",
          "2019-01-04T00:00:00",
          "2019-01-05T00:00:00",
          "2019-01-06T00:00:00",
          "2019-01-07T00:00:00",
          "2019-01-08T00:00:00",
          "2019-01-09T00:00:00",
          "2019-01-10T00:00:00",
          "2019-01-11T00:00:00",
          "2019-01-12T00:00:00",
          "2019-01-13T00:00:00",
          "2019-01-14T00:00:00",
          "2019-01-15T00:00:00",
          "2019-01-16T00:00:00",
          "2019-01-19T00:00:00",
          "2019-01-20T00:00:00",
          "2019-01-21T00:00:00",
          "2019-01-22T00:00:00",
          "2019-01-23T00:00:00",
          "2019-01-25T00:00:00",
          "2019-01-26T00:00:00",
          "2019-01-27T00:00:00",
          "2019-01-28T00:00:00",
          "2019-01-29T00:00:00",
          "2019-01-30T00:00:00",
          "2019-01-31T00:00:00",
          "2019-02-01T00:00:00",
          "2019-02-02T00:00:00",
          "2019-02-04T00:00:00",
          "2019-02-05T00:00:00",
          "2019-02-07T00:00:00",
          "2019-02-08T00:00:00",
          "2019-02-10T00:00:00",
          "2019-02-11T00:00:00",
          "2019-02-12T00:00:00",
          "2019-02-13T00:00:00",
          "2019-02-14T00:00:00",
          "2019-02-16T00:00:00",
          "2019-02-17T00:00:00",
          "2019-02-18T00:00:00",
          "2019-02-19T00:00:00",
          "2019-02-20T00:00:00",
          "2019-02-21T00:00:00",
          "2019-02-22T00:00:00",
          "2019-02-23T00:00:00",
          "2019-02-24T00:00:00",
          "2019-02-25T00:00:00",
          "2019-02-26T00:00:00",
          "2019-02-28T00:00:00",
          "2019-03-02T00:00:00",
          "2019-03-03T00:00:00",
          "2019-03-04T00:00:00",
          "2019-03-05T00:00:00",
          "2019-03-06T00:00:00",
          "2019-03-07T00:00:00",
          "2019-03-08T00:00:00",
          "2019-03-09T00:00:00",
          "2019-03-10T00:00:00",
          "2019-03-11T00:00:00",
          "2019-03-12T00:00:00",
          "2019-03-13T00:00:00",
          "2019-03-14T00:00:00",
          "2019-03-15T00:00:00",
          "2019-03-16T00:00:00",
          "2019-03-17T00:00:00",
          "2019-03-18T00:00:00",
          "2019-03-19T00:00:00",
          "2019-03-20T00:00:00",
          "2019-03-21T00:00:00",
          "2019-03-22T00:00:00",
          "2019-03-23T00:00:00",
          "2019-03-24T00:00:00",
          "2019-03-25T00:00:00",
          "2019-03-26T00:00:00",
          "2019-03-27T00:00:00",
          "2019-03-28T00:00:00",
          "2019-03-29T00:00:00",
          "2019-03-30T00:00:00",
          "2019-03-31T00:00:00",
          "2019-04-01T00:00:00",
          "2019-04-02T00:00:00",
          "2019-04-03T00:00:00",
          "2019-04-04T00:00:00",
          "2019-04-05T00:00:00",
          "2019-04-06T00:00:00",
          "2019-04-07T00:00:00",
          "2019-04-08T00:00:00",
          "2019-04-09T00:00:00",
          "2019-04-10T00:00:00",
          "2019-04-11T00:00:00",
          "2019-04-12T00:00:00",
          "2019-04-13T00:00:00",
          "2019-04-14T00:00:00",
          "2019-04-15T00:00:00",
          "2019-04-16T00:00:00",
          "2019-04-17T00:00:00",
          "2019-04-18T00:00:00",
          "2019-04-19T00:00:00",
          "2019-04-20T00:00:00",
          "2019-04-21T00:00:00",
          "2019-04-22T00:00:00",
          "2019-04-23T00:00:00",
          "2019-04-24T00:00:00",
          "2019-04-25T00:00:00",
          "2019-04-26T00:00:00",
          "2019-04-27T00:00:00",
          "2019-04-28T00:00:00",
          "2019-04-29T00:00:00",
          "2019-04-30T00:00:00",
          "2019-05-01T00:00:00",
          "2019-05-02T00:00:00",
          "2019-05-03T00:00:00",
          "2019-05-04T00:00:00",
          "2019-05-05T00:00:00",
          "2019-05-06T00:00:00",
          "2019-05-07T00:00:00",
          "2019-05-08T00:00:00",
          "2019-05-09T00:00:00",
          "2019-05-10T00:00:00",
          "2019-05-11T00:00:00",
          "2019-05-13T00:00:00",
          "2019-05-14T00:00:00",
          "2019-05-15T00:00:00",
          "2019-05-16T00:00:00",
          "2019-05-17T00:00:00",
          "2019-05-18T00:00:00",
          "2019-05-19T00:00:00",
          "2019-05-20T00:00:00",
          "2019-05-21T00:00:00",
          "2019-05-22T00:00:00",
          "2019-05-23T00:00:00",
          "2019-05-24T00:00:00",
          "2019-05-25T00:00:00",
          "2019-05-26T00:00:00",
          "2019-05-27T00:00:00",
          "2019-05-28T00:00:00",
          "2019-05-29T00:00:00",
          "2019-06-02T00:00:00",
          "2019-06-03T00:00:00",
          "2019-06-04T00:00:00",
          "2019-06-06T00:00:00",
          "2019-06-07T00:00:00",
          "2019-06-09T00:00:00",
          "2019-06-10T00:00:00",
          "2019-06-11T00:00:00",
          "2019-06-12T00:00:00",
          "2019-06-13T00:00:00",
          "2019-06-14T00:00:00",
          "2019-06-15T00:00:00",
          "2019-06-17T00:00:00",
          "2019-06-18T00:00:00",
          "2019-06-19T00:00:00",
          "2019-06-20T00:00:00",
          "2019-06-21T00:00:00",
          "2019-06-22T00:00:00",
          "2019-06-23T00:00:00",
          "2019-06-24T00:00:00",
          "2019-06-25T00:00:00",
          "2019-06-26T00:00:00",
          "2019-06-27T00:00:00",
          "2019-06-28T00:00:00",
          "2019-06-29T00:00:00",
          "2019-07-01T00:00:00",
          "2019-07-02T00:00:00",
          "2019-07-03T00:00:00",
          "2019-07-04T00:00:00",
          "2019-07-05T00:00:00",
          "2019-07-06T00:00:00",
          "2019-07-07T00:00:00",
          "2019-07-08T00:00:00",
          "2019-07-09T00:00:00",
          "2019-07-10T00:00:00",
          "2019-07-11T00:00:00",
          "2019-07-12T00:00:00",
          "2019-07-13T00:00:00",
          "2019-07-14T00:00:00",
          "2019-07-15T00:00:00",
          "2019-07-16T00:00:00",
          "2019-07-17T00:00:00",
          "2019-07-18T00:00:00",
          "2019-07-19T00:00:00",
          "2019-07-20T00:00:00",
          "2019-07-21T00:00:00",
          "2019-07-22T00:00:00",
          "2019-07-23T00:00:00",
          "2019-07-24T00:00:00",
          "2019-07-25T00:00:00",
          "2019-07-26T00:00:00",
          "2019-07-27T00:00:00",
          "2019-07-28T00:00:00",
          "2019-07-29T00:00:00",
          "2019-07-30T00:00:00",
          "2019-07-31T00:00:00",
          "2019-08-01T00:00:00",
          "2019-08-02T00:00:00",
          "2019-08-03T00:00:00",
          "2019-08-04T00:00:00",
          "2019-08-05T00:00:00",
          "2019-08-06T00:00:00",
          "2019-08-07T00:00:00",
          "2019-08-08T00:00:00",
          "2019-08-09T00:00:00",
          "2019-08-10T00:00:00",
          "2019-08-11T00:00:00",
          "2019-08-12T00:00:00",
          "2019-08-13T00:00:00",
          "2019-08-14T00:00:00",
          "2019-08-15T00:00:00",
          "2019-08-16T00:00:00",
          "2019-08-17T00:00:00",
          "2019-08-18T00:00:00",
          "2019-08-19T00:00:00",
          "2019-08-20T00:00:00"
         ],
         "xaxis": "x",
         "y": [
          1,
          1,
          0.6666666666666666,
          0.6,
          1,
          0.8,
          1,
          0.6666666666666666,
          0.3333333333333333,
          0.6666666666666666,
          0.7,
          0.5714285714285714,
          0.7142857142857143,
          1,
          0.75,
          1,
          1,
          0.25,
          0.6666666666666666,
          0.6,
          0.5714285714285714,
          0.5,
          0.75,
          0.5,
          0.75,
          0.75,
          0.5,
          0,
          0,
          0,
          0.6666666666666666,
          0.8571428571428571,
          0.6666666666666666,
          0.5,
          0.75,
          0.75,
          0.75,
          0.25,
          0.875,
          1,
          0.6666666666666666,
          1,
          0.8,
          0.6,
          1,
          0.7272727272727273,
          0.75,
          0,
          0.8,
          1,
          1,
          0.5,
          0.4,
          1,
          0.5,
          0.5,
          1,
          1,
          1,
          0.875,
          0.8571428571428571,
          1,
          0.3333333333333333,
          1,
          0.5,
          1,
          0.875,
          0.42857142857142855,
          0.8333333333333334,
          1,
          0.5,
          1,
          0.5555555555555556,
          0.6,
          0.5,
          1,
          0.6666666666666666,
          0.2,
          0.5714285714285714,
          0.6363636363636364,
          0.6666666666666666,
          0.5714285714285714,
          1,
          0.9285714285714286,
          0.7142857142857143,
          0.6,
          0.75,
          0.3,
          0.75,
          1,
          0.8333333333333334,
          0.75,
          0.7142857142857143,
          0.8333333333333334,
          0.7142857142857143,
          0.3333333333333333,
          0.8,
          1,
          0.5,
          0.8,
          0.8333333333333334,
          0.5,
          0.5,
          1,
          0.6,
          1,
          0.6666666666666666,
          0.7777777777777778,
          0.8571428571428571,
          1,
          0,
          0.6666666666666666,
          0.6666666666666666,
          1,
          0.8,
          0.7272727272727273,
          0,
          0.75,
          0.75,
          1,
          0.5,
          1,
          1,
          1,
          1,
          1,
          0.6666666666666666,
          1,
          0.8,
          1,
          0.5,
          1,
          0.8333333333333334,
          0.8,
          1,
          1,
          0.6666666666666666,
          1,
          0.5,
          1,
          0.6,
          1,
          1,
          0.4,
          0.75,
          0.25,
          0.6666666666666666,
          0.6363636363636364,
          0,
          0.625,
          0.5,
          0.8333333333333334,
          1,
          1,
          0.6666666666666666,
          0.5,
          0.5,
          0.75,
          0,
          1,
          1,
          0.7142857142857143,
          1,
          1,
          1,
          1,
          0.8,
          1,
          1,
          0.5,
          0.5,
          1,
          1,
          1,
          1,
          0.8,
          0,
          1,
          0.5,
          1,
          1,
          0.3333333333333333,
          0.75,
          0.4,
          1,
          0,
          0,
          1,
          0.5,
          0.625,
          0.8,
          1,
          0.6666666666666666,
          1,
          1,
          1,
          1,
          1,
          0,
          0.5,
          1,
          0.6666666666666666,
          0.6666666666666666,
          0.3333333333333333,
          0.4,
          0.5,
          0,
          0.5,
          0.75,
          0.8333333333333334,
          0.8,
          0,
          0.5,
          1,
          1,
          1,
          0.6,
          0,
          0.8333333333333334,
          0.75,
          0.3333333333333333,
          0.3333333333333333,
          0.75,
          0.6,
          0.8,
          0.8,
          0.8333333333333334,
          0.6666666666666666,
          0.8888888888888888,
          1,
          0.6,
          0.8333333333333334,
          0.6666666666666666,
          0.4,
          0.5,
          0,
          0.5,
          0.7142857142857143,
          1,
          1,
          0.6666666666666666,
          0.6,
          1,
          0.6666666666666666,
          0.6,
          1,
          0.75,
          0.75,
          1,
          0.625,
          0.75,
          0.75,
          1,
          0.8571428571428571,
          0.4,
          0,
          0.4,
          0.3333333333333333,
          0.5714285714285714,
          0.8333333333333334,
          0.6,
          1,
          0.5,
          1,
          0.8,
          0.5,
          0,
          0.6,
          0.75,
          1,
          0.8571428571428571,
          1,
          0.6666666666666666,
          0,
          1,
          1,
          0.75,
          1,
          0.75,
          0.6,
          0.5,
          0,
          1,
          0.5,
          0.8,
          1,
          0.5,
          0,
          1,
          0,
          1,
          1,
          1,
          0.3333333333333333,
          0.5,
          0.6666666666666666,
          1,
          1,
          0,
          0.6666666666666666,
          0.5,
          0,
          1,
          0.75,
          1,
          0,
          0.75,
          1,
          1,
          0.75,
          0.5,
          0.6666666666666666,
          0.3333333333333333,
          0.5,
          0.75,
          0.7,
          0.6,
          0.8,
          0.9166666666666666,
          0.7692307692307693,
          1,
          0.875,
          1,
          0.6666666666666666,
          0.8571428571428571,
          0.6666666666666666,
          0.7777777777777778,
          0.6,
          0.625,
          0.8888888888888888,
          0.75,
          0.7142857142857143,
          0.875,
          0.8,
          0.75,
          0.6,
          1,
          0.7142857142857143,
          0.625,
          0.5714285714285714,
          0.625,
          0.6666666666666666,
          0.7058823529411765,
          0.4,
          1,
          1,
          0.875,
          0.5384615384615384,
          0.7777777777777778,
          0.875,
          0.8333333333333334,
          0.45454545454545453,
          0.75,
          0.6875,
          0.4166666666666667,
          0.6363636363636364,
          0.42857142857142855,
          0.8,
          1,
          0.25,
          0.375,
          0.7142857142857143,
          1
         ],
         "yaxis": "y"
        }
       ],
       "layout": {
        "legend": {
         "tracegroupgap": 0
        },
        "margin": {
         "t": 60
        },
        "template": {
         "data": {
          "bar": [
           {
            "error_x": {
             "color": "#2a3f5f"
            },
            "error_y": {
             "color": "#2a3f5f"
            },
            "marker": {
             "line": {
              "color": "#E5ECF6",
              "width": 0.5
             },
             "pattern": {
              "fillmode": "overlay",
              "size": 10,
              "solidity": 0.2
             }
            },
            "type": "bar"
           }
          ],
          "barpolar": [
           {
            "marker": {
             "line": {
              "color": "#E5ECF6",
              "width": 0.5
             },
             "pattern": {
              "fillmode": "overlay",
              "size": 10,
              "solidity": 0.2
             }
            },
            "type": "barpolar"
           }
          ],
          "carpet": [
           {
            "aaxis": {
             "endlinecolor": "#2a3f5f",
             "gridcolor": "white",
             "linecolor": "white",
             "minorgridcolor": "white",
             "startlinecolor": "#2a3f5f"
            },
            "baxis": {
             "endlinecolor": "#2a3f5f",
             "gridcolor": "white",
             "linecolor": "white",
             "minorgridcolor": "white",
             "startlinecolor": "#2a3f5f"
            },
            "type": "carpet"
           }
          ],
          "choropleth": [
           {
            "colorbar": {
             "outlinewidth": 0,
             "ticks": ""
            },
            "type": "choropleth"
           }
          ],
          "contour": [
           {
            "colorbar": {
             "outlinewidth": 0,
             "ticks": ""
            },
            "colorscale": [
             [
              0,
              "#0d0887"
             ],
             [
              0.1111111111111111,
              "#46039f"
             ],
             [
              0.2222222222222222,
              "#7201a8"
             ],
             [
              0.3333333333333333,
              "#9c179e"
             ],
             [
              0.4444444444444444,
              "#bd3786"
             ],
             [
              0.5555555555555556,
              "#d8576b"
             ],
             [
              0.6666666666666666,
              "#ed7953"
             ],
             [
              0.7777777777777778,
              "#fb9f3a"
             ],
             [
              0.8888888888888888,
              "#fdca26"
             ],
             [
              1,
              "#f0f921"
             ]
            ],
            "type": "contour"
           }
          ],
          "contourcarpet": [
           {
            "colorbar": {
             "outlinewidth": 0,
             "ticks": ""
            },
            "type": "contourcarpet"
           }
          ],
          "heatmap": [
           {
            "colorbar": {
             "outlinewidth": 0,
             "ticks": ""
            },
            "colorscale": [
             [
              0,
              "#0d0887"
             ],
             [
              0.1111111111111111,
              "#46039f"
             ],
             [
              0.2222222222222222,
              "#7201a8"
             ],
             [
              0.3333333333333333,
              "#9c179e"
             ],
             [
              0.4444444444444444,
              "#bd3786"
             ],
             [
              0.5555555555555556,
              "#d8576b"
             ],
             [
              0.6666666666666666,
              "#ed7953"
             ],
             [
              0.7777777777777778,
              "#fb9f3a"
             ],
             [
              0.8888888888888888,
              "#fdca26"
             ],
             [
              1,
              "#f0f921"
             ]
            ],
            "type": "heatmap"
           }
          ],
          "heatmapgl": [
           {
            "colorbar": {
             "outlinewidth": 0,
             "ticks": ""
            },
            "colorscale": [
             [
              0,
              "#0d0887"
             ],
             [
              0.1111111111111111,
              "#46039f"
             ],
             [
              0.2222222222222222,
              "#7201a8"
             ],
             [
              0.3333333333333333,
              "#9c179e"
             ],
             [
              0.4444444444444444,
              "#bd3786"
             ],
             [
              0.5555555555555556,
              "#d8576b"
             ],
             [
              0.6666666666666666,
              "#ed7953"
             ],
             [
              0.7777777777777778,
              "#fb9f3a"
             ],
             [
              0.8888888888888888,
              "#fdca26"
             ],
             [
              1,
              "#f0f921"
             ]
            ],
            "type": "heatmapgl"
           }
          ],
          "histogram": [
           {
            "marker": {
             "pattern": {
              "fillmode": "overlay",
              "size": 10,
              "solidity": 0.2
             }
            },
            "type": "histogram"
           }
          ],
          "histogram2d": [
           {
            "colorbar": {
             "outlinewidth": 0,
             "ticks": ""
            },
            "colorscale": [
             [
              0,
              "#0d0887"
             ],
             [
              0.1111111111111111,
              "#46039f"
             ],
             [
              0.2222222222222222,
              "#7201a8"
             ],
             [
              0.3333333333333333,
              "#9c179e"
             ],
             [
              0.4444444444444444,
              "#bd3786"
             ],
             [
              0.5555555555555556,
              "#d8576b"
             ],
             [
              0.6666666666666666,
              "#ed7953"
             ],
             [
              0.7777777777777778,
              "#fb9f3a"
             ],
             [
              0.8888888888888888,
              "#fdca26"
             ],
             [
              1,
              "#f0f921"
             ]
            ],
            "type": "histogram2d"
           }
          ],
          "histogram2dcontour": [
           {
            "colorbar": {
             "outlinewidth": 0,
             "ticks": ""
            },
            "colorscale": [
             [
              0,
              "#0d0887"
             ],
             [
              0.1111111111111111,
              "#46039f"
             ],
             [
              0.2222222222222222,
              "#7201a8"
             ],
             [
              0.3333333333333333,
              "#9c179e"
             ],
             [
              0.4444444444444444,
              "#bd3786"
             ],
             [
              0.5555555555555556,
              "#d8576b"
             ],
             [
              0.6666666666666666,
              "#ed7953"
             ],
             [
              0.7777777777777778,
              "#fb9f3a"
             ],
             [
              0.8888888888888888,
              "#fdca26"
             ],
             [
              1,
              "#f0f921"
             ]
            ],
            "type": "histogram2dcontour"
           }
          ],
          "mesh3d": [
           {
            "colorbar": {
             "outlinewidth": 0,
             "ticks": ""
            },
            "type": "mesh3d"
           }
          ],
          "parcoords": [
           {
            "line": {
             "colorbar": {
              "outlinewidth": 0,
              "ticks": ""
             }
            },
            "type": "parcoords"
           }
          ],
          "pie": [
           {
            "automargin": true,
            "type": "pie"
           }
          ],
          "scatter": [
           {
            "fillpattern": {
             "fillmode": "overlay",
             "size": 10,
             "solidity": 0.2
            },
            "type": "scatter"
           }
          ],
          "scatter3d": [
           {
            "line": {
             "colorbar": {
              "outlinewidth": 0,
              "ticks": ""
             }
            },
            "marker": {
             "colorbar": {
              "outlinewidth": 0,
              "ticks": ""
             }
            },
            "type": "scatter3d"
           }
          ],
          "scattercarpet": [
           {
            "marker": {
             "colorbar": {
              "outlinewidth": 0,
              "ticks": ""
             }
            },
            "type": "scattercarpet"
           }
          ],
          "scattergeo": [
           {
            "marker": {
             "colorbar": {
              "outlinewidth": 0,
              "ticks": ""
             }
            },
            "type": "scattergeo"
           }
          ],
          "scattergl": [
           {
            "marker": {
             "colorbar": {
              "outlinewidth": 0,
              "ticks": ""
             }
            },
            "type": "scattergl"
           }
          ],
          "scattermapbox": [
           {
            "marker": {
             "colorbar": {
              "outlinewidth": 0,
              "ticks": ""
             }
            },
            "type": "scattermapbox"
           }
          ],
          "scatterpolar": [
           {
            "marker": {
             "colorbar": {
              "outlinewidth": 0,
              "ticks": ""
             }
            },
            "type": "scatterpolar"
           }
          ],
          "scatterpolargl": [
           {
            "marker": {
             "colorbar": {
              "outlinewidth": 0,
              "ticks": ""
             }
            },
            "type": "scatterpolargl"
           }
          ],
          "scatterternary": [
           {
            "marker": {
             "colorbar": {
              "outlinewidth": 0,
              "ticks": ""
             }
            },
            "type": "scatterternary"
           }
          ],
          "surface": [
           {
            "colorbar": {
             "outlinewidth": 0,
             "ticks": ""
            },
            "colorscale": [
             [
              0,
              "#0d0887"
             ],
             [
              0.1111111111111111,
              "#46039f"
             ],
             [
              0.2222222222222222,
              "#7201a8"
             ],
             [
              0.3333333333333333,
              "#9c179e"
             ],
             [
              0.4444444444444444,
              "#bd3786"
             ],
             [
              0.5555555555555556,
              "#d8576b"
             ],
             [
              0.6666666666666666,
              "#ed7953"
             ],
             [
              0.7777777777777778,
              "#fb9f3a"
             ],
             [
              0.8888888888888888,
              "#fdca26"
             ],
             [
              1,
              "#f0f921"
             ]
            ],
            "type": "surface"
           }
          ],
          "table": [
           {
            "cells": {
             "fill": {
              "color": "#EBF0F8"
             },
             "line": {
              "color": "white"
             }
            },
            "header": {
             "fill": {
              "color": "#C8D4E3"
             },
             "line": {
              "color": "white"
             }
            },
            "type": "table"
           }
          ]
         },
         "layout": {
          "annotationdefaults": {
           "arrowcolor": "#2a3f5f",
           "arrowhead": 0,
           "arrowwidth": 1
          },
          "autotypenumbers": "strict",
          "coloraxis": {
           "colorbar": {
            "outlinewidth": 0,
            "ticks": ""
           }
          },
          "colorscale": {
           "diverging": [
            [
             0,
             "#8e0152"
            ],
            [
             0.1,
             "#c51b7d"
            ],
            [
             0.2,
             "#de77ae"
            ],
            [
             0.3,
             "#f1b6da"
            ],
            [
             0.4,
             "#fde0ef"
            ],
            [
             0.5,
             "#f7f7f7"
            ],
            [
             0.6,
             "#e6f5d0"
            ],
            [
             0.7,
             "#b8e186"
            ],
            [
             0.8,
             "#7fbc41"
            ],
            [
             0.9,
             "#4d9221"
            ],
            [
             1,
             "#276419"
            ]
           ],
           "sequential": [
            [
             0,
             "#0d0887"
            ],
            [
             0.1111111111111111,
             "#46039f"
            ],
            [
             0.2222222222222222,
             "#7201a8"
            ],
            [
             0.3333333333333333,
             "#9c179e"
            ],
            [
             0.4444444444444444,
             "#bd3786"
            ],
            [
             0.5555555555555556,
             "#d8576b"
            ],
            [
             0.6666666666666666,
             "#ed7953"
            ],
            [
             0.7777777777777778,
             "#fb9f3a"
            ],
            [
             0.8888888888888888,
             "#fdca26"
            ],
            [
             1,
             "#f0f921"
            ]
           ],
           "sequentialminus": [
            [
             0,
             "#0d0887"
            ],
            [
             0.1111111111111111,
             "#46039f"
            ],
            [
             0.2222222222222222,
             "#7201a8"
            ],
            [
             0.3333333333333333,
             "#9c179e"
            ],
            [
             0.4444444444444444,
             "#bd3786"
            ],
            [
             0.5555555555555556,
             "#d8576b"
            ],
            [
             0.6666666666666666,
             "#ed7953"
            ],
            [
             0.7777777777777778,
             "#fb9f3a"
            ],
            [
             0.8888888888888888,
             "#fdca26"
            ],
            [
             1,
             "#f0f921"
            ]
           ]
          },
          "colorway": [
           "#636efa",
           "#EF553B",
           "#00cc96",
           "#ab63fa",
           "#FFA15A",
           "#19d3f3",
           "#FF6692",
           "#B6E880",
           "#FF97FF",
           "#FECB52"
          ],
          "font": {
           "color": "#2a3f5f"
          },
          "geo": {
           "bgcolor": "white",
           "lakecolor": "white",
           "landcolor": "#E5ECF6",
           "showlakes": true,
           "showland": true,
           "subunitcolor": "white"
          },
          "hoverlabel": {
           "align": "left"
          },
          "hovermode": "closest",
          "mapbox": {
           "style": "light"
          },
          "paper_bgcolor": "white",
          "plot_bgcolor": "#E5ECF6",
          "polar": {
           "angularaxis": {
            "gridcolor": "white",
            "linecolor": "white",
            "ticks": ""
           },
           "bgcolor": "#E5ECF6",
           "radialaxis": {
            "gridcolor": "white",
            "linecolor": "white",
            "ticks": ""
           }
          },
          "scene": {
           "xaxis": {
            "backgroundcolor": "#E5ECF6",
            "gridcolor": "white",
            "gridwidth": 2,
            "linecolor": "white",
            "showbackground": true,
            "ticks": "",
            "zerolinecolor": "white"
           },
           "yaxis": {
            "backgroundcolor": "#E5ECF6",
            "gridcolor": "white",
            "gridwidth": 2,
            "linecolor": "white",
            "showbackground": true,
            "ticks": "",
            "zerolinecolor": "white"
           },
           "zaxis": {
            "backgroundcolor": "#E5ECF6",
            "gridcolor": "white",
            "gridwidth": 2,
            "linecolor": "white",
            "showbackground": true,
            "ticks": "",
            "zerolinecolor": "white"
           }
          },
          "shapedefaults": {
           "line": {
            "color": "#2a3f5f"
           }
          },
          "ternary": {
           "aaxis": {
            "gridcolor": "white",
            "linecolor": "white",
            "ticks": ""
           },
           "baxis": {
            "gridcolor": "white",
            "linecolor": "white",
            "ticks": ""
           },
           "bgcolor": "#E5ECF6",
           "caxis": {
            "gridcolor": "white",
            "linecolor": "white",
            "ticks": ""
           }
          },
          "title": {
           "x": 0.05
          },
          "xaxis": {
           "automargin": true,
           "gridcolor": "white",
           "linecolor": "white",
           "ticks": "",
           "title": {
            "standoff": 15
           },
           "zerolinecolor": "white",
           "zerolinewidth": 2
          },
          "yaxis": {
           "automargin": true,
           "gridcolor": "white",
           "linecolor": "white",
           "ticks": "",
           "title": {
            "standoff": 15
           },
           "zerolinecolor": "white",
           "zerolinewidth": 2
          }
         }
        },
        "title": {
         "text": "Sentiment Trends Over Time"
        },
        "xaxis": {
         "anchor": "y",
         "domain": [
          0,
          1
         ],
         "title": {
          "text": "Date"
         }
        },
        "yaxis": {
         "anchor": "x",
         "domain": [
          0,
          1
         ],
         "title": {
          "text": "Sentiment Score"
         }
        }
       }
      }
     },
     "metadata": {},
     "output_type": "display_data"
    }
   ],
   "source": [
    "\n",
    "# Calculate the average sentiment score for each date\n",
    "average_sentiment_by_date = df.groupby('date')['Sentiment'].mean().reset_index()\n",
    "\n",
    "# Plot the sentiment trends over time with plotly.\n",
    "fig = px.line(average_sentiment_by_date, x='date', y='Sentiment')\n",
    "fig.update_layout(title='Sentiment Trends Over Time', xaxis_title='Date', yaxis_title='Sentiment Score')\n",
    "fig.show()"
   ]
  },
  {
   "cell_type": "code",
   "execution_count": 397,
   "metadata": {},
   "outputs": [
    {
     "data": {
      "application/vnd.plotly.v1+json": {
       "config": {
        "plotlyServerURL": "https://plot.ly"
       },
       "data": [
        {
         "hovertemplate": "Location=California<br>date=%{x}<br>CompoundScore=%{y}<extra></extra>",
         "legendgroup": "California",
         "line": {
          "color": "#636efa",
          "dash": "solid"
         },
         "marker": {
          "symbol": "circle"
         },
         "mode": "lines",
         "name": "California",
         "orientation": "v",
         "showlegend": true,
         "type": "scatter",
         "x": [
          "2018-08-03T00:00:00",
          "2018-08-07T00:00:00",
          "2018-08-10T00:00:00",
          "2018-09-01T00:00:00",
          "2018-09-18T00:00:00",
          "2018-09-20T00:00:00",
          "2018-10-02T00:00:00",
          "2018-10-07T00:00:00",
          "2018-10-14T00:00:00",
          "2018-10-16T00:00:00",
          "2018-10-22T00:00:00",
          "2018-10-25T00:00:00",
          "2018-11-03T00:00:00",
          "2018-11-13T00:00:00",
          "2019-01-28T00:00:00",
          "2019-03-21T00:00:00",
          "2019-08-04T00:00:00",
          "2019-08-19T00:00:00"
         ],
         "xaxis": "x",
         "y": [
          0.4215,
          0.6369,
          0.7435,
          -0.264,
          0.9136,
          0.9674,
          0.3612,
          0,
          0.61895,
          -0.5559,
          0.6908,
          0.8074,
          0.1635,
          -0.1027,
          0.4939,
          0.9169,
          0.9422,
          0.872
         ],
         "yaxis": "y"
        },
        {
         "hovertemplate": "Location=Canada<br>date=%{x}<br>CompoundScore=%{y}<extra></extra>",
         "legendgroup": "Canada",
         "line": {
          "color": "#EF553B",
          "dash": "solid"
         },
         "marker": {
          "symbol": "circle"
         },
         "mode": "lines",
         "name": "Canada",
         "orientation": "v",
         "showlegend": true,
         "type": "scatter",
         "x": [
          "2018-10-26T00:00:00",
          "2018-11-03T00:00:00",
          "2018-11-08T00:00:00",
          "2018-11-27T00:00:00",
          "2018-12-29T00:00:00",
          "2019-01-07T00:00:00",
          "2019-07-17T00:00:00",
          "2019-07-19T00:00:00",
          "2019-07-28T00:00:00",
          "2019-07-29T00:00:00",
          "2019-08-05T00:00:00",
          "2019-08-08T00:00:00",
          "2019-08-09T00:00:00",
          "2019-08-14T00:00:00"
         ],
         "xaxis": "x",
         "y": [
          0.969,
          0.9022,
          0.7906,
          0.765,
          -0.3089,
          0,
          0.946,
          0.6249,
          -0.128,
          0,
          0.136,
          0.8222499999999999,
          0,
          0.4404
         ],
         "yaxis": "y"
        },
        {
         "hovertemplate": "Location=New York<br>date=%{x}<br>CompoundScore=%{y}<extra></extra>",
         "legendgroup": "New York",
         "line": {
          "color": "#00cc96",
          "dash": "solid"
         },
         "marker": {
          "symbol": "circle"
         },
         "mode": "lines",
         "name": "New York",
         "orientation": "v",
         "showlegend": true,
         "type": "scatter",
         "x": [
          "2018-08-04T00:00:00",
          "2018-08-12T00:00:00",
          "2018-08-15T00:00:00",
          "2018-08-25T00:00:00",
          "2018-09-02T00:00:00",
          "2018-09-04T00:00:00",
          "2018-09-08T00:00:00",
          "2018-09-11T00:00:00",
          "2018-09-23T00:00:00",
          "2018-10-02T00:00:00",
          "2018-10-03T00:00:00",
          "2018-10-11T00:00:00",
          "2018-10-16T00:00:00",
          "2018-10-20T00:00:00",
          "2018-10-22T00:00:00",
          "2018-10-30T00:00:00",
          "2018-11-02T00:00:00",
          "2018-11-04T00:00:00",
          "2018-11-13T00:00:00",
          "2018-11-14T00:00:00",
          "2018-11-18T00:00:00",
          "2018-11-29T00:00:00",
          "2018-12-14T00:00:00",
          "2019-01-02T00:00:00",
          "2019-02-21T00:00:00",
          "2019-03-20T00:00:00",
          "2019-04-12T00:00:00",
          "2019-04-13T00:00:00",
          "2019-04-14T00:00:00",
          "2019-04-29T00:00:00",
          "2019-07-08T00:00:00",
          "2019-07-09T00:00:00",
          "2019-08-05T00:00:00",
          "2019-08-09T00:00:00"
         ],
         "xaxis": "x",
         "y": [
          0.9805,
          0.8658,
          -0.0516,
          -0.1027,
          0.4019,
          0.1779,
          0,
          0.3612,
          0.6808,
          0.9081,
          0.6597,
          0.7906,
          0.8402,
          0.4767,
          -0.6908,
          0,
          0.4588,
          0.8316,
          0.8225,
          0.25,
          0.6486,
          0.8807,
          0.3182,
          0.9001,
          0.9501,
          -0.4588,
          0.4215,
          0.4019,
          0.6249,
          -0.3971,
          0.9825,
          0.8555,
          -0.3632,
          0
         ],
         "yaxis": "y"
        },
        {
         "hovertemplate": "Location=San Jose<br>date=%{x}<br>CompoundScore=%{y}<extra></extra>",
         "legendgroup": "San Jose",
         "line": {
          "color": "#ab63fa",
          "dash": "solid"
         },
         "marker": {
          "symbol": "circle"
         },
         "mode": "lines",
         "name": "San Jose",
         "orientation": "v",
         "showlegend": true,
         "type": "scatter",
         "x": [
          "2018-08-04T00:00:00",
          "2018-08-05T00:00:00",
          "2018-08-21T00:00:00",
          "2018-08-25T00:00:00",
          "2018-09-04T00:00:00",
          "2018-09-09T00:00:00",
          "2018-09-10T00:00:00",
          "2018-09-26T00:00:00",
          "2018-10-05T00:00:00",
          "2018-10-09T00:00:00",
          "2018-11-06T00:00:00",
          "2018-11-07T00:00:00",
          "2018-11-19T00:00:00",
          "2018-11-25T00:00:00",
          "2019-02-04T00:00:00",
          "2019-02-26T00:00:00",
          "2019-04-08T00:00:00",
          "2019-07-04T00:00:00"
         ],
         "xaxis": "x",
         "y": [
          -0.0516,
          0.6369,
          0.5574,
          0.5719,
          0.9413,
          0,
          0.8176,
          0.9001,
          0,
          0.4404,
          0.546,
          0.4404,
          0.8658,
          0.6096,
          0.7783,
          0.8591,
          0,
          -0.4449
         ],
         "yaxis": "y"
        },
        {
         "hovertemplate": "Location=United States of America<br>date=%{x}<br>CompoundScore=%{y}<extra></extra>",
         "legendgroup": "United States of America",
         "line": {
          "color": "#FFA15A",
          "dash": "solid"
         },
         "marker": {
          "symbol": "circle"
         },
         "mode": "lines",
         "name": "United States of America",
         "orientation": "v",
         "showlegend": true,
         "type": "scatter",
         "x": [
          "2019-07-10T00:00:00",
          "2019-07-12T00:00:00",
          "2019-07-13T00:00:00",
          "2019-07-14T00:00:00",
          "2019-07-15T00:00:00",
          "2019-07-16T00:00:00",
          "2019-07-18T00:00:00",
          "2019-07-19T00:00:00",
          "2019-07-20T00:00:00",
          "2019-07-21T00:00:00",
          "2019-07-22T00:00:00",
          "2019-07-23T00:00:00",
          "2019-07-24T00:00:00",
          "2019-07-25T00:00:00",
          "2019-07-26T00:00:00",
          "2019-07-27T00:00:00",
          "2019-07-28T00:00:00",
          "2019-07-29T00:00:00",
          "2019-07-30T00:00:00",
          "2019-07-31T00:00:00",
          "2019-08-01T00:00:00",
          "2019-08-02T00:00:00",
          "2019-08-03T00:00:00",
          "2019-08-04T00:00:00",
          "2019-08-05T00:00:00",
          "2019-08-06T00:00:00",
          "2019-08-07T00:00:00",
          "2019-08-08T00:00:00",
          "2019-08-09T00:00:00",
          "2019-08-10T00:00:00",
          "2019-08-11T00:00:00",
          "2019-08-12T00:00:00",
          "2019-08-13T00:00:00",
          "2019-08-15T00:00:00",
          "2019-08-16T00:00:00",
          "2019-08-17T00:00:00",
          "2019-08-18T00:00:00",
          "2019-08-19T00:00:00"
         ],
         "xaxis": "x",
         "y": [
          0.44173333333333337,
          0.4809,
          0.4215,
          -0.030149999999999982,
          0.613225,
          0.20095,
          0.5932,
          0.37726666666666664,
          0.2586333333333333,
          0.40854,
          0.4019,
          0.418,
          0.13749999999999998,
          0.8271,
          0.5161333333333333,
          0.31245,
          0,
          0.46115,
          0.5473250000000001,
          0.37789999999999996,
          -0.296,
          0.9805,
          0.5686,
          0.52,
          0.41850000000000004,
          0.20042500000000002,
          0.8330500000000001,
          0.42910000000000004,
          0.42825,
          -0.25,
          0.18889999999999998,
          0.079975,
          0.45452857142857145,
          0.5307999999999999,
          0.7709333333333334,
          0.03892499999999999,
          0.12158333333333333,
          0
         ],
         "yaxis": "y"
        }
       ],
       "layout": {
        "legend": {
         "title": {
          "text": "Location"
         },
         "tracegroupgap": 0
        },
        "margin": {
         "t": 60
        },
        "template": {
         "data": {
          "bar": [
           {
            "error_x": {
             "color": "#2a3f5f"
            },
            "error_y": {
             "color": "#2a3f5f"
            },
            "marker": {
             "line": {
              "color": "#E5ECF6",
              "width": 0.5
             },
             "pattern": {
              "fillmode": "overlay",
              "size": 10,
              "solidity": 0.2
             }
            },
            "type": "bar"
           }
          ],
          "barpolar": [
           {
            "marker": {
             "line": {
              "color": "#E5ECF6",
              "width": 0.5
             },
             "pattern": {
              "fillmode": "overlay",
              "size": 10,
              "solidity": 0.2
             }
            },
            "type": "barpolar"
           }
          ],
          "carpet": [
           {
            "aaxis": {
             "endlinecolor": "#2a3f5f",
             "gridcolor": "white",
             "linecolor": "white",
             "minorgridcolor": "white",
             "startlinecolor": "#2a3f5f"
            },
            "baxis": {
             "endlinecolor": "#2a3f5f",
             "gridcolor": "white",
             "linecolor": "white",
             "minorgridcolor": "white",
             "startlinecolor": "#2a3f5f"
            },
            "type": "carpet"
           }
          ],
          "choropleth": [
           {
            "colorbar": {
             "outlinewidth": 0,
             "ticks": ""
            },
            "type": "choropleth"
           }
          ],
          "contour": [
           {
            "colorbar": {
             "outlinewidth": 0,
             "ticks": ""
            },
            "colorscale": [
             [
              0,
              "#0d0887"
             ],
             [
              0.1111111111111111,
              "#46039f"
             ],
             [
              0.2222222222222222,
              "#7201a8"
             ],
             [
              0.3333333333333333,
              "#9c179e"
             ],
             [
              0.4444444444444444,
              "#bd3786"
             ],
             [
              0.5555555555555556,
              "#d8576b"
             ],
             [
              0.6666666666666666,
              "#ed7953"
             ],
             [
              0.7777777777777778,
              "#fb9f3a"
             ],
             [
              0.8888888888888888,
              "#fdca26"
             ],
             [
              1,
              "#f0f921"
             ]
            ],
            "type": "contour"
           }
          ],
          "contourcarpet": [
           {
            "colorbar": {
             "outlinewidth": 0,
             "ticks": ""
            },
            "type": "contourcarpet"
           }
          ],
          "heatmap": [
           {
            "colorbar": {
             "outlinewidth": 0,
             "ticks": ""
            },
            "colorscale": [
             [
              0,
              "#0d0887"
             ],
             [
              0.1111111111111111,
              "#46039f"
             ],
             [
              0.2222222222222222,
              "#7201a8"
             ],
             [
              0.3333333333333333,
              "#9c179e"
             ],
             [
              0.4444444444444444,
              "#bd3786"
             ],
             [
              0.5555555555555556,
              "#d8576b"
             ],
             [
              0.6666666666666666,
              "#ed7953"
             ],
             [
              0.7777777777777778,
              "#fb9f3a"
             ],
             [
              0.8888888888888888,
              "#fdca26"
             ],
             [
              1,
              "#f0f921"
             ]
            ],
            "type": "heatmap"
           }
          ],
          "heatmapgl": [
           {
            "colorbar": {
             "outlinewidth": 0,
             "ticks": ""
            },
            "colorscale": [
             [
              0,
              "#0d0887"
             ],
             [
              0.1111111111111111,
              "#46039f"
             ],
             [
              0.2222222222222222,
              "#7201a8"
             ],
             [
              0.3333333333333333,
              "#9c179e"
             ],
             [
              0.4444444444444444,
              "#bd3786"
             ],
             [
              0.5555555555555556,
              "#d8576b"
             ],
             [
              0.6666666666666666,
              "#ed7953"
             ],
             [
              0.7777777777777778,
              "#fb9f3a"
             ],
             [
              0.8888888888888888,
              "#fdca26"
             ],
             [
              1,
              "#f0f921"
             ]
            ],
            "type": "heatmapgl"
           }
          ],
          "histogram": [
           {
            "marker": {
             "pattern": {
              "fillmode": "overlay",
              "size": 10,
              "solidity": 0.2
             }
            },
            "type": "histogram"
           }
          ],
          "histogram2d": [
           {
            "colorbar": {
             "outlinewidth": 0,
             "ticks": ""
            },
            "colorscale": [
             [
              0,
              "#0d0887"
             ],
             [
              0.1111111111111111,
              "#46039f"
             ],
             [
              0.2222222222222222,
              "#7201a8"
             ],
             [
              0.3333333333333333,
              "#9c179e"
             ],
             [
              0.4444444444444444,
              "#bd3786"
             ],
             [
              0.5555555555555556,
              "#d8576b"
             ],
             [
              0.6666666666666666,
              "#ed7953"
             ],
             [
              0.7777777777777778,
              "#fb9f3a"
             ],
             [
              0.8888888888888888,
              "#fdca26"
             ],
             [
              1,
              "#f0f921"
             ]
            ],
            "type": "histogram2d"
           }
          ],
          "histogram2dcontour": [
           {
            "colorbar": {
             "outlinewidth": 0,
             "ticks": ""
            },
            "colorscale": [
             [
              0,
              "#0d0887"
             ],
             [
              0.1111111111111111,
              "#46039f"
             ],
             [
              0.2222222222222222,
              "#7201a8"
             ],
             [
              0.3333333333333333,
              "#9c179e"
             ],
             [
              0.4444444444444444,
              "#bd3786"
             ],
             [
              0.5555555555555556,
              "#d8576b"
             ],
             [
              0.6666666666666666,
              "#ed7953"
             ],
             [
              0.7777777777777778,
              "#fb9f3a"
             ],
             [
              0.8888888888888888,
              "#fdca26"
             ],
             [
              1,
              "#f0f921"
             ]
            ],
            "type": "histogram2dcontour"
           }
          ],
          "mesh3d": [
           {
            "colorbar": {
             "outlinewidth": 0,
             "ticks": ""
            },
            "type": "mesh3d"
           }
          ],
          "parcoords": [
           {
            "line": {
             "colorbar": {
              "outlinewidth": 0,
              "ticks": ""
             }
            },
            "type": "parcoords"
           }
          ],
          "pie": [
           {
            "automargin": true,
            "type": "pie"
           }
          ],
          "scatter": [
           {
            "fillpattern": {
             "fillmode": "overlay",
             "size": 10,
             "solidity": 0.2
            },
            "type": "scatter"
           }
          ],
          "scatter3d": [
           {
            "line": {
             "colorbar": {
              "outlinewidth": 0,
              "ticks": ""
             }
            },
            "marker": {
             "colorbar": {
              "outlinewidth": 0,
              "ticks": ""
             }
            },
            "type": "scatter3d"
           }
          ],
          "scattercarpet": [
           {
            "marker": {
             "colorbar": {
              "outlinewidth": 0,
              "ticks": ""
             }
            },
            "type": "scattercarpet"
           }
          ],
          "scattergeo": [
           {
            "marker": {
             "colorbar": {
              "outlinewidth": 0,
              "ticks": ""
             }
            },
            "type": "scattergeo"
           }
          ],
          "scattergl": [
           {
            "marker": {
             "colorbar": {
              "outlinewidth": 0,
              "ticks": ""
             }
            },
            "type": "scattergl"
           }
          ],
          "scattermapbox": [
           {
            "marker": {
             "colorbar": {
              "outlinewidth": 0,
              "ticks": ""
             }
            },
            "type": "scattermapbox"
           }
          ],
          "scatterpolar": [
           {
            "marker": {
             "colorbar": {
              "outlinewidth": 0,
              "ticks": ""
             }
            },
            "type": "scatterpolar"
           }
          ],
          "scatterpolargl": [
           {
            "marker": {
             "colorbar": {
              "outlinewidth": 0,
              "ticks": ""
             }
            },
            "type": "scatterpolargl"
           }
          ],
          "scatterternary": [
           {
            "marker": {
             "colorbar": {
              "outlinewidth": 0,
              "ticks": ""
             }
            },
            "type": "scatterternary"
           }
          ],
          "surface": [
           {
            "colorbar": {
             "outlinewidth": 0,
             "ticks": ""
            },
            "colorscale": [
             [
              0,
              "#0d0887"
             ],
             [
              0.1111111111111111,
              "#46039f"
             ],
             [
              0.2222222222222222,
              "#7201a8"
             ],
             [
              0.3333333333333333,
              "#9c179e"
             ],
             [
              0.4444444444444444,
              "#bd3786"
             ],
             [
              0.5555555555555556,
              "#d8576b"
             ],
             [
              0.6666666666666666,
              "#ed7953"
             ],
             [
              0.7777777777777778,
              "#fb9f3a"
             ],
             [
              0.8888888888888888,
              "#fdca26"
             ],
             [
              1,
              "#f0f921"
             ]
            ],
            "type": "surface"
           }
          ],
          "table": [
           {
            "cells": {
             "fill": {
              "color": "#EBF0F8"
             },
             "line": {
              "color": "white"
             }
            },
            "header": {
             "fill": {
              "color": "#C8D4E3"
             },
             "line": {
              "color": "white"
             }
            },
            "type": "table"
           }
          ]
         },
         "layout": {
          "annotationdefaults": {
           "arrowcolor": "#2a3f5f",
           "arrowhead": 0,
           "arrowwidth": 1
          },
          "autotypenumbers": "strict",
          "coloraxis": {
           "colorbar": {
            "outlinewidth": 0,
            "ticks": ""
           }
          },
          "colorscale": {
           "diverging": [
            [
             0,
             "#8e0152"
            ],
            [
             0.1,
             "#c51b7d"
            ],
            [
             0.2,
             "#de77ae"
            ],
            [
             0.3,
             "#f1b6da"
            ],
            [
             0.4,
             "#fde0ef"
            ],
            [
             0.5,
             "#f7f7f7"
            ],
            [
             0.6,
             "#e6f5d0"
            ],
            [
             0.7,
             "#b8e186"
            ],
            [
             0.8,
             "#7fbc41"
            ],
            [
             0.9,
             "#4d9221"
            ],
            [
             1,
             "#276419"
            ]
           ],
           "sequential": [
            [
             0,
             "#0d0887"
            ],
            [
             0.1111111111111111,
             "#46039f"
            ],
            [
             0.2222222222222222,
             "#7201a8"
            ],
            [
             0.3333333333333333,
             "#9c179e"
            ],
            [
             0.4444444444444444,
             "#bd3786"
            ],
            [
             0.5555555555555556,
             "#d8576b"
            ],
            [
             0.6666666666666666,
             "#ed7953"
            ],
            [
             0.7777777777777778,
             "#fb9f3a"
            ],
            [
             0.8888888888888888,
             "#fdca26"
            ],
            [
             1,
             "#f0f921"
            ]
           ],
           "sequentialminus": [
            [
             0,
             "#0d0887"
            ],
            [
             0.1111111111111111,
             "#46039f"
            ],
            [
             0.2222222222222222,
             "#7201a8"
            ],
            [
             0.3333333333333333,
             "#9c179e"
            ],
            [
             0.4444444444444444,
             "#bd3786"
            ],
            [
             0.5555555555555556,
             "#d8576b"
            ],
            [
             0.6666666666666666,
             "#ed7953"
            ],
            [
             0.7777777777777778,
             "#fb9f3a"
            ],
            [
             0.8888888888888888,
             "#fdca26"
            ],
            [
             1,
             "#f0f921"
            ]
           ]
          },
          "colorway": [
           "#636efa",
           "#EF553B",
           "#00cc96",
           "#ab63fa",
           "#FFA15A",
           "#19d3f3",
           "#FF6692",
           "#B6E880",
           "#FF97FF",
           "#FECB52"
          ],
          "font": {
           "color": "#2a3f5f"
          },
          "geo": {
           "bgcolor": "white",
           "lakecolor": "white",
           "landcolor": "#E5ECF6",
           "showlakes": true,
           "showland": true,
           "subunitcolor": "white"
          },
          "hoverlabel": {
           "align": "left"
          },
          "hovermode": "closest",
          "mapbox": {
           "style": "light"
          },
          "paper_bgcolor": "white",
          "plot_bgcolor": "#E5ECF6",
          "polar": {
           "angularaxis": {
            "gridcolor": "white",
            "linecolor": "white",
            "ticks": ""
           },
           "bgcolor": "#E5ECF6",
           "radialaxis": {
            "gridcolor": "white",
            "linecolor": "white",
            "ticks": ""
           }
          },
          "scene": {
           "xaxis": {
            "backgroundcolor": "#E5ECF6",
            "gridcolor": "white",
            "gridwidth": 2,
            "linecolor": "white",
            "showbackground": true,
            "ticks": "",
            "zerolinecolor": "white"
           },
           "yaxis": {
            "backgroundcolor": "#E5ECF6",
            "gridcolor": "white",
            "gridwidth": 2,
            "linecolor": "white",
            "showbackground": true,
            "ticks": "",
            "zerolinecolor": "white"
           },
           "zaxis": {
            "backgroundcolor": "#E5ECF6",
            "gridcolor": "white",
            "gridwidth": 2,
            "linecolor": "white",
            "showbackground": true,
            "ticks": "",
            "zerolinecolor": "white"
           }
          },
          "shapedefaults": {
           "line": {
            "color": "#2a3f5f"
           }
          },
          "ternary": {
           "aaxis": {
            "gridcolor": "white",
            "linecolor": "white",
            "ticks": ""
           },
           "baxis": {
            "gridcolor": "white",
            "linecolor": "white",
            "ticks": ""
           },
           "bgcolor": "#E5ECF6",
           "caxis": {
            "gridcolor": "white",
            "linecolor": "white",
            "ticks": ""
           }
          },
          "title": {
           "x": 0.05
          },
          "xaxis": {
           "automargin": true,
           "gridcolor": "white",
           "linecolor": "white",
           "ticks": "",
           "title": {
            "standoff": 15
           },
           "zerolinecolor": "white",
           "zerolinewidth": 2
          },
          "yaxis": {
           "automargin": true,
           "gridcolor": "white",
           "linecolor": "white",
           "ticks": "",
           "title": {
            "standoff": 15
           },
           "zerolinecolor": "white",
           "zerolinewidth": 2
          }
         }
        },
        "title": {
         "text": "Sentiment Trends Over Time for Top {N} Locations"
        },
        "xaxis": {
         "anchor": "y",
         "domain": [
          0,
          1
         ],
         "title": {
          "text": "Date"
         }
        },
        "yaxis": {
         "anchor": "x",
         "domain": [
          0,
          1
         ],
         "title": {
          "text": "Sentiment Score"
         }
        }
       }
      }
     },
     "metadata": {},
     "output_type": "display_data"
    }
   ],
   "source": [
    "# for 5 location show seniment trends over time\n",
    "N = 5\n",
    "top_locations = df['Location'].value_counts().nlargest(N).index\n",
    "\n",
    "# Filter the DataFrame to include only the top N locations\n",
    "df_top_locations = df[df['Location'].isin(top_locations)]\n",
    "\n",
    "# Calculate the average sentiment score for each date\n",
    "average_sentiment_by_date = df_top_locations.groupby(['Location', 'date'])['CompoundScore'].mean().reset_index()\n",
    "\n",
    "# Plot the sentiment trends over time with plotly.\n",
    "fig = px.line(average_sentiment_by_date, x='date', y='CompoundScore', color='Location')\n",
    "fig.update_layout(title='Sentiment Trends Over Time for Top {N} Locations', xaxis_title='Date', yaxis_title='Sentiment Score')\n",
    "fig.show()\n"
   ]
  },
  {
   "cell_type": "markdown",
   "metadata": {},
   "source": [
    "==> Common Words in Positive and Negative Revies."
   ]
  },
  {
   "cell_type": "code",
   "execution_count": 398,
   "metadata": {},
   "outputs": [
    {
     "name": "stdout",
     "output_type": "stream",
     "text": [
      "Common words in Positive reviews:\n",
      "room: 897\n",
      "hotel: 602\n",
      "staff: 478\n",
      "great: 420\n",
      "stay: 407\n",
      "clean: 405\n",
      "locat: 395\n",
      "nice: 358\n",
      "good: 220\n",
      "friendli: 215\n",
      "Common words in Negative reviews:\n",
      "room: 359\n",
      "hotel: 188\n",
      "check: 89\n",
      "stay: 88\n",
      "staff: 86\n",
      "park: 79\n",
      "de: 70\n",
      "time: 68\n",
      "bed: 61\n",
      "desk: 59\n"
     ]
    }
   ],
   "source": [
    "from nltk.tokenize import word_tokenize\n",
    "from nltk.corpus import stopwords\n",
    "from nltk.probability import FreqDist\n",
    "\n",
    "negative_reviews = df[df['Sentiment'] == 0]['Review']\n",
    "positive_reviews = df[df['Sentiment'] == 1]['Review']\n",
    "\n",
    "# Combine all reviews into a single text by sentiment\n",
    "negative_text = ' '.join(negative_reviews)\n",
    "positive_text = ' '.join(positive_reviews)\n",
    "\n",
    "# Tokenize the text into words\n",
    "negative_tokens = word_tokenize(negative_text)\n",
    "positive_token = word_tokenize(positive_text)\n",
    "\n",
    "# Remove stopwords\n",
    "stop_words = set(stopwords.words('english'))\n",
    "\n",
    "filtered_negative_tokens = [word.lower() for word in negative_tokens if word.isalpha() and word.lower() not in stop_words]\n",
    "\n",
    "filtered_positive_tokens = [word.lower() for word in positive_token if word.isalpha() and word.lower() not in stop_words]\n",
    "\n",
    "# Calculate the frequency distribution of words\n",
    "negative_freq_dist = FreqDist(filtered_negative_tokens)\n",
    "positive_freq_dist = FreqDist(filtered_positive_tokens)\n",
    "\n",
    "# Get the most common words in reviews\n",
    "negative_common_words = negative_freq_dist.most_common(10) \n",
    "positive_common_words = positive_freq_dist.most_common(10) \n",
    "\n",
    "print(\"Common words in Positive reviews:\")\n",
    "for word, frequency in positive_common_words:\n",
    "    print(f\"{word}: {frequency}\")\n",
    "\n",
    "print(\"Common words in Negative reviews:\")\n",
    "for word, frequency in negative_common_words:\n",
    "    print(f\"{word}: {frequency}\")\n"
   ]
  },
  {
   "cell_type": "code",
   "execution_count": 399,
   "metadata": {},
   "outputs": [
    {
     "data": {
      "image/png": "[encoded data removed]",
      "text/plain": [
       "<Figure size 1200x1000 with 1 Axes>"
      ]
     },
     "metadata": {},
     "output_type": "display_data"
    },
    {
     "data": {
      "image/png": "[encoded data removed]",
      "text/plain": [
       "<Figure size 1200x1000 with 1 Axes>"
      ]
     },
     "metadata": {},
     "output_type": "display_data"
    }
   ],
   "source": [
    "from wordcloud import WordCloud\n",
    "\n",
    "# Generate word cloud for positive reviews\n",
    "wordcloud = WordCloud(width=800, height=400, max_words=100).generate_from_frequencies(positive_freq_dist)\n",
    "plt.figure(figsize=(12,10))\n",
    "plt.imshow(wordcloud, interpolation='bilinear')\n",
    "plt.title(\"Positive Review Word cloud\")\n",
    "plt.axis(\"off\")\n",
    "plt.show()\n",
    "\n",
    "# Generate word cloud for negative reviews\n",
    "wordcloud = WordCloud(width=800, height=400, max_words=100).generate_from_frequencies(negative_freq_dist)\n",
    "plt.figure(figsize=(12,10))\n",
    "plt.imshow(wordcloud, interpolation='bilinear')\n",
    "plt.title(\"Negative Review Word cloud\")\n",
    "plt.axis(\"off\")\n",
    "plt.show()\n"
   ]
  }
 ],
 "metadata": {
  "kernelspec": {
   "display_name": "Python 3",
   "language": "python",
   "name": "python3"
  },
  "language_info": {
   "codemirror_mode": {
    "name": "ipython",
    "version": 3
   },
   "file_extension": ".py",
   "mimetype": "text/x-python",
   "name": "python",
   "nbconvert_exporter": "python",
   "pygments_lexer": "ipython3",
   "version": "3.11.2"
  }
 },
 "nbformat": 4,
 "nbformat_minor": 2
}
